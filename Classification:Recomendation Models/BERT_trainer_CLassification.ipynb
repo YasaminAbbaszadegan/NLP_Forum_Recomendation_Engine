{
  "nbformat": 4,
  "nbformat_minor": 0,
  "metadata": {
    "colab": {
      "name": " BERT_trainer_CLassification.ipynb",
      "provenance": [],
      "collapsed_sections": [],
      "toc_visible": true
    },
    "kernelspec": {
      "name": "python3",
      "display_name": "Python 3"
    },
    "accelerator": "GPU",
    "widgets": {
      "application/vnd.jupyter.widget-state+json": {
        "33b912489c674e2e8aa5a2f8079713f8": {
          "model_module": "@jupyter-widgets/controls",
          "model_name": "HBoxModel",
          "state": {
            "_view_name": "HBoxView",
            "_dom_classes": [],
            "_model_name": "HBoxModel",
            "_view_module": "@jupyter-widgets/controls",
            "_model_module_version": "1.5.0",
            "_view_count": null,
            "_view_module_version": "1.5.0",
            "box_style": "",
            "layout": "IPY_MODEL_0f7aeda5e6db4b1890dd58dc0373b10f",
            "_model_module": "@jupyter-widgets/controls",
            "children": [
              "IPY_MODEL_5dfed7cf71a34adea8db9350b4d6e232",
              "IPY_MODEL_3f861212594d4ab78856d864aa4bf63a"
            ]
          }
        },
        "0f7aeda5e6db4b1890dd58dc0373b10f": {
          "model_module": "@jupyter-widgets/base",
          "model_name": "LayoutModel",
          "state": {
            "_view_name": "LayoutView",
            "grid_template_rows": null,
            "right": null,
            "justify_content": null,
            "_view_module": "@jupyter-widgets/base",
            "overflow": null,
            "_model_module_version": "1.2.0",
            "_view_count": null,
            "flex_flow": null,
            "width": null,
            "min_width": null,
            "border": null,
            "align_items": null,
            "bottom": null,
            "_model_module": "@jupyter-widgets/base",
            "top": null,
            "grid_column": null,
            "overflow_y": null,
            "overflow_x": null,
            "grid_auto_flow": null,
            "grid_area": null,
            "grid_template_columns": null,
            "flex": null,
            "_model_name": "LayoutModel",
            "justify_items": null,
            "grid_row": null,
            "max_height": null,
            "align_content": null,
            "visibility": null,
            "align_self": null,
            "height": null,
            "min_height": null,
            "padding": null,
            "grid_auto_rows": null,
            "grid_gap": null,
            "max_width": null,
            "order": null,
            "_view_module_version": "1.2.0",
            "grid_template_areas": null,
            "object_position": null,
            "object_fit": null,
            "grid_auto_columns": null,
            "margin": null,
            "display": null,
            "left": null
          }
        },
        "5dfed7cf71a34adea8db9350b4d6e232": {
          "model_module": "@jupyter-widgets/controls",
          "model_name": "FloatProgressModel",
          "state": {
            "_view_name": "ProgressView",
            "style": "IPY_MODEL_8c64db5076c341fca6dafe934203f381",
            "_dom_classes": [],
            "description": "Epoch: 100%",
            "_model_name": "FloatProgressModel",
            "bar_style": "success",
            "max": 3,
            "_view_module": "@jupyter-widgets/controls",
            "_model_module_version": "1.5.0",
            "value": 3,
            "_view_count": null,
            "_view_module_version": "1.5.0",
            "orientation": "horizontal",
            "min": 0,
            "description_tooltip": null,
            "_model_module": "@jupyter-widgets/controls",
            "layout": "IPY_MODEL_7ff17404a3d74e30a77831cf1433016d"
          }
        },
        "3f861212594d4ab78856d864aa4bf63a": {
          "model_module": "@jupyter-widgets/controls",
          "model_name": "HTMLModel",
          "state": {
            "_view_name": "HTMLView",
            "style": "IPY_MODEL_11d9b56bec594fe7ac077b0bc39fff46",
            "_dom_classes": [],
            "description": "",
            "_model_name": "HTMLModel",
            "placeholder": "​",
            "_view_module": "@jupyter-widgets/controls",
            "_model_module_version": "1.5.0",
            "value": " 3/3 [07:17&lt;00:00, 145.86s/it]",
            "_view_count": null,
            "_view_module_version": "1.5.0",
            "description_tooltip": null,
            "_model_module": "@jupyter-widgets/controls",
            "layout": "IPY_MODEL_52c4d3fcf76845f48dfba9b7827fdcc1"
          }
        },
        "8c64db5076c341fca6dafe934203f381": {
          "model_module": "@jupyter-widgets/controls",
          "model_name": "ProgressStyleModel",
          "state": {
            "_view_name": "StyleView",
            "_model_name": "ProgressStyleModel",
            "description_width": "initial",
            "_view_module": "@jupyter-widgets/base",
            "_model_module_version": "1.5.0",
            "_view_count": null,
            "_view_module_version": "1.2.0",
            "bar_color": null,
            "_model_module": "@jupyter-widgets/controls"
          }
        },
        "7ff17404a3d74e30a77831cf1433016d": {
          "model_module": "@jupyter-widgets/base",
          "model_name": "LayoutModel",
          "state": {
            "_view_name": "LayoutView",
            "grid_template_rows": null,
            "right": null,
            "justify_content": null,
            "_view_module": "@jupyter-widgets/base",
            "overflow": null,
            "_model_module_version": "1.2.0",
            "_view_count": null,
            "flex_flow": null,
            "width": null,
            "min_width": null,
            "border": null,
            "align_items": null,
            "bottom": null,
            "_model_module": "@jupyter-widgets/base",
            "top": null,
            "grid_column": null,
            "overflow_y": null,
            "overflow_x": null,
            "grid_auto_flow": null,
            "grid_area": null,
            "grid_template_columns": null,
            "flex": null,
            "_model_name": "LayoutModel",
            "justify_items": null,
            "grid_row": null,
            "max_height": null,
            "align_content": null,
            "visibility": null,
            "align_self": null,
            "height": null,
            "min_height": null,
            "padding": null,
            "grid_auto_rows": null,
            "grid_gap": null,
            "max_width": null,
            "order": null,
            "_view_module_version": "1.2.0",
            "grid_template_areas": null,
            "object_position": null,
            "object_fit": null,
            "grid_auto_columns": null,
            "margin": null,
            "display": null,
            "left": null
          }
        },
        "11d9b56bec594fe7ac077b0bc39fff46": {
          "model_module": "@jupyter-widgets/controls",
          "model_name": "DescriptionStyleModel",
          "state": {
            "_view_name": "StyleView",
            "_model_name": "DescriptionStyleModel",
            "description_width": "",
            "_view_module": "@jupyter-widgets/base",
            "_model_module_version": "1.5.0",
            "_view_count": null,
            "_view_module_version": "1.2.0",
            "_model_module": "@jupyter-widgets/controls"
          }
        },
        "52c4d3fcf76845f48dfba9b7827fdcc1": {
          "model_module": "@jupyter-widgets/base",
          "model_name": "LayoutModel",
          "state": {
            "_view_name": "LayoutView",
            "grid_template_rows": null,
            "right": null,
            "justify_content": null,
            "_view_module": "@jupyter-widgets/base",
            "overflow": null,
            "_model_module_version": "1.2.0",
            "_view_count": null,
            "flex_flow": null,
            "width": null,
            "min_width": null,
            "border": null,
            "align_items": null,
            "bottom": null,
            "_model_module": "@jupyter-widgets/base",
            "top": null,
            "grid_column": null,
            "overflow_y": null,
            "overflow_x": null,
            "grid_auto_flow": null,
            "grid_area": null,
            "grid_template_columns": null,
            "flex": null,
            "_model_name": "LayoutModel",
            "justify_items": null,
            "grid_row": null,
            "max_height": null,
            "align_content": null,
            "visibility": null,
            "align_self": null,
            "height": null,
            "min_height": null,
            "padding": null,
            "grid_auto_rows": null,
            "grid_gap": null,
            "max_width": null,
            "order": null,
            "_view_module_version": "1.2.0",
            "grid_template_areas": null,
            "object_position": null,
            "object_fit": null,
            "grid_auto_columns": null,
            "margin": null,
            "display": null,
            "left": null
          }
        },
        "2073e798331d49728fc9c8e9fd9e9132": {
          "model_module": "@jupyter-widgets/controls",
          "model_name": "HBoxModel",
          "state": {
            "_view_name": "HBoxView",
            "_dom_classes": [],
            "_model_name": "HBoxModel",
            "_view_module": "@jupyter-widgets/controls",
            "_model_module_version": "1.5.0",
            "_view_count": null,
            "_view_module_version": "1.5.0",
            "box_style": "",
            "layout": "IPY_MODEL_99be7b9b045948deaefe8f4d749d01da",
            "_model_module": "@jupyter-widgets/controls",
            "children": [
              "IPY_MODEL_9b47c134a3674461b6a160646b6db12a",
              "IPY_MODEL_30716d3e572b4d2d9cfaac01ddf67918"
            ]
          }
        },
        "99be7b9b045948deaefe8f4d749d01da": {
          "model_module": "@jupyter-widgets/base",
          "model_name": "LayoutModel",
          "state": {
            "_view_name": "LayoutView",
            "grid_template_rows": null,
            "right": null,
            "justify_content": null,
            "_view_module": "@jupyter-widgets/base",
            "overflow": null,
            "_model_module_version": "1.2.0",
            "_view_count": null,
            "flex_flow": null,
            "width": null,
            "min_width": null,
            "border": null,
            "align_items": null,
            "bottom": null,
            "_model_module": "@jupyter-widgets/base",
            "top": null,
            "grid_column": null,
            "overflow_y": null,
            "overflow_x": null,
            "grid_auto_flow": null,
            "grid_area": null,
            "grid_template_columns": null,
            "flex": null,
            "_model_name": "LayoutModel",
            "justify_items": null,
            "grid_row": null,
            "max_height": null,
            "align_content": null,
            "visibility": null,
            "align_self": null,
            "height": null,
            "min_height": null,
            "padding": null,
            "grid_auto_rows": null,
            "grid_gap": null,
            "max_width": null,
            "order": null,
            "_view_module_version": "1.2.0",
            "grid_template_areas": null,
            "object_position": null,
            "object_fit": null,
            "grid_auto_columns": null,
            "margin": null,
            "display": null,
            "left": null
          }
        },
        "9b47c134a3674461b6a160646b6db12a": {
          "model_module": "@jupyter-widgets/controls",
          "model_name": "FloatProgressModel",
          "state": {
            "_view_name": "ProgressView",
            "style": "IPY_MODEL_706b919633d2482cbcb56d9f383d8d6a",
            "_dom_classes": [],
            "description": "Iteration: 100%",
            "_model_name": "FloatProgressModel",
            "bar_style": "success",
            "max": 198,
            "_view_module": "@jupyter-widgets/controls",
            "_model_module_version": "1.5.0",
            "value": 198,
            "_view_count": null,
            "_view_module_version": "1.5.0",
            "orientation": "horizontal",
            "min": 0,
            "description_tooltip": null,
            "_model_module": "@jupyter-widgets/controls",
            "layout": "IPY_MODEL_3c502079a89c45e386f78b8781015e87"
          }
        },
        "30716d3e572b4d2d9cfaac01ddf67918": {
          "model_module": "@jupyter-widgets/controls",
          "model_name": "HTMLModel",
          "state": {
            "_view_name": "HTMLView",
            "style": "IPY_MODEL_0703333068e94898bb53a9a7e607f1a7",
            "_dom_classes": [],
            "description": "",
            "_model_name": "HTMLModel",
            "placeholder": "​",
            "_view_module": "@jupyter-widgets/controls",
            "_model_module_version": "1.5.0",
            "value": " 198/198 [06:02&lt;00:00,  1.83s/it]",
            "_view_count": null,
            "_view_module_version": "1.5.0",
            "description_tooltip": null,
            "_model_module": "@jupyter-widgets/controls",
            "layout": "IPY_MODEL_1be0cf7fdddc4b4cbc5234ae8f586818"
          }
        },
        "706b919633d2482cbcb56d9f383d8d6a": {
          "model_module": "@jupyter-widgets/controls",
          "model_name": "ProgressStyleModel",
          "state": {
            "_view_name": "StyleView",
            "_model_name": "ProgressStyleModel",
            "description_width": "initial",
            "_view_module": "@jupyter-widgets/base",
            "_model_module_version": "1.5.0",
            "_view_count": null,
            "_view_module_version": "1.2.0",
            "bar_color": null,
            "_model_module": "@jupyter-widgets/controls"
          }
        },
        "3c502079a89c45e386f78b8781015e87": {
          "model_module": "@jupyter-widgets/base",
          "model_name": "LayoutModel",
          "state": {
            "_view_name": "LayoutView",
            "grid_template_rows": null,
            "right": null,
            "justify_content": null,
            "_view_module": "@jupyter-widgets/base",
            "overflow": null,
            "_model_module_version": "1.2.0",
            "_view_count": null,
            "flex_flow": null,
            "width": null,
            "min_width": null,
            "border": null,
            "align_items": null,
            "bottom": null,
            "_model_module": "@jupyter-widgets/base",
            "top": null,
            "grid_column": null,
            "overflow_y": null,
            "overflow_x": null,
            "grid_auto_flow": null,
            "grid_area": null,
            "grid_template_columns": null,
            "flex": null,
            "_model_name": "LayoutModel",
            "justify_items": null,
            "grid_row": null,
            "max_height": null,
            "align_content": null,
            "visibility": null,
            "align_self": null,
            "height": null,
            "min_height": null,
            "padding": null,
            "grid_auto_rows": null,
            "grid_gap": null,
            "max_width": null,
            "order": null,
            "_view_module_version": "1.2.0",
            "grid_template_areas": null,
            "object_position": null,
            "object_fit": null,
            "grid_auto_columns": null,
            "margin": null,
            "display": null,
            "left": null
          }
        },
        "0703333068e94898bb53a9a7e607f1a7": {
          "model_module": "@jupyter-widgets/controls",
          "model_name": "DescriptionStyleModel",
          "state": {
            "_view_name": "StyleView",
            "_model_name": "DescriptionStyleModel",
            "description_width": "",
            "_view_module": "@jupyter-widgets/base",
            "_model_module_version": "1.5.0",
            "_view_count": null,
            "_view_module_version": "1.2.0",
            "_model_module": "@jupyter-widgets/controls"
          }
        },
        "1be0cf7fdddc4b4cbc5234ae8f586818": {
          "model_module": "@jupyter-widgets/base",
          "model_name": "LayoutModel",
          "state": {
            "_view_name": "LayoutView",
            "grid_template_rows": null,
            "right": null,
            "justify_content": null,
            "_view_module": "@jupyter-widgets/base",
            "overflow": null,
            "_model_module_version": "1.2.0",
            "_view_count": null,
            "flex_flow": null,
            "width": null,
            "min_width": null,
            "border": null,
            "align_items": null,
            "bottom": null,
            "_model_module": "@jupyter-widgets/base",
            "top": null,
            "grid_column": null,
            "overflow_y": null,
            "overflow_x": null,
            "grid_auto_flow": null,
            "grid_area": null,
            "grid_template_columns": null,
            "flex": null,
            "_model_name": "LayoutModel",
            "justify_items": null,
            "grid_row": null,
            "max_height": null,
            "align_content": null,
            "visibility": null,
            "align_self": null,
            "height": null,
            "min_height": null,
            "padding": null,
            "grid_auto_rows": null,
            "grid_gap": null,
            "max_width": null,
            "order": null,
            "_view_module_version": "1.2.0",
            "grid_template_areas": null,
            "object_position": null,
            "object_fit": null,
            "grid_auto_columns": null,
            "margin": null,
            "display": null,
            "left": null
          }
        },
        "c0edcd7553da4e3890979ccde79581a0": {
          "model_module": "@jupyter-widgets/controls",
          "model_name": "HBoxModel",
          "state": {
            "_view_name": "HBoxView",
            "_dom_classes": [],
            "_model_name": "HBoxModel",
            "_view_module": "@jupyter-widgets/controls",
            "_model_module_version": "1.5.0",
            "_view_count": null,
            "_view_module_version": "1.5.0",
            "box_style": "",
            "layout": "IPY_MODEL_93e79c8c6b794a31a388f8729ce9840e",
            "_model_module": "@jupyter-widgets/controls",
            "children": [
              "IPY_MODEL_6f80a9ce7cd04aaa95ba6bf23984715f",
              "IPY_MODEL_ae1e9c7d635944c59c97f61cd0337286"
            ]
          }
        },
        "93e79c8c6b794a31a388f8729ce9840e": {
          "model_module": "@jupyter-widgets/base",
          "model_name": "LayoutModel",
          "state": {
            "_view_name": "LayoutView",
            "grid_template_rows": null,
            "right": null,
            "justify_content": null,
            "_view_module": "@jupyter-widgets/base",
            "overflow": null,
            "_model_module_version": "1.2.0",
            "_view_count": null,
            "flex_flow": null,
            "width": null,
            "min_width": null,
            "border": null,
            "align_items": null,
            "bottom": null,
            "_model_module": "@jupyter-widgets/base",
            "top": null,
            "grid_column": null,
            "overflow_y": null,
            "overflow_x": null,
            "grid_auto_flow": null,
            "grid_area": null,
            "grid_template_columns": null,
            "flex": null,
            "_model_name": "LayoutModel",
            "justify_items": null,
            "grid_row": null,
            "max_height": null,
            "align_content": null,
            "visibility": null,
            "align_self": null,
            "height": null,
            "min_height": null,
            "padding": null,
            "grid_auto_rows": null,
            "grid_gap": null,
            "max_width": null,
            "order": null,
            "_view_module_version": "1.2.0",
            "grid_template_areas": null,
            "object_position": null,
            "object_fit": null,
            "grid_auto_columns": null,
            "margin": null,
            "display": null,
            "left": null
          }
        },
        "6f80a9ce7cd04aaa95ba6bf23984715f": {
          "model_module": "@jupyter-widgets/controls",
          "model_name": "FloatProgressModel",
          "state": {
            "_view_name": "ProgressView",
            "style": "IPY_MODEL_ab8e2ff2f87c44b59b8f1a7c65ac3370",
            "_dom_classes": [],
            "description": "Iteration: 100%",
            "_model_name": "FloatProgressModel",
            "bar_style": "success",
            "max": 198,
            "_view_module": "@jupyter-widgets/controls",
            "_model_module_version": "1.5.0",
            "value": 198,
            "_view_count": null,
            "_view_module_version": "1.5.0",
            "orientation": "horizontal",
            "min": 0,
            "description_tooltip": null,
            "_model_module": "@jupyter-widgets/controls",
            "layout": "IPY_MODEL_e264770465a447d3a7aabf9efcf48415"
          }
        },
        "ae1e9c7d635944c59c97f61cd0337286": {
          "model_module": "@jupyter-widgets/controls",
          "model_name": "HTMLModel",
          "state": {
            "_view_name": "HTMLView",
            "style": "IPY_MODEL_bb83314eb09e46a792206b5eb329cc51",
            "_dom_classes": [],
            "description": "",
            "_model_name": "HTMLModel",
            "placeholder": "​",
            "_view_module": "@jupyter-widgets/controls",
            "_model_module_version": "1.5.0",
            "value": " 198/198 [03:41&lt;00:00,  1.12s/it]",
            "_view_count": null,
            "_view_module_version": "1.5.0",
            "description_tooltip": null,
            "_model_module": "@jupyter-widgets/controls",
            "layout": "IPY_MODEL_87ce2f9c2a3c448eaaabd150376056fa"
          }
        },
        "ab8e2ff2f87c44b59b8f1a7c65ac3370": {
          "model_module": "@jupyter-widgets/controls",
          "model_name": "ProgressStyleModel",
          "state": {
            "_view_name": "StyleView",
            "_model_name": "ProgressStyleModel",
            "description_width": "initial",
            "_view_module": "@jupyter-widgets/base",
            "_model_module_version": "1.5.0",
            "_view_count": null,
            "_view_module_version": "1.2.0",
            "bar_color": null,
            "_model_module": "@jupyter-widgets/controls"
          }
        },
        "e264770465a447d3a7aabf9efcf48415": {
          "model_module": "@jupyter-widgets/base",
          "model_name": "LayoutModel",
          "state": {
            "_view_name": "LayoutView",
            "grid_template_rows": null,
            "right": null,
            "justify_content": null,
            "_view_module": "@jupyter-widgets/base",
            "overflow": null,
            "_model_module_version": "1.2.0",
            "_view_count": null,
            "flex_flow": null,
            "width": null,
            "min_width": null,
            "border": null,
            "align_items": null,
            "bottom": null,
            "_model_module": "@jupyter-widgets/base",
            "top": null,
            "grid_column": null,
            "overflow_y": null,
            "overflow_x": null,
            "grid_auto_flow": null,
            "grid_area": null,
            "grid_template_columns": null,
            "flex": null,
            "_model_name": "LayoutModel",
            "justify_items": null,
            "grid_row": null,
            "max_height": null,
            "align_content": null,
            "visibility": null,
            "align_self": null,
            "height": null,
            "min_height": null,
            "padding": null,
            "grid_auto_rows": null,
            "grid_gap": null,
            "max_width": null,
            "order": null,
            "_view_module_version": "1.2.0",
            "grid_template_areas": null,
            "object_position": null,
            "object_fit": null,
            "grid_auto_columns": null,
            "margin": null,
            "display": null,
            "left": null
          }
        },
        "bb83314eb09e46a792206b5eb329cc51": {
          "model_module": "@jupyter-widgets/controls",
          "model_name": "DescriptionStyleModel",
          "state": {
            "_view_name": "StyleView",
            "_model_name": "DescriptionStyleModel",
            "description_width": "",
            "_view_module": "@jupyter-widgets/base",
            "_model_module_version": "1.5.0",
            "_view_count": null,
            "_view_module_version": "1.2.0",
            "_model_module": "@jupyter-widgets/controls"
          }
        },
        "87ce2f9c2a3c448eaaabd150376056fa": {
          "model_module": "@jupyter-widgets/base",
          "model_name": "LayoutModel",
          "state": {
            "_view_name": "LayoutView",
            "grid_template_rows": null,
            "right": null,
            "justify_content": null,
            "_view_module": "@jupyter-widgets/base",
            "overflow": null,
            "_model_module_version": "1.2.0",
            "_view_count": null,
            "flex_flow": null,
            "width": null,
            "min_width": null,
            "border": null,
            "align_items": null,
            "bottom": null,
            "_model_module": "@jupyter-widgets/base",
            "top": null,
            "grid_column": null,
            "overflow_y": null,
            "overflow_x": null,
            "grid_auto_flow": null,
            "grid_area": null,
            "grid_template_columns": null,
            "flex": null,
            "_model_name": "LayoutModel",
            "justify_items": null,
            "grid_row": null,
            "max_height": null,
            "align_content": null,
            "visibility": null,
            "align_self": null,
            "height": null,
            "min_height": null,
            "padding": null,
            "grid_auto_rows": null,
            "grid_gap": null,
            "max_width": null,
            "order": null,
            "_view_module_version": "1.2.0",
            "grid_template_areas": null,
            "object_position": null,
            "object_fit": null,
            "grid_auto_columns": null,
            "margin": null,
            "display": null,
            "left": null
          }
        },
        "d16ff3a040c14265ad8c59a57a6a8849": {
          "model_module": "@jupyter-widgets/controls",
          "model_name": "HBoxModel",
          "state": {
            "_view_name": "HBoxView",
            "_dom_classes": [],
            "_model_name": "HBoxModel",
            "_view_module": "@jupyter-widgets/controls",
            "_model_module_version": "1.5.0",
            "_view_count": null,
            "_view_module_version": "1.5.0",
            "box_style": "",
            "layout": "IPY_MODEL_aa6607eb855b453291270e395fb295dd",
            "_model_module": "@jupyter-widgets/controls",
            "children": [
              "IPY_MODEL_b96721e436874edca33a28bbf29438d3",
              "IPY_MODEL_09ca91303cfd4b2997dcfcdd28ba8bdd"
            ]
          }
        },
        "aa6607eb855b453291270e395fb295dd": {
          "model_module": "@jupyter-widgets/base",
          "model_name": "LayoutModel",
          "state": {
            "_view_name": "LayoutView",
            "grid_template_rows": null,
            "right": null,
            "justify_content": null,
            "_view_module": "@jupyter-widgets/base",
            "overflow": null,
            "_model_module_version": "1.2.0",
            "_view_count": null,
            "flex_flow": null,
            "width": null,
            "min_width": null,
            "border": null,
            "align_items": null,
            "bottom": null,
            "_model_module": "@jupyter-widgets/base",
            "top": null,
            "grid_column": null,
            "overflow_y": null,
            "overflow_x": null,
            "grid_auto_flow": null,
            "grid_area": null,
            "grid_template_columns": null,
            "flex": null,
            "_model_name": "LayoutModel",
            "justify_items": null,
            "grid_row": null,
            "max_height": null,
            "align_content": null,
            "visibility": null,
            "align_self": null,
            "height": null,
            "min_height": null,
            "padding": null,
            "grid_auto_rows": null,
            "grid_gap": null,
            "max_width": null,
            "order": null,
            "_view_module_version": "1.2.0",
            "grid_template_areas": null,
            "object_position": null,
            "object_fit": null,
            "grid_auto_columns": null,
            "margin": null,
            "display": null,
            "left": null
          }
        },
        "b96721e436874edca33a28bbf29438d3": {
          "model_module": "@jupyter-widgets/controls",
          "model_name": "FloatProgressModel",
          "state": {
            "_view_name": "ProgressView",
            "style": "IPY_MODEL_360bdc7d265344d4a2113c33aa1fafd7",
            "_dom_classes": [],
            "description": "Iteration: 100%",
            "_model_name": "FloatProgressModel",
            "bar_style": "success",
            "max": 198,
            "_view_module": "@jupyter-widgets/controls",
            "_model_module_version": "1.5.0",
            "value": 198,
            "_view_count": null,
            "_view_module_version": "1.5.0",
            "orientation": "horizontal",
            "min": 0,
            "description_tooltip": null,
            "_model_module": "@jupyter-widgets/controls",
            "layout": "IPY_MODEL_b1551e3a5ad742bbaa5481a8c6d61cc4"
          }
        },
        "09ca91303cfd4b2997dcfcdd28ba8bdd": {
          "model_module": "@jupyter-widgets/controls",
          "model_name": "HTMLModel",
          "state": {
            "_view_name": "HTMLView",
            "style": "IPY_MODEL_03e89eb2128c4f06b52e36854c608416",
            "_dom_classes": [],
            "description": "",
            "_model_name": "HTMLModel",
            "placeholder": "​",
            "_view_module": "@jupyter-widgets/controls",
            "_model_module_version": "1.5.0",
            "value": " 198/198 [02:31&lt;00:00,  1.30it/s]",
            "_view_count": null,
            "_view_module_version": "1.5.0",
            "description_tooltip": null,
            "_model_module": "@jupyter-widgets/controls",
            "layout": "IPY_MODEL_329c8310aad94158ada7d25fe90efebe"
          }
        },
        "360bdc7d265344d4a2113c33aa1fafd7": {
          "model_module": "@jupyter-widgets/controls",
          "model_name": "ProgressStyleModel",
          "state": {
            "_view_name": "StyleView",
            "_model_name": "ProgressStyleModel",
            "description_width": "initial",
            "_view_module": "@jupyter-widgets/base",
            "_model_module_version": "1.5.0",
            "_view_count": null,
            "_view_module_version": "1.2.0",
            "bar_color": null,
            "_model_module": "@jupyter-widgets/controls"
          }
        },
        "b1551e3a5ad742bbaa5481a8c6d61cc4": {
          "model_module": "@jupyter-widgets/base",
          "model_name": "LayoutModel",
          "state": {
            "_view_name": "LayoutView",
            "grid_template_rows": null,
            "right": null,
            "justify_content": null,
            "_view_module": "@jupyter-widgets/base",
            "overflow": null,
            "_model_module_version": "1.2.0",
            "_view_count": null,
            "flex_flow": null,
            "width": null,
            "min_width": null,
            "border": null,
            "align_items": null,
            "bottom": null,
            "_model_module": "@jupyter-widgets/base",
            "top": null,
            "grid_column": null,
            "overflow_y": null,
            "overflow_x": null,
            "grid_auto_flow": null,
            "grid_area": null,
            "grid_template_columns": null,
            "flex": null,
            "_model_name": "LayoutModel",
            "justify_items": null,
            "grid_row": null,
            "max_height": null,
            "align_content": null,
            "visibility": null,
            "align_self": null,
            "height": null,
            "min_height": null,
            "padding": null,
            "grid_auto_rows": null,
            "grid_gap": null,
            "max_width": null,
            "order": null,
            "_view_module_version": "1.2.0",
            "grid_template_areas": null,
            "object_position": null,
            "object_fit": null,
            "grid_auto_columns": null,
            "margin": null,
            "display": null,
            "left": null
          }
        },
        "03e89eb2128c4f06b52e36854c608416": {
          "model_module": "@jupyter-widgets/controls",
          "model_name": "DescriptionStyleModel",
          "state": {
            "_view_name": "StyleView",
            "_model_name": "DescriptionStyleModel",
            "description_width": "",
            "_view_module": "@jupyter-widgets/base",
            "_model_module_version": "1.5.0",
            "_view_count": null,
            "_view_module_version": "1.2.0",
            "_model_module": "@jupyter-widgets/controls"
          }
        },
        "329c8310aad94158ada7d25fe90efebe": {
          "model_module": "@jupyter-widgets/base",
          "model_name": "LayoutModel",
          "state": {
            "_view_name": "LayoutView",
            "grid_template_rows": null,
            "right": null,
            "justify_content": null,
            "_view_module": "@jupyter-widgets/base",
            "overflow": null,
            "_model_module_version": "1.2.0",
            "_view_count": null,
            "flex_flow": null,
            "width": null,
            "min_width": null,
            "border": null,
            "align_items": null,
            "bottom": null,
            "_model_module": "@jupyter-widgets/base",
            "top": null,
            "grid_column": null,
            "overflow_y": null,
            "overflow_x": null,
            "grid_auto_flow": null,
            "grid_area": null,
            "grid_template_columns": null,
            "flex": null,
            "_model_name": "LayoutModel",
            "justify_items": null,
            "grid_row": null,
            "max_height": null,
            "align_content": null,
            "visibility": null,
            "align_self": null,
            "height": null,
            "min_height": null,
            "padding": null,
            "grid_auto_rows": null,
            "grid_gap": null,
            "max_width": null,
            "order": null,
            "_view_module_version": "1.2.0",
            "grid_template_areas": null,
            "object_position": null,
            "object_fit": null,
            "grid_auto_columns": null,
            "margin": null,
            "display": null,
            "left": null
          }
        },
        "2049e9f2005b47b5942fca427a205ee9": {
          "model_module": "@jupyter-widgets/controls",
          "model_name": "HBoxModel",
          "state": {
            "_view_name": "HBoxView",
            "_dom_classes": [],
            "_model_name": "HBoxModel",
            "_view_module": "@jupyter-widgets/controls",
            "_model_module_version": "1.5.0",
            "_view_count": null,
            "_view_module_version": "1.5.0",
            "box_style": "",
            "layout": "IPY_MODEL_af895240ec9746d7a2e384b433db19da",
            "_model_module": "@jupyter-widgets/controls",
            "children": [
              "IPY_MODEL_0639d0ec355744c388aebc09a6d87fd3",
              "IPY_MODEL_8f22aa1647ab44b79b4b2ccb86f9372e"
            ]
          }
        },
        "af895240ec9746d7a2e384b433db19da": {
          "model_module": "@jupyter-widgets/base",
          "model_name": "LayoutModel",
          "state": {
            "_view_name": "LayoutView",
            "grid_template_rows": null,
            "right": null,
            "justify_content": null,
            "_view_module": "@jupyter-widgets/base",
            "overflow": null,
            "_model_module_version": "1.2.0",
            "_view_count": null,
            "flex_flow": null,
            "width": null,
            "min_width": null,
            "border": null,
            "align_items": null,
            "bottom": null,
            "_model_module": "@jupyter-widgets/base",
            "top": null,
            "grid_column": null,
            "overflow_y": null,
            "overflow_x": null,
            "grid_auto_flow": null,
            "grid_area": null,
            "grid_template_columns": null,
            "flex": null,
            "_model_name": "LayoutModel",
            "justify_items": null,
            "grid_row": null,
            "max_height": null,
            "align_content": null,
            "visibility": null,
            "align_self": null,
            "height": null,
            "min_height": null,
            "padding": null,
            "grid_auto_rows": null,
            "grid_gap": null,
            "max_width": null,
            "order": null,
            "_view_module_version": "1.2.0",
            "grid_template_areas": null,
            "object_position": null,
            "object_fit": null,
            "grid_auto_columns": null,
            "margin": null,
            "display": null,
            "left": null
          }
        },
        "0639d0ec355744c388aebc09a6d87fd3": {
          "model_module": "@jupyter-widgets/controls",
          "model_name": "FloatProgressModel",
          "state": {
            "_view_name": "ProgressView",
            "style": "IPY_MODEL_263dedf49c1c464e841c158a2123d311",
            "_dom_classes": [],
            "description": "Evaluation: 100%",
            "_model_name": "FloatProgressModel",
            "bar_style": "success",
            "max": 9,
            "_view_module": "@jupyter-widgets/controls",
            "_model_module_version": "1.5.0",
            "value": 9,
            "_view_count": null,
            "_view_module_version": "1.5.0",
            "orientation": "horizontal",
            "min": 0,
            "description_tooltip": null,
            "_model_module": "@jupyter-widgets/controls",
            "layout": "IPY_MODEL_cdee40d2b7d54200bbce6d8d39f8be7f"
          }
        },
        "8f22aa1647ab44b79b4b2ccb86f9372e": {
          "model_module": "@jupyter-widgets/controls",
          "model_name": "HTMLModel",
          "state": {
            "_view_name": "HTMLView",
            "style": "IPY_MODEL_89146163269a47078ec35643d878b59c",
            "_dom_classes": [],
            "description": "",
            "_model_name": "HTMLModel",
            "placeholder": "​",
            "_view_module": "@jupyter-widgets/controls",
            "_model_module_version": "1.5.0",
            "value": " 9/9 [06:42&lt;00:00, 44.68s/it]",
            "_view_count": null,
            "_view_module_version": "1.5.0",
            "description_tooltip": null,
            "_model_module": "@jupyter-widgets/controls",
            "layout": "IPY_MODEL_e65f246139604e8daa4b7661662f435f"
          }
        },
        "263dedf49c1c464e841c158a2123d311": {
          "model_module": "@jupyter-widgets/controls",
          "model_name": "ProgressStyleModel",
          "state": {
            "_view_name": "StyleView",
            "_model_name": "ProgressStyleModel",
            "description_width": "initial",
            "_view_module": "@jupyter-widgets/base",
            "_model_module_version": "1.5.0",
            "_view_count": null,
            "_view_module_version": "1.2.0",
            "bar_color": null,
            "_model_module": "@jupyter-widgets/controls"
          }
        },
        "cdee40d2b7d54200bbce6d8d39f8be7f": {
          "model_module": "@jupyter-widgets/base",
          "model_name": "LayoutModel",
          "state": {
            "_view_name": "LayoutView",
            "grid_template_rows": null,
            "right": null,
            "justify_content": null,
            "_view_module": "@jupyter-widgets/base",
            "overflow": null,
            "_model_module_version": "1.2.0",
            "_view_count": null,
            "flex_flow": null,
            "width": null,
            "min_width": null,
            "border": null,
            "align_items": null,
            "bottom": null,
            "_model_module": "@jupyter-widgets/base",
            "top": null,
            "grid_column": null,
            "overflow_y": null,
            "overflow_x": null,
            "grid_auto_flow": null,
            "grid_area": null,
            "grid_template_columns": null,
            "flex": null,
            "_model_name": "LayoutModel",
            "justify_items": null,
            "grid_row": null,
            "max_height": null,
            "align_content": null,
            "visibility": null,
            "align_self": null,
            "height": null,
            "min_height": null,
            "padding": null,
            "grid_auto_rows": null,
            "grid_gap": null,
            "max_width": null,
            "order": null,
            "_view_module_version": "1.2.0",
            "grid_template_areas": null,
            "object_position": null,
            "object_fit": null,
            "grid_auto_columns": null,
            "margin": null,
            "display": null,
            "left": null
          }
        },
        "89146163269a47078ec35643d878b59c": {
          "model_module": "@jupyter-widgets/controls",
          "model_name": "DescriptionStyleModel",
          "state": {
            "_view_name": "StyleView",
            "_model_name": "DescriptionStyleModel",
            "description_width": "",
            "_view_module": "@jupyter-widgets/base",
            "_model_module_version": "1.5.0",
            "_view_count": null,
            "_view_module_version": "1.2.0",
            "_model_module": "@jupyter-widgets/controls"
          }
        },
        "e65f246139604e8daa4b7661662f435f": {
          "model_module": "@jupyter-widgets/base",
          "model_name": "LayoutModel",
          "state": {
            "_view_name": "LayoutView",
            "grid_template_rows": null,
            "right": null,
            "justify_content": null,
            "_view_module": "@jupyter-widgets/base",
            "overflow": null,
            "_model_module_version": "1.2.0",
            "_view_count": null,
            "flex_flow": null,
            "width": null,
            "min_width": null,
            "border": null,
            "align_items": null,
            "bottom": null,
            "_model_module": "@jupyter-widgets/base",
            "top": null,
            "grid_column": null,
            "overflow_y": null,
            "overflow_x": null,
            "grid_auto_flow": null,
            "grid_area": null,
            "grid_template_columns": null,
            "flex": null,
            "_model_name": "LayoutModel",
            "justify_items": null,
            "grid_row": null,
            "max_height": null,
            "align_content": null,
            "visibility": null,
            "align_self": null,
            "height": null,
            "min_height": null,
            "padding": null,
            "grid_auto_rows": null,
            "grid_gap": null,
            "max_width": null,
            "order": null,
            "_view_module_version": "1.2.0",
            "grid_template_areas": null,
            "object_position": null,
            "object_fit": null,
            "grid_auto_columns": null,
            "margin": null,
            "display": null,
            "left": null
          }
        }
      }
    }
  },
  "cells": [
    {
      "cell_type": "markdown",
      "metadata": {
        "id": "_XTfDEtd5y-o"
      },
      "source": [
        "#Import Libraries\n"
      ]
    },
    {
      "cell_type": "code",
      "metadata": {
        "colab": {
          "base_uri": "https://localhost:8080/"
        },
        "id": "CQ8WPmZNfy5g",
        "outputId": "fe873d6a-4261-48c3-bd95-6790a777a3de"
      },
      "source": [
        "pip install transformers==3"
      ],
      "execution_count": null,
      "outputs": [
        {
          "output_type": "stream",
          "text": [
            "Collecting transformers==3\n",
            "\u001b[?25l  Downloading https://files.pythonhosted.org/packages/9c/35/1c3f6e62d81f5f0daff1384e6d5e6c5758682a8357ebc765ece2b9def62b/transformers-3.0.0-py3-none-any.whl (754kB)\n",
            "\r\u001b[K     |▍                               | 10kB 20.2MB/s eta 0:00:01\r\u001b[K     |▉                               | 20kB 25.7MB/s eta 0:00:01\r\u001b[K     |█▎                              | 30kB 25.5MB/s eta 0:00:01\r\u001b[K     |█▊                              | 40kB 28.9MB/s eta 0:00:01\r\u001b[K     |██▏                             | 51kB 27.1MB/s eta 0:00:01\r\u001b[K     |██▋                             | 61kB 29.4MB/s eta 0:00:01\r\u001b[K     |███                             | 71kB 21.8MB/s eta 0:00:01\r\u001b[K     |███▌                            | 81kB 22.7MB/s eta 0:00:01\r\u001b[K     |████                            | 92kB 21.0MB/s eta 0:00:01\r\u001b[K     |████▍                           | 102kB 20.5MB/s eta 0:00:01\r\u001b[K     |████▊                           | 112kB 20.5MB/s eta 0:00:01\r\u001b[K     |█████▏                          | 122kB 20.5MB/s eta 0:00:01\r\u001b[K     |█████▋                          | 133kB 20.5MB/s eta 0:00:01\r\u001b[K     |██████                          | 143kB 20.5MB/s eta 0:00:01\r\u001b[K     |██████▌                         | 153kB 20.5MB/s eta 0:00:01\r\u001b[K     |███████                         | 163kB 20.5MB/s eta 0:00:01\r\u001b[K     |███████▍                        | 174kB 20.5MB/s eta 0:00:01\r\u001b[K     |███████▉                        | 184kB 20.5MB/s eta 0:00:01\r\u001b[K     |████████▎                       | 194kB 20.5MB/s eta 0:00:01\r\u001b[K     |████████▊                       | 204kB 20.5MB/s eta 0:00:01\r\u001b[K     |█████████▏                      | 215kB 20.5MB/s eta 0:00:01\r\u001b[K     |█████████▌                      | 225kB 20.5MB/s eta 0:00:01\r\u001b[K     |██████████                      | 235kB 20.5MB/s eta 0:00:01\r\u001b[K     |██████████▍                     | 245kB 20.5MB/s eta 0:00:01\r\u001b[K     |██████████▉                     | 256kB 20.5MB/s eta 0:00:01\r\u001b[K     |███████████▎                    | 266kB 20.5MB/s eta 0:00:01\r\u001b[K     |███████████▊                    | 276kB 20.5MB/s eta 0:00:01\r\u001b[K     |████████████▏                   | 286kB 20.5MB/s eta 0:00:01\r\u001b[K     |████████████▋                   | 296kB 20.5MB/s eta 0:00:01\r\u001b[K     |█████████████                   | 307kB 20.5MB/s eta 0:00:01\r\u001b[K     |█████████████▌                  | 317kB 20.5MB/s eta 0:00:01\r\u001b[K     |██████████████                  | 327kB 20.5MB/s eta 0:00:01\r\u001b[K     |██████████████▎                 | 337kB 20.5MB/s eta 0:00:01\r\u001b[K     |██████████████▊                 | 348kB 20.5MB/s eta 0:00:01\r\u001b[K     |███████████████▏                | 358kB 20.5MB/s eta 0:00:01\r\u001b[K     |███████████████▋                | 368kB 20.5MB/s eta 0:00:01\r\u001b[K     |████████████████                | 378kB 20.5MB/s eta 0:00:01\r\u001b[K     |████████████████▌               | 389kB 20.5MB/s eta 0:00:01\r\u001b[K     |█████████████████               | 399kB 20.5MB/s eta 0:00:01\r\u001b[K     |█████████████████▍              | 409kB 20.5MB/s eta 0:00:01\r\u001b[K     |█████████████████▉              | 419kB 20.5MB/s eta 0:00:01\r\u001b[K     |██████████████████▎             | 430kB 20.5MB/s eta 0:00:01\r\u001b[K     |██████████████████▊             | 440kB 20.5MB/s eta 0:00:01\r\u001b[K     |███████████████████             | 450kB 20.5MB/s eta 0:00:01\r\u001b[K     |███████████████████▌            | 460kB 20.5MB/s eta 0:00:01\r\u001b[K     |████████████████████            | 471kB 20.5MB/s eta 0:00:01\r\u001b[K     |████████████████████▍           | 481kB 20.5MB/s eta 0:00:01\r\u001b[K     |████████████████████▉           | 491kB 20.5MB/s eta 0:00:01\r\u001b[K     |█████████████████████▎          | 501kB 20.5MB/s eta 0:00:01\r\u001b[K     |█████████████████████▊          | 512kB 20.5MB/s eta 0:00:01\r\u001b[K     |██████████████████████▏         | 522kB 20.5MB/s eta 0:00:01\r\u001b[K     |██████████████████████▋         | 532kB 20.5MB/s eta 0:00:01\r\u001b[K     |███████████████████████         | 542kB 20.5MB/s eta 0:00:01\r\u001b[K     |███████████████████████▌        | 552kB 20.5MB/s eta 0:00:01\r\u001b[K     |███████████████████████▉        | 563kB 20.5MB/s eta 0:00:01\r\u001b[K     |████████████████████████▎       | 573kB 20.5MB/s eta 0:00:01\r\u001b[K     |████████████████████████▊       | 583kB 20.5MB/s eta 0:00:01\r\u001b[K     |█████████████████████████▏      | 593kB 20.5MB/s eta 0:00:01\r\u001b[K     |█████████████████████████▋      | 604kB 20.5MB/s eta 0:00:01\r\u001b[K     |██████████████████████████      | 614kB 20.5MB/s eta 0:00:01\r\u001b[K     |██████████████████████████▌     | 624kB 20.5MB/s eta 0:00:01\r\u001b[K     |███████████████████████████     | 634kB 20.5MB/s eta 0:00:01\r\u001b[K     |███████████████████████████▍    | 645kB 20.5MB/s eta 0:00:01\r\u001b[K     |███████████████████████████▉    | 655kB 20.5MB/s eta 0:00:01\r\u001b[K     |████████████████████████████▎   | 665kB 20.5MB/s eta 0:00:01\r\u001b[K     |████████████████████████████▋   | 675kB 20.5MB/s eta 0:00:01\r\u001b[K     |█████████████████████████████   | 686kB 20.5MB/s eta 0:00:01\r\u001b[K     |█████████████████████████████▌  | 696kB 20.5MB/s eta 0:00:01\r\u001b[K     |██████████████████████████████  | 706kB 20.5MB/s eta 0:00:01\r\u001b[K     |██████████████████████████████▍ | 716kB 20.5MB/s eta 0:00:01\r\u001b[K     |██████████████████████████████▉ | 727kB 20.5MB/s eta 0:00:01\r\u001b[K     |███████████████████████████████▎| 737kB 20.5MB/s eta 0:00:01\r\u001b[K     |███████████████████████████████▊| 747kB 20.5MB/s eta 0:00:01\r\u001b[K     |████████████████████████████████| 757kB 20.5MB/s \n",
            "\u001b[?25hRequirement already satisfied: filelock in /usr/local/lib/python3.7/dist-packages (from transformers==3) (3.0.12)\n",
            "Collecting sentencepiece\n",
            "\u001b[?25l  Downloading https://files.pythonhosted.org/packages/f5/99/e0808cb947ba10f575839c43e8fafc9cc44e4a7a2c8f79c60db48220a577/sentencepiece-0.1.95-cp37-cp37m-manylinux2014_x86_64.whl (1.2MB)\n",
            "\u001b[K     |████████████████████████████████| 1.2MB 45.8MB/s \n",
            "\u001b[?25hRequirement already satisfied: packaging in /usr/local/lib/python3.7/dist-packages (from transformers==3) (20.9)\n",
            "Requirement already satisfied: tqdm>=4.27 in /usr/local/lib/python3.7/dist-packages (from transformers==3) (4.41.1)\n",
            "Requirement already satisfied: requests in /usr/local/lib/python3.7/dist-packages (from transformers==3) (2.23.0)\n",
            "Collecting sacremoses\n",
            "\u001b[?25l  Downloading https://files.pythonhosted.org/packages/7d/34/09d19aff26edcc8eb2a01bed8e98f13a1537005d31e95233fd48216eed10/sacremoses-0.0.43.tar.gz (883kB)\n",
            "\u001b[K     |████████████████████████████████| 890kB 52.3MB/s \n",
            "\u001b[?25hRequirement already satisfied: regex!=2019.12.17 in /usr/local/lib/python3.7/dist-packages (from transformers==3) (2019.12.20)\n",
            "Collecting tokenizers==0.8.0-rc4\n",
            "\u001b[?25l  Downloading https://files.pythonhosted.org/packages/f7/82/0e82a95bd9db2b32569500cc1bb47aa7c4e0f57aa5e35cceba414096917b/tokenizers-0.8.0rc4-cp37-cp37m-manylinux1_x86_64.whl (3.0MB)\n",
            "\u001b[K     |████████████████████████████████| 3.0MB 45.8MB/s \n",
            "\u001b[?25hRequirement already satisfied: numpy in /usr/local/lib/python3.7/dist-packages (from transformers==3) (1.19.5)\n",
            "Requirement already satisfied: pyparsing>=2.0.2 in /usr/local/lib/python3.7/dist-packages (from packaging->transformers==3) (2.4.7)\n",
            "Requirement already satisfied: chardet<4,>=3.0.2 in /usr/local/lib/python3.7/dist-packages (from requests->transformers==3) (3.0.4)\n",
            "Requirement already satisfied: urllib3!=1.25.0,!=1.25.1,<1.26,>=1.21.1 in /usr/local/lib/python3.7/dist-packages (from requests->transformers==3) (1.24.3)\n",
            "Requirement already satisfied: idna<3,>=2.5 in /usr/local/lib/python3.7/dist-packages (from requests->transformers==3) (2.10)\n",
            "Requirement already satisfied: certifi>=2017.4.17 in /usr/local/lib/python3.7/dist-packages (from requests->transformers==3) (2020.12.5)\n",
            "Requirement already satisfied: six in /usr/local/lib/python3.7/dist-packages (from sacremoses->transformers==3) (1.15.0)\n",
            "Requirement already satisfied: click in /usr/local/lib/python3.7/dist-packages (from sacremoses->transformers==3) (7.1.2)\n",
            "Requirement already satisfied: joblib in /usr/local/lib/python3.7/dist-packages (from sacremoses->transformers==3) (1.0.1)\n",
            "Building wheels for collected packages: sacremoses\n",
            "  Building wheel for sacremoses (setup.py) ... \u001b[?25l\u001b[?25hdone\n",
            "  Created wheel for sacremoses: filename=sacremoses-0.0.43-cp37-none-any.whl size=893262 sha256=8b0108dfeb004b6a34c0ef9119a1328bf63f6f69df5749cdd502859cd184c3bc\n",
            "  Stored in directory: /root/.cache/pip/wheels/29/3c/fd/7ce5c3f0666dab31a50123635e6fb5e19ceb42ce38d4e58f45\n",
            "Successfully built sacremoses\n",
            "Installing collected packages: sentencepiece, sacremoses, tokenizers, transformers\n",
            "Successfully installed sacremoses-0.0.43 sentencepiece-0.1.95 tokenizers-0.8.0rc4 transformers-3.0.0\n"
          ],
          "name": "stdout"
        }
      ]
    },
    {
      "cell_type": "code",
      "metadata": {
        "id": "bXKdGkaVfQdQ"
      },
      "source": [
        "\n",
        "# Libraries\n",
        "\n",
        "import matplotlib.pyplot as plt\n",
        "import pandas as pd\n",
        "import torch\n",
        "\n",
        "# Preliminaries\n",
        "\n",
        "from torchtext.data import Field, TabularDataset, BucketIterator, Iterator\n",
        "\n",
        "# Models\n",
        "import torch\n",
        "from torch.utils.data import DataLoader, Dataset\n",
        "device = torch.device('cuda:0')\n",
        "import torch.nn as nn\n",
        "from transformers import BertTokenizer, BertForSequenceClassification\n",
        "# Training\n",
        "\n",
        "import torch.optim as optim\n",
        "\n",
        "# Evaluation\n",
        "\n",
        "from sklearn.metrics import accuracy_score, classification_report, confusion_matrix\n",
        "import seaborn as sns\n"
      ],
      "execution_count": null,
      "outputs": []
    },
    {
      "cell_type": "code",
      "metadata": {
        "colab": {
          "base_uri": "https://localhost:8080/"
        },
        "id": "13eyb4keffNX",
        "outputId": "64dd809a-a380-4f01-9737-ce986e92542b"
      },
      "source": [
        "!pip install contractions\n",
        "import matplotlib.pyplot as plt\n",
        "import seaborn as sns\n",
        "from collections import defaultdict\n",
        "import numpy as np\n",
        "import pandas as pd\n",
        "from sklearn.model_selection import train_test_split\n",
        "import contractions\n",
        "import re\n",
        "import torch\n",
        "import transformers as ppb\n",
        "import warnings\n",
        "import logging\n",
        "logging.basicConfig(level=logging.ERROR)\n",
        "warnings.filterwarnings('ignore')\n",
        "\n",
        "\n",
        "#from transformers import BertModel, BertConfig,BertTokenizer"
      ],
      "execution_count": null,
      "outputs": [
        {
          "output_type": "stream",
          "text": [
            "Collecting contractions\n",
            "  Downloading https://files.pythonhosted.org/packages/0a/04/d5e0bb9f2cef5d15616ebf68087a725c5dbdd71bd422bcfb35d709f98ce7/contractions-0.0.48-py2.py3-none-any.whl\n",
            "Collecting textsearch>=0.0.21\n",
            "  Downloading https://files.pythonhosted.org/packages/d3/fe/021d7d76961b5ceb9f8d022c4138461d83beff36c3938dc424586085e559/textsearch-0.0.21-py2.py3-none-any.whl\n",
            "Collecting anyascii\n",
            "\u001b[?25l  Downloading https://files.pythonhosted.org/packages/09/c7/61370d9e3c349478e89a5554c1e5d9658e1e3116cc4f2528f568909ebdf1/anyascii-0.1.7-py3-none-any.whl (260kB)\n",
            "\u001b[K     |████████████████████████████████| 266kB 32.1MB/s \n",
            "\u001b[?25hCollecting pyahocorasick\n",
            "\u001b[?25l  Downloading https://files.pythonhosted.org/packages/4a/92/b3c70b8cf2b76f7e3e8b7243d6f06f7cb3bab6ada237b1bce57604c5c519/pyahocorasick-1.4.1.tar.gz (321kB)\n",
            "\u001b[K     |████████████████████████████████| 327kB 47.4MB/s \n",
            "\u001b[?25hBuilding wheels for collected packages: pyahocorasick\n",
            "  Building wheel for pyahocorasick (setup.py) ... \u001b[?25l\u001b[?25hdone\n",
            "  Created wheel for pyahocorasick: filename=pyahocorasick-1.4.1-cp37-cp37m-linux_x86_64.whl size=85248 sha256=f4089ab2b1fdcc7007329db147da500d6a54c198af82977fe7af29527b7b7e60\n",
            "  Stored in directory: /root/.cache/pip/wheels/e4/ab/f7/cb39270df8f6126f3dd4c33d302357167086db460968cfc80c\n",
            "Successfully built pyahocorasick\n",
            "Installing collected packages: anyascii, pyahocorasick, textsearch, contractions\n",
            "Successfully installed anyascii-0.1.7 contractions-0.0.48 pyahocorasick-1.4.1 textsearch-0.0.21\n"
          ],
          "name": "stdout"
        }
      ]
    },
    {
      "cell_type": "markdown",
      "metadata": {
        "id": "iktRr5ml6Hnj"
      },
      "source": [
        "# Load Data/ Git Clone"
      ]
    },
    {
      "cell_type": "code",
      "metadata": {
        "colab": {
          "base_uri": "https://localhost:8080/"
        },
        "id": "BCDaJfkwf6ad",
        "outputId": "91f5c159-0661-4300-e755-68c0568c4d0c"
      },
      "source": [
        "!git clone https://github.com/YasaminAbbaszadegan/NLP_Forum_Recomendation_Engine.git\n"
      ],
      "execution_count": null,
      "outputs": [
        {
          "output_type": "stream",
          "text": [
            "fatal: destination path 'NLP_Forum_Recomendation_Engine' already exists and is not an empty directory.\n"
          ],
          "name": "stdout"
        }
      ]
    },
    {
      "cell_type": "code",
      "metadata": {
        "colab": {
          "base_uri": "https://localhost:8080/"
        },
        "id": "ozu5_9cygRMY",
        "outputId": "d457aeab-4529-4a7e-c92b-368dbb228916"
      },
      "source": [
        "cd /content/NLP_Forum_Recomendation_Engine/Dataset\n"
      ],
      "execution_count": null,
      "outputs": [
        {
          "output_type": "stream",
          "text": [
            "[Errno 2] No such file or directory: '/content/NLP_Forum_Recomendation_Engine/Dataset'\n",
            "/content/gdrive/MyDrive/Stemaway/Module4_notebook\n"
          ],
          "name": "stdout"
        }
      ]
    },
    {
      "cell_type": "code",
      "metadata": {
        "id": "y4QdMbFaf6dQ"
      },
      "source": [
        "df=pd.read_csv('tudiabetes_20.csv',index_col=0)"
      ],
      "execution_count": null,
      "outputs": []
    },
    {
      "cell_type": "markdown",
      "metadata": {
        "id": "GfayqzqV0fl0"
      },
      "source": [
        "#Preprocess "
      ]
    },
    {
      "cell_type": "code",
      "metadata": {
        "id": "dQig-dW8sFmd"
      },
      "source": [
        "def remove_braket(x):\n",
        "  x['Tags'] = x['Tags'].str.replace(\"[\", \"\")\n",
        "  x['Tags'] = x['Tags'].str.replace(\"]\", \"\")\n",
        "  x['Tags'] = x['Tags'].str.replace(\"'\", \"\")\n",
        "  x['Post Replies'] = x['Post Replies'].str.replace(\"[\", \"\")\n",
        "  x['Post Replies'] = x['Post Replies'].str.replace(\"]\", \"\")\n",
        "  x['Post Replies'] = x['Post Replies'].str.replace(\"'\", \"\")\n",
        "  x = x[x.Category != 'Social Clubs']\n",
        "  x = x[x.Category != 'TuDiabetes Website']\n",
        "  x = x[x.Category != 'Welcome']\n",
        "  return x.reset_index(drop=True)\n",
        "df=remove_braket(df)\n",
        "df['comment_topic'] = df['Topic Title'] + ' ' + df['Tags'] + ' ' + df['Leading Post'] + ' ' + df['Post Replies']"
      ],
      "execution_count": null,
      "outputs": []
    },
    {
      "cell_type": "code",
      "metadata": {
        "id": "nMa8BgD6ynfC"
      },
      "source": [
        "df_cat=df.copy()"
      ],
      "execution_count": null,
      "outputs": []
    },
    {
      "cell_type": "code",
      "metadata": {
        "id": "4aT7_NsEstH7"
      },
      "source": [
        "def clean_text(text):\n",
        "    #Make text lowercase, remove punctuation and remove words containing numbers.\n",
        "    # text=re.sub(\"[\\(\\[].*?[\\)\\]]\", \"\",text)\n",
        "    text=re.sub(r'#\\w+ ?', '', text ) ## remove hashtag words\n",
        "    text = re.sub('<.*?>','', text)\n",
        "    text = re.sub('\\n',' ', text)\n",
        "    text = re.sub('\\\\n',' ', text)\n",
        "    text = text.lower()\n",
        "    # text = re.sub('[%s]' % re.escape(string.punctuation), '',text)#remove punctuation\n",
        "   # Get rid of some additional punctuation.\n",
        "    text = re.sub('[‘’“”…]', '', text)\n",
        "    text = re.sub(' — ', '', text)\n",
        "    return (text)\n",
        "# clean = lambda x: clean_text(x)\n",
        "\n",
        "def full_clean(s):\n",
        "  df = s.apply(lambda x: [contractions.fix(word) for word in str(x).split()])\n",
        "  df= df.map(lambda x: ' '.join(x))\n",
        "  df=df.apply(lambda x: clean_text(x))\n",
        "  # df = df.apply(lambda x: ' '.join([word for word in str(x).split() if word not in (stop_words)]))## wont remove stop words bc they give context to the corpus\n",
        "  \n",
        "  return(pd.DataFrame(df))\n",
        "df_cat['comment_topic_C'] =full_clean(df['comment_topic'])\n"
      ],
      "execution_count": null,
      "outputs": []
    },
    {
      "cell_type": "code",
      "metadata": {
        "id": "4XsURd0ps0EF"
      },
      "source": [
        "my_categories = [ 'Type 1 and LADA',\n",
        "'Type 2', 'Diabetes and Pregnancy', 'Community', 'Food',\n",
        "'Treatment', 'Diabetes Technology']\n",
        "new_DF = pd.DataFrame()\n",
        "\n",
        "new_DF['comment_topic'] = df_cat['comment_topic_C'].apply(lambda x: str(x))\n",
        "new_DF['Category'] = df_cat['Category'].apply(lambda x: str(x))\n",
        "\n",
        "# changing class names (text) to numbers (a necessity for simpletransformers library)\n",
        "new_DF['Category'] = new_DF.apply(lambda x:  my_categories.index(x['Category']),axis=1)"
      ],
      "execution_count": null,
      "outputs": []
    },
    {
      "cell_type": "markdown",
      "metadata": {
        "id": "T4i4jsBw9nBG"
      },
      "source": [
        "#Shorten text\n",
        "\n",
        "BERT has the limitation of inputting longer than a few hundred words\n",
        "max_length=512"
      ]
    },
    {
      "cell_type": "markdown",
      "metadata": {
        "id": "93t3tAWx901k"
      },
      "source": [
        "https://medium.com/analytics-vidhya/text-classification-with-bert-using-transformers-for-long-text-inputs-f54833994dfd"
      ]
    },
    {
      "cell_type": "markdown",
      "metadata": {
        "id": "hZhE6z6_-O7X"
      },
      "source": [
        "One of the limitations of BERT is on the application when you have long inputs because, in BERT, the self-attention layer has a quadratic complexity O(n²) in terms of the sequence length n (see this link). In this post, I followed the main ideas of this paper in order to know how to overcome this limitation, when you want to use BERT over long sequences of text."
      ]
    },
    {
      "cell_type": "markdown",
      "metadata": {
        "id": "cVOQnTc6-n7m"
      },
      "source": [
        "In this article as the [paper](https://arxiv.org/abs/1910.10781) suggests, we are going to segment the input into smaller text and feed each of them into BERT, it means for each row, we will split the text in order to have some smaller text (200 words long each )\n",
        "We must split it into a chunk of 200 words each, with 50 words overlappedApplying this function to the review_text column of the dataset would help us get the dataset where every row has a list of string of around 200-word length.\n"
      ]
    },
    {
      "cell_type": "code",
      "metadata": {
        "id": "0Ipa23gJ7ZUA"
      },
      "source": [
        "def get_split(text1):\n",
        "  l_total=[]\n",
        "  l_partial=[]\n",
        "  if len(text1.split())//150>0:\n",
        "    n=len(text1.split())//150\n",
        "  else:\n",
        "    n=1\n",
        "  for w in range(n):\n",
        "    if w==0:\n",
        "      l_partial=text1.split()[:200]\n",
        "      l_total.append(\" \".join(l_partial))\n",
        "    else:\n",
        "      l_partial=text1.split()[w*150:w*150+200]\n",
        "      l_total.append(\" \".join(l_partial))\n",
        "    return l_total[0]"
      ],
      "execution_count": null,
      "outputs": []
    },
    {
      "cell_type": "code",
      "metadata": {
        "id": "a8DRLIUS9FYA"
      },
      "source": [
        "new_DF['comment_topic']=new_DF['comment_topic'].apply(get_split)"
      ],
      "execution_count": null,
      "outputs": []
    },
    {
      "cell_type": "code",
      "metadata": {
        "colab": {
          "base_uri": "https://localhost:8080/",
          "height": 197
        },
        "id": "9V_n8v6v9Ot3",
        "outputId": "0d0055f2-69ae-4029-bc17-aec919164a15"
      },
      "source": [
        "new_DF.head()"
      ],
      "execution_count": null,
      "outputs": [
        {
          "output_type": "execute_result",
          "data": {
            "text/html": [
              "<div>\n",
              "<style scoped>\n",
              "    .dataframe tbody tr th:only-of-type {\n",
              "        vertical-align: middle;\n",
              "    }\n",
              "\n",
              "    .dataframe tbody tr th {\n",
              "        vertical-align: top;\n",
              "    }\n",
              "\n",
              "    .dataframe thead th {\n",
              "        text-align: right;\n",
              "    }\n",
              "</style>\n",
              "<table border=\"1\" class=\"dataframe\">\n",
              "  <thead>\n",
              "    <tr style=\"text-align: right;\">\n",
              "      <th></th>\n",
              "      <th>comment_topic</th>\n",
              "      <th>Category</th>\n",
              "    </tr>\n",
              "  </thead>\n",
              "  <tbody>\n",
              "    <tr>\n",
              "      <th>0</th>\n",
              "      <td>type 1 diabetes resources information on this ...</td>\n",
              "      <td>0</td>\n",
              "    </tr>\n",
              "    <tr>\n",
              "      <th>1</th>\n",
              "      <td>about the type 1 and lada category the type 1 ...</td>\n",
              "      <td>0</td>\n",
              "    </tr>\n",
              "    <tr>\n",
              "      <th>2</th>\n",
              "      <td>are you concerned about covid-19 vaccine might...</td>\n",
              "      <td>0</td>\n",
              "    </tr>\n",
              "    <tr>\n",
              "      <th>3</th>\n",
              "      <td>covid vaccine - are you getting it? hello! i w...</td>\n",
              "      <td>0</td>\n",
              "    </tr>\n",
              "    <tr>\n",
              "      <th>4</th>\n",
              "      <td>bolusing for pasta - big fail how do you guys ...</td>\n",
              "      <td>0</td>\n",
              "    </tr>\n",
              "  </tbody>\n",
              "</table>\n",
              "</div>"
            ],
            "text/plain": [
              "                                       comment_topic  Category\n",
              "0  type 1 diabetes resources information on this ...         0\n",
              "1  about the type 1 and lada category the type 1 ...         0\n",
              "2  are you concerned about covid-19 vaccine might...         0\n",
              "3  covid vaccine - are you getting it? hello! i w...         0\n",
              "4  bolusing for pasta - big fail how do you guys ...         0"
            ]
          },
          "metadata": {
            "tags": []
          },
          "execution_count": 13
        }
      ]
    },
    {
      "cell_type": "code",
      "metadata": {
        "colab": {
          "base_uri": "https://localhost:8080/"
        },
        "id": "LPwiXi06LjQb",
        "outputId": "802edeb1-e9f0-4c46-89d1-7e4e859ffc63"
      },
      "source": [
        "new_DF.Category.nunique()"
      ],
      "execution_count": null,
      "outputs": [
        {
          "output_type": "execute_result",
          "data": {
            "text/plain": [
              "7"
            ]
          },
          "metadata": {
            "tags": []
          },
          "execution_count": 14
        }
      ]
    },
    {
      "cell_type": "code",
      "metadata": {
        "id": "HHDxsffKfwYu"
      },
      "source": [
        "token_lens = []\n",
        "for txt in new_DF['comment_topic']:\n",
        "  tokens = tokenizer.encode(txt, max_length=512)\n",
        "  token_lens.append(len(tokens))"
      ],
      "execution_count": null,
      "outputs": []
    },
    {
      "cell_type": "code",
      "metadata": {
        "colab": {
          "base_uri": "https://localhost:8080/",
          "height": 278
        },
        "id": "fHh8iMplfwde",
        "outputId": "12731f74-b74b-42a0-ae3d-e9462b7c0548"
      },
      "source": [
        "sns.distplot(token_lens)\n",
        "plt.xlim([0, 256]);\n",
        "plt.xlabel('Token count');"
      ],
      "execution_count": null,
      "outputs": [
        {
          "output_type": "display_data",
          "data": {
            "image/png": "[encoded data removed]",
            "text/plain": [
              "<Figure size 432x288 with 1 Axes>"
            ]
          },
          "metadata": {
            "tags": [],
            "needs_background": "light"
          }
        }
      ]
    },
    {
      "cell_type": "markdown",
      "metadata": {
        "id": "stqhTqlssn-U"
      },
      "source": [
        "\n",
        "\n",
        "\n",
        "# Train_Test_Split\n",
        "\n",
        "\n"
      ]
    },
    {
      "cell_type": "code",
      "metadata": {
        "id": "TLoU2HbMDOdh"
      },
      "source": [
        "df_train, df_test = train_test_split(new_DF, test_size=0.1, random_state=42)\n",
        "df_val, df_test = train_test_split(df_test, test_size=0.5, random_state=42)"
      ],
      "execution_count": null,
      "outputs": []
    },
    {
      "cell_type": "code",
      "metadata": {
        "colab": {
          "base_uri": "https://localhost:8080/",
          "height": 197
        },
        "id": "YM13n-I4kxfk",
        "outputId": "14888547-4b7a-4b96-8752-3476eb742aee"
      },
      "source": [
        "df_train.head()"
      ],
      "execution_count": null,
      "outputs": [
        {
          "output_type": "execute_result",
          "data": {
            "text/html": [
              "<div>\n",
              "<style scoped>\n",
              "    .dataframe tbody tr th:only-of-type {\n",
              "        vertical-align: middle;\n",
              "    }\n",
              "\n",
              "    .dataframe tbody tr th {\n",
              "        vertical-align: top;\n",
              "    }\n",
              "\n",
              "    .dataframe thead th {\n",
              "        text-align: right;\n",
              "    }\n",
              "</style>\n",
              "<table border=\"1\" class=\"dataframe\">\n",
              "  <thead>\n",
              "    <tr style=\"text-align: right;\">\n",
              "      <th></th>\n",
              "      <th>comment_topic</th>\n",
              "      <th>Category</th>\n",
              "    </tr>\n",
              "  </thead>\n",
              "  <tbody>\n",
              "    <tr>\n",
              "      <th>557</th>\n",
              "      <td>freestyle libre 14day accuracy? hi i am thinki...</td>\n",
              "      <td>1</td>\n",
              "    </tr>\n",
              "    <tr>\n",
              "      <th>650</th>\n",
              "      <td>running high (is there such a thing?) it is be...</td>\n",
              "      <td>1</td>\n",
              "    </tr>\n",
              "    <tr>\n",
              "      <th>3386</th>\n",
              "      <td>tandem control-iq review! (artificial pancreas...</td>\n",
              "      <td>6</td>\n",
              "    </tr>\n",
              "    <tr>\n",
              "      <th>1200</th>\n",
              "      <td>heparin and bg? managing pregnancy with diabet...</td>\n",
              "      <td>2</td>\n",
              "    </tr>\n",
              "    <tr>\n",
              "      <th>2309</th>\n",
              "      <td>has anyone tried oopsies as an alternative to ...</td>\n",
              "      <td>4</td>\n",
              "    </tr>\n",
              "  </tbody>\n",
              "</table>\n",
              "</div>"
            ],
            "text/plain": [
              "                                          comment_topic  Category\n",
              "557   freestyle libre 14day accuracy? hi i am thinki...         1\n",
              "650   running high (is there such a thing?) it is be...         1\n",
              "3386  tandem control-iq review! (artificial pancreas...         6\n",
              "1200  heparin and bg? managing pregnancy with diabet...         2\n",
              "2309  has anyone tried oopsies as an alternative to ...         4"
            ]
          },
          "metadata": {
            "tags": []
          },
          "execution_count": 17
        }
      ]
    },
    {
      "cell_type": "markdown",
      "metadata": {
        "id": "Q3zpjExD1tjR"
      },
      "source": [
        "#BERT Model & Tokenizer"
      ]
    },
    {
      "cell_type": "code",
      "metadata": {
        "id": "eOB64xmjkP6d"
      },
      "source": [
        "# the model we gonna train, base uncased BERT\n",
        "model_name = \"bert-base-uncased\"\n",
        "# max sequence length for each document/sentence sample\n",
        "max_length = 250\n",
        "#load Bert classification model\n",
        "model = BertForSequenceClassification.from_pretrained(model_name, num_labels=7).to(\"cuda\")\n",
        "# load the tokenizer\n",
        "tokenizer = BertTokenizerFast.from_pretrained(model_name, do_lower_case=True)\n",
        "# tokenize the dataset, truncate when passed `max_length`, \n",
        "# and pad with 0's when less than `max_length`\n",
        "train_encodings = tokenizer(df_train['comment_topic'].tolist(), truncation=True, padding=True, max_length=max_length)\n",
        "valid_encodings = tokenizer(df_val['comment_topic'].tolist(), truncation=True, padding=True, max_length=max_length)"
      ],
      "execution_count": null,
      "outputs": []
    },
    {
      "cell_type": "markdown",
      "metadata": {
        "id": "3dtAuGHB1ZEq"
      },
      "source": [
        "#Torch dataset"
      ]
    },
    {
      "cell_type": "code",
      "metadata": {
        "id": "2PInn_ERlip6"
      },
      "source": [
        "class torchDataset(torch.utils.data.Dataset):\n",
        "    def __init__(self, encodings, labels):\n",
        "        self.encodings = encodings\n",
        "        self.labels = labels\n",
        "\n",
        "    def __getitem__(self, idx):\n",
        "        item = {k: torch.tensor(v[idx]) for k, v in self.encodings.items()}\n",
        "        item[\"labels\"] = torch.tensor([self.labels[idx]])\n",
        "        return item\n",
        "\n",
        "    def __len__(self):\n",
        "        return len(self.labels)\n",
        "\n",
        "# convert our tokenized data into a torch Dataset\n",
        "train_dataset = torchDataset(train_encodings, df_train['Category'].tolist())\n",
        "valid_dataset = torchDataset(valid_encodings, df_val['Category'].tolist())"
      ],
      "execution_count": null,
      "outputs": []
    },
    {
      "cell_type": "code",
      "metadata": {
        "id": "MF71fD2hoTVs"
      },
      "source": [
        "# train_encodings"
      ],
      "execution_count": 1,
      "outputs": []
    },
    {
      "cell_type": "code",
      "metadata": {
        "id": "pa2s3cCnoC5A"
      },
      "source": [
        "# train_dataset.encodings"
      ],
      "execution_count": 2,
      "outputs": []
    },
    {
      "cell_type": "markdown",
      "metadata": {
        "id": "uF2pq1WfeQtK"
      },
      "source": [
        "#Mount to Google Drive\n"
      ]
    },
    {
      "cell_type": "code",
      "metadata": {
        "colab": {
          "base_uri": "https://localhost:8080/"
        },
        "id": "LwvG4mzqmLOR",
        "outputId": "8338ba1a-7447-4f63-dee6-e7f0a65aef6e"
      },
      "source": [
        "from google.colab import drive\n",
        "drive.mount('/content/gdrive')"
      ],
      "execution_count": null,
      "outputs": [
        {
          "output_type": "stream",
          "text": [
            "Mounted at /content/gdrive\n"
          ],
          "name": "stdout"
        }
      ]
    },
    {
      "cell_type": "code",
      "metadata": {
        "colab": {
          "base_uri": "https://localhost:8080/"
        },
        "id": "C_hI2i5Cm1dm",
        "outputId": "b0afb3a6-6057-4c0d-a1b7-b1b7cd01e926"
      },
      "source": [
        "cd /content/gdrive/MyDrive/Stemaway/Module4_notebook"
      ],
      "execution_count": null,
      "outputs": [
        {
          "output_type": "stream",
          "text": [
            "/content/gdrive/MyDrive/Stemaway/Module4_notebook\n"
          ],
          "name": "stdout"
        }
      ]
    },
    {
      "cell_type": "markdown",
      "metadata": {
        "id": "sIIkP7dy1Q51"
      },
      "source": [
        "#Computer metrics"
      ]
    },
    {
      "cell_type": "code",
      "metadata": {
        "id": "ChJW3RaomLQp"
      },
      "source": [
        "from sklearn.metrics import accuracy_score\n",
        "from sklearn.metrics import precision_recall_fscore_support\n",
        "\n",
        "def compute_metrics(pred):\n",
        "  labels = pred.label_ids\n",
        "  preds = pred.predictions.argmax(-1)\n",
        "  # calculate accuracy using sklearn's function\n",
        "  # precision, recall, f1, _ = precision_recall_fscore_support(labels, preds, average='binary')\n",
        "  acc = accuracy_score(labels, preds)\n",
        "  return {\n",
        "      'accuracy': acc\n",
        "      # 'f1': f1,\n",
        "      # 'precision': precision,\n",
        "      # 'recall': recall\n",
        "  }"
      ],
      "execution_count": null,
      "outputs": []
    },
    {
      "cell_type": "markdown",
      "metadata": {
        "id": "zMIpIZJ01TQb"
      },
      "source": [
        "#TrainingArgument"
      ]
    },
    {
      "cell_type": "code",
      "metadata": {
        "id": "uLcAUBVtmLS9"
      },
      "source": [
        "training_args = TrainingArguments(\n",
        "    # report_to = 'wandb',\n",
        "    output_dir='./results',          # output directory\n",
        "    num_train_epochs=3,              # total number of training epochs\n",
        "    per_device_train_batch_size=16,  # batch size per device during training\n",
        "    per_device_eval_batch_size=20,   # batch size for evaluation\n",
        "    warmup_steps=500,                # number of warmup steps for learning rate scheduler\n",
        "    weight_decay=0.01,               # strength of weight decay\n",
        "    logging_dir='./logs',            # directory for storing logs\n",
        "    # load_best_model_at_end=True,     # load the best model when finished training (default metric is loss)\n",
        "    # but you can specify `metric_for_best_model` argument to change to accuracy or other metric\n",
        "    logging_steps=200,               # log & save weights each logging_steps\n",
        "    # evaluation_strategy=\"steps\",\n",
        "        # evaluate each `logging_steps`\n",
        "    \n",
        ")"
      ],
      "execution_count": null,
      "outputs": []
    },
    {
      "cell_type": "markdown",
      "metadata": {
        "id": "RHhLfO6Rnhyp"
      },
      "source": [
        "#Trainer"
      ]
    },
    {
      "cell_type": "code",
      "metadata": {
        "id": "DxiZ3L6VnUKn"
      },
      "source": [
        "trainer = Trainer(\n",
        "    model=model,                         # the instantiated Transformers model to be trained\n",
        "    args=training_args,                  # training arguments, defined above\n",
        "    train_dataset=train_dataset,         # training dataset\n",
        "    eval_dataset=valid_dataset,          # evaluation dataset\n",
        "    compute_metrics=compute_metrics,     # the callback that computes metrics of interest\n",
        ")"
      ],
      "execution_count": null,
      "outputs": []
    },
    {
      "cell_type": "code",
      "metadata": {
        "colab": {
          "base_uri": "https://localhost:8080/",
          "height": 268,
          "referenced_widgets": [
            "33b912489c674e2e8aa5a2f8079713f8",
            "0f7aeda5e6db4b1890dd58dc0373b10f",
            "5dfed7cf71a34adea8db9350b4d6e232",
            "3f861212594d4ab78856d864aa4bf63a",
            "8c64db5076c341fca6dafe934203f381",
            "7ff17404a3d74e30a77831cf1433016d",
            "11d9b56bec594fe7ac077b0bc39fff46",
            "52c4d3fcf76845f48dfba9b7827fdcc1",
            "2073e798331d49728fc9c8e9fd9e9132",
            "99be7b9b045948deaefe8f4d749d01da",
            "9b47c134a3674461b6a160646b6db12a",
            "30716d3e572b4d2d9cfaac01ddf67918",
            "706b919633d2482cbcb56d9f383d8d6a",
            "3c502079a89c45e386f78b8781015e87",
            "0703333068e94898bb53a9a7e607f1a7",
            "1be0cf7fdddc4b4cbc5234ae8f586818",
            "c0edcd7553da4e3890979ccde79581a0",
            "93e79c8c6b794a31a388f8729ce9840e",
            "6f80a9ce7cd04aaa95ba6bf23984715f",
            "ae1e9c7d635944c59c97f61cd0337286",
            "ab8e2ff2f87c44b59b8f1a7c65ac3370",
            "e264770465a447d3a7aabf9efcf48415",
            "bb83314eb09e46a792206b5eb329cc51",
            "87ce2f9c2a3c448eaaabd150376056fa",
            "d16ff3a040c14265ad8c59a57a6a8849",
            "aa6607eb855b453291270e395fb295dd",
            "b96721e436874edca33a28bbf29438d3",
            "09ca91303cfd4b2997dcfcdd28ba8bdd",
            "360bdc7d265344d4a2113c33aa1fafd7",
            "b1551e3a5ad742bbaa5481a8c6d61cc4",
            "03e89eb2128c4f06b52e36854c608416",
            "329c8310aad94158ada7d25fe90efebe"
          ]
        },
        "id": "wjU7VnWzno1t",
        "outputId": "efd3a62e-5bbe-4a3c-ff6e-63f7cabb5aa7"
      },
      "source": [
        "# train the model\n",
        "%%time\n",
        "trainer.train()"
      ],
      "execution_count": null,
      "outputs": [
        {
          "output_type": "display_data",
          "data": {
            "application/vnd.jupyter.widget-view+json": {
              "model_id": "33b912489c674e2e8aa5a2f8079713f8",
              "version_minor": 0,
              "version_major": 2
            },
            "text/plain": [
              "HBox(children=(FloatProgress(value=0.0, description='Epoch', max=3.0, style=ProgressStyle(description_width='i…"
            ]
          },
          "metadata": {
            "tags": []
          }
        },
        {
          "output_type": "display_data",
          "data": {
            "application/vnd.jupyter.widget-view+json": {
              "model_id": "2073e798331d49728fc9c8e9fd9e9132",
              "version_minor": 0,
              "version_major": 2
            },
            "text/plain": [
              "HBox(children=(FloatProgress(value=0.0, description='Iteration', max=198.0, style=ProgressStyle(description_wi…"
            ]
          },
          "metadata": {
            "tags": []
          }
        },
        {
          "output_type": "stream",
          "text": [
            "\n"
          ],
          "name": "stdout"
        },
        {
          "output_type": "display_data",
          "data": {
            "application/vnd.jupyter.widget-view+json": {
              "model_id": "c0edcd7553da4e3890979ccde79581a0",
              "version_minor": 0,
              "version_major": 2
            },
            "text/plain": [
              "HBox(children=(FloatProgress(value=0.0, description='Iteration', max=198.0, style=ProgressStyle(description_wi…"
            ]
          },
          "metadata": {
            "tags": []
          }
        },
        {
          "output_type": "stream",
          "text": [
            "\n"
          ],
          "name": "stdout"
        },
        {
          "output_type": "display_data",
          "data": {
            "application/vnd.jupyter.widget-view+json": {
              "model_id": "d16ff3a040c14265ad8c59a57a6a8849",
              "version_minor": 0,
              "version_major": 2
            },
            "text/plain": [
              "HBox(children=(FloatProgress(value=0.0, description='Iteration', max=198.0, style=ProgressStyle(description_wi…"
            ]
          },
          "metadata": {
            "tags": []
          }
        },
        {
          "output_type": "stream",
          "text": [
            "\n",
            "\n",
            "CPU times: user 3min 42s, sys: 3min 29s, total: 7min 11s\n",
            "Wall time: 7min 17s\n"
          ],
          "name": "stdout"
        },
        {
          "output_type": "execute_result",
          "data": {
            "text/plain": [
              "TrainOutput(global_step=594, training_loss=0.9826658572938908)"
            ]
          },
          "metadata": {
            "tags": []
          },
          "execution_count": 200
        }
      ]
    },
    {
      "cell_type": "markdown",
      "metadata": {
        "id": "ifkuR07MFZpW"
      },
      "source": [
        "#Trainer.evaluate()"
      ]
    },
    {
      "cell_type": "code",
      "metadata": {
        "colab": {
          "base_uri": "https://localhost:8080/",
          "height": 155,
          "referenced_widgets": [
            "2049e9f2005b47b5942fca427a205ee9",
            "af895240ec9746d7a2e384b433db19da",
            "0639d0ec355744c388aebc09a6d87fd3",
            "8f22aa1647ab44b79b4b2ccb86f9372e",
            "263dedf49c1c464e841c158a2123d311",
            "cdee40d2b7d54200bbce6d8d39f8be7f",
            "89146163269a47078ec35643d878b59c",
            "e65f246139604e8daa4b7661662f435f"
          ]
        },
        "id": "yiDlK_Ufno4S",
        "outputId": "36a24ab4-1fda-4974-f05f-8bc3c9721b70"
      },
      "source": [
        "%%time\n",
        "# evaluate the current model after training\n",
        "trainer.evaluate()"
      ],
      "execution_count": null,
      "outputs": [
        {
          "output_type": "display_data",
          "data": {
            "application/vnd.jupyter.widget-view+json": {
              "model_id": "2049e9f2005b47b5942fca427a205ee9",
              "version_minor": 0,
              "version_major": 2
            },
            "text/plain": [
              "HBox(children=(FloatProgress(value=0.0, description='Evaluation', max=9.0, style=ProgressStyle(description_wid…"
            ]
          },
          "metadata": {
            "tags": []
          }
        },
        {
          "output_type": "stream",
          "text": [
            "\n",
            "CPU times: user 1.33 s, sys: 1.3 s, total: 2.63 s\n",
            "Wall time: 2.64 s\n"
          ],
          "name": "stdout"
        },
        {
          "output_type": "execute_result",
          "data": {
            "text/plain": [
              "{'epoch': 3.0,\n",
              " 'eval_accuracy': 0.7371428571428571,\n",
              " 'eval_loss': 0.7377460996309916}"
            ]
          },
          "metadata": {
            "tags": []
          },
          "execution_count": 201
        }
      ]
    },
    {
      "cell_type": "markdown",
      "metadata": {
        "id": "L9EFWA2te1B5"
      },
      "source": [
        "#Save Trained Model"
      ]
    },
    {
      "cell_type": "code",
      "metadata": {
        "colab": {
          "base_uri": "https://localhost:8080/"
        },
        "id": "JkBXFhSDEUWE",
        "outputId": "2fa6fd65-d952-490e-de7a-5a7cfad9174a"
      },
      "source": [
        "# saving the fine tuned model & tokenizer\n",
        "model_path = \"content/NLP_Forum_Recomendation_Engine/model_saved\"\n",
        "model.save_pretrained(model_path)\n",
        "tokenizer.save_pretrained(model_path)"
      ],
      "execution_count": null,
      "outputs": [
        {
          "output_type": "execute_result",
          "data": {
            "text/plain": [
              "('content/NLP_Forum_Recomendation_Engine/model_saved/vocab.txt',\n",
              " 'content/NLP_Forum_Recomendation_Engine/model_saved/special_tokens_map.json',\n",
              " 'content/NLP_Forum_Recomendation_Engine/model_saved/added_tokens.json')"
            ]
          },
          "metadata": {
            "tags": []
          },
          "execution_count": 60
        }
      ]
    },
    {
      "cell_type": "markdown",
      "metadata": {
        "id": "BSJxvL0ve4rN"
      },
      "source": [
        "#Reload Saved Trained Model"
      ]
    },
    {
      "cell_type": "code",
      "metadata": {
        "colab": {
          "base_uri": "https://localhost:8080/"
        },
        "id": "VPshuPFQLn4T",
        "outputId": "c04917a0-e856-45a0-c9f0-665f58d311d9"
      },
      "source": [
        "\n",
        "# saving the fine tuned model & tokenizer\n",
        "model_path = \"content/NLP_Forum_Recomendation_Engine/model_saved\"\n",
        "# retreive the saved model \n",
        "model = BertForSequenceClassification.from_pretrained(model_path , \n",
        "                                                        local_files_only=True)\n",
        "\n",
        "model.to('cuda')"
      ],
      "execution_count": null,
      "outputs": [
        {
          "output_type": "execute_result",
          "data": {
            "text/plain": [
              "BertForSequenceClassification(\n",
              "  (bert): BertModel(\n",
              "    (embeddings): BertEmbeddings(\n",
              "      (word_embeddings): Embedding(30522, 768, padding_idx=0)\n",
              "      (position_embeddings): Embedding(512, 768)\n",
              "      (token_type_embeddings): Embedding(2, 768)\n",
              "      (LayerNorm): LayerNorm((768,), eps=1e-12, elementwise_affine=True)\n",
              "      (dropout): Dropout(p=0.1, inplace=False)\n",
              "    )\n",
              "    (encoder): BertEncoder(\n",
              "      (layer): ModuleList(\n",
              "        (0): BertLayer(\n",
              "          (attention): BertAttention(\n",
              "            (self): BertSelfAttention(\n",
              "              (query): Linear(in_features=768, out_features=768, bias=True)\n",
              "              (key): Linear(in_features=768, out_features=768, bias=True)\n",
              "              (value): Linear(in_features=768, out_features=768, bias=True)\n",
              "              (dropout): Dropout(p=0.1, inplace=False)\n",
              "            )\n",
              "            (output): BertSelfOutput(\n",
              "              (dense): Linear(in_features=768, out_features=768, bias=True)\n",
              "              (LayerNorm): LayerNorm((768,), eps=1e-12, elementwise_affine=True)\n",
              "              (dropout): Dropout(p=0.1, inplace=False)\n",
              "            )\n",
              "          )\n",
              "          (intermediate): BertIntermediate(\n",
              "            (dense): Linear(in_features=768, out_features=3072, bias=True)\n",
              "          )\n",
              "          (output): BertOutput(\n",
              "            (dense): Linear(in_features=3072, out_features=768, bias=True)\n",
              "            (LayerNorm): LayerNorm((768,), eps=1e-12, elementwise_affine=True)\n",
              "            (dropout): Dropout(p=0.1, inplace=False)\n",
              "          )\n",
              "        )\n",
              "        (1): BertLayer(\n",
              "          (attention): BertAttention(\n",
              "            (self): BertSelfAttention(\n",
              "              (query): Linear(in_features=768, out_features=768, bias=True)\n",
              "              (key): Linear(in_features=768, out_features=768, bias=True)\n",
              "              (value): Linear(in_features=768, out_features=768, bias=True)\n",
              "              (dropout): Dropout(p=0.1, inplace=False)\n",
              "            )\n",
              "            (output): BertSelfOutput(\n",
              "              (dense): Linear(in_features=768, out_features=768, bias=True)\n",
              "              (LayerNorm): LayerNorm((768,), eps=1e-12, elementwise_affine=True)\n",
              "              (dropout): Dropout(p=0.1, inplace=False)\n",
              "            )\n",
              "          )\n",
              "          (intermediate): BertIntermediate(\n",
              "            (dense): Linear(in_features=768, out_features=3072, bias=True)\n",
              "          )\n",
              "          (output): BertOutput(\n",
              "            (dense): Linear(in_features=3072, out_features=768, bias=True)\n",
              "            (LayerNorm): LayerNorm((768,), eps=1e-12, elementwise_affine=True)\n",
              "            (dropout): Dropout(p=0.1, inplace=False)\n",
              "          )\n",
              "        )\n",
              "        (2): BertLayer(\n",
              "          (attention): BertAttention(\n",
              "            (self): BertSelfAttention(\n",
              "              (query): Linear(in_features=768, out_features=768, bias=True)\n",
              "              (key): Linear(in_features=768, out_features=768, bias=True)\n",
              "              (value): Linear(in_features=768, out_features=768, bias=True)\n",
              "              (dropout): Dropout(p=0.1, inplace=False)\n",
              "            )\n",
              "            (output): BertSelfOutput(\n",
              "              (dense): Linear(in_features=768, out_features=768, bias=True)\n",
              "              (LayerNorm): LayerNorm((768,), eps=1e-12, elementwise_affine=True)\n",
              "              (dropout): Dropout(p=0.1, inplace=False)\n",
              "            )\n",
              "          )\n",
              "          (intermediate): BertIntermediate(\n",
              "            (dense): Linear(in_features=768, out_features=3072, bias=True)\n",
              "          )\n",
              "          (output): BertOutput(\n",
              "            (dense): Linear(in_features=3072, out_features=768, bias=True)\n",
              "            (LayerNorm): LayerNorm((768,), eps=1e-12, elementwise_affine=True)\n",
              "            (dropout): Dropout(p=0.1, inplace=False)\n",
              "          )\n",
              "        )\n",
              "        (3): BertLayer(\n",
              "          (attention): BertAttention(\n",
              "            (self): BertSelfAttention(\n",
              "              (query): Linear(in_features=768, out_features=768, bias=True)\n",
              "              (key): Linear(in_features=768, out_features=768, bias=True)\n",
              "              (value): Linear(in_features=768, out_features=768, bias=True)\n",
              "              (dropout): Dropout(p=0.1, inplace=False)\n",
              "            )\n",
              "            (output): BertSelfOutput(\n",
              "              (dense): Linear(in_features=768, out_features=768, bias=True)\n",
              "              (LayerNorm): LayerNorm((768,), eps=1e-12, elementwise_affine=True)\n",
              "              (dropout): Dropout(p=0.1, inplace=False)\n",
              "            )\n",
              "          )\n",
              "          (intermediate): BertIntermediate(\n",
              "            (dense): Linear(in_features=768, out_features=3072, bias=True)\n",
              "          )\n",
              "          (output): BertOutput(\n",
              "            (dense): Linear(in_features=3072, out_features=768, bias=True)\n",
              "            (LayerNorm): LayerNorm((768,), eps=1e-12, elementwise_affine=True)\n",
              "            (dropout): Dropout(p=0.1, inplace=False)\n",
              "          )\n",
              "        )\n",
              "        (4): BertLayer(\n",
              "          (attention): BertAttention(\n",
              "            (self): BertSelfAttention(\n",
              "              (query): Linear(in_features=768, out_features=768, bias=True)\n",
              "              (key): Linear(in_features=768, out_features=768, bias=True)\n",
              "              (value): Linear(in_features=768, out_features=768, bias=True)\n",
              "              (dropout): Dropout(p=0.1, inplace=False)\n",
              "            )\n",
              "            (output): BertSelfOutput(\n",
              "              (dense): Linear(in_features=768, out_features=768, bias=True)\n",
              "              (LayerNorm): LayerNorm((768,), eps=1e-12, elementwise_affine=True)\n",
              "              (dropout): Dropout(p=0.1, inplace=False)\n",
              "            )\n",
              "          )\n",
              "          (intermediate): BertIntermediate(\n",
              "            (dense): Linear(in_features=768, out_features=3072, bias=True)\n",
              "          )\n",
              "          (output): BertOutput(\n",
              "            (dense): Linear(in_features=3072, out_features=768, bias=True)\n",
              "            (LayerNorm): LayerNorm((768,), eps=1e-12, elementwise_affine=True)\n",
              "            (dropout): Dropout(p=0.1, inplace=False)\n",
              "          )\n",
              "        )\n",
              "        (5): BertLayer(\n",
              "          (attention): BertAttention(\n",
              "            (self): BertSelfAttention(\n",
              "              (query): Linear(in_features=768, out_features=768, bias=True)\n",
              "              (key): Linear(in_features=768, out_features=768, bias=True)\n",
              "              (value): Linear(in_features=768, out_features=768, bias=True)\n",
              "              (dropout): Dropout(p=0.1, inplace=False)\n",
              "            )\n",
              "            (output): BertSelfOutput(\n",
              "              (dense): Linear(in_features=768, out_features=768, bias=True)\n",
              "              (LayerNorm): LayerNorm((768,), eps=1e-12, elementwise_affine=True)\n",
              "              (dropout): Dropout(p=0.1, inplace=False)\n",
              "            )\n",
              "          )\n",
              "          (intermediate): BertIntermediate(\n",
              "            (dense): Linear(in_features=768, out_features=3072, bias=True)\n",
              "          )\n",
              "          (output): BertOutput(\n",
              "            (dense): Linear(in_features=3072, out_features=768, bias=True)\n",
              "            (LayerNorm): LayerNorm((768,), eps=1e-12, elementwise_affine=True)\n",
              "            (dropout): Dropout(p=0.1, inplace=False)\n",
              "          )\n",
              "        )\n",
              "        (6): BertLayer(\n",
              "          (attention): BertAttention(\n",
              "            (self): BertSelfAttention(\n",
              "              (query): Linear(in_features=768, out_features=768, bias=True)\n",
              "              (key): Linear(in_features=768, out_features=768, bias=True)\n",
              "              (value): Linear(in_features=768, out_features=768, bias=True)\n",
              "              (dropout): Dropout(p=0.1, inplace=False)\n",
              "            )\n",
              "            (output): BertSelfOutput(\n",
              "              (dense): Linear(in_features=768, out_features=768, bias=True)\n",
              "              (LayerNorm): LayerNorm((768,), eps=1e-12, elementwise_affine=True)\n",
              "              (dropout): Dropout(p=0.1, inplace=False)\n",
              "            )\n",
              "          )\n",
              "          (intermediate): BertIntermediate(\n",
              "            (dense): Linear(in_features=768, out_features=3072, bias=True)\n",
              "          )\n",
              "          (output): BertOutput(\n",
              "            (dense): Linear(in_features=3072, out_features=768, bias=True)\n",
              "            (LayerNorm): LayerNorm((768,), eps=1e-12, elementwise_affine=True)\n",
              "            (dropout): Dropout(p=0.1, inplace=False)\n",
              "          )\n",
              "        )\n",
              "        (7): BertLayer(\n",
              "          (attention): BertAttention(\n",
              "            (self): BertSelfAttention(\n",
              "              (query): Linear(in_features=768, out_features=768, bias=True)\n",
              "              (key): Linear(in_features=768, out_features=768, bias=True)\n",
              "              (value): Linear(in_features=768, out_features=768, bias=True)\n",
              "              (dropout): Dropout(p=0.1, inplace=False)\n",
              "            )\n",
              "            (output): BertSelfOutput(\n",
              "              (dense): Linear(in_features=768, out_features=768, bias=True)\n",
              "              (LayerNorm): LayerNorm((768,), eps=1e-12, elementwise_affine=True)\n",
              "              (dropout): Dropout(p=0.1, inplace=False)\n",
              "            )\n",
              "          )\n",
              "          (intermediate): BertIntermediate(\n",
              "            (dense): Linear(in_features=768, out_features=3072, bias=True)\n",
              "          )\n",
              "          (output): BertOutput(\n",
              "            (dense): Linear(in_features=3072, out_features=768, bias=True)\n",
              "            (LayerNorm): LayerNorm((768,), eps=1e-12, elementwise_affine=True)\n",
              "            (dropout): Dropout(p=0.1, inplace=False)\n",
              "          )\n",
              "        )\n",
              "        (8): BertLayer(\n",
              "          (attention): BertAttention(\n",
              "            (self): BertSelfAttention(\n",
              "              (query): Linear(in_features=768, out_features=768, bias=True)\n",
              "              (key): Linear(in_features=768, out_features=768, bias=True)\n",
              "              (value): Linear(in_features=768, out_features=768, bias=True)\n",
              "              (dropout): Dropout(p=0.1, inplace=False)\n",
              "            )\n",
              "            (output): BertSelfOutput(\n",
              "              (dense): Linear(in_features=768, out_features=768, bias=True)\n",
              "              (LayerNorm): LayerNorm((768,), eps=1e-12, elementwise_affine=True)\n",
              "              (dropout): Dropout(p=0.1, inplace=False)\n",
              "            )\n",
              "          )\n",
              "          (intermediate): BertIntermediate(\n",
              "            (dense): Linear(in_features=768, out_features=3072, bias=True)\n",
              "          )\n",
              "          (output): BertOutput(\n",
              "            (dense): Linear(in_features=3072, out_features=768, bias=True)\n",
              "            (LayerNorm): LayerNorm((768,), eps=1e-12, elementwise_affine=True)\n",
              "            (dropout): Dropout(p=0.1, inplace=False)\n",
              "          )\n",
              "        )\n",
              "        (9): BertLayer(\n",
              "          (attention): BertAttention(\n",
              "            (self): BertSelfAttention(\n",
              "              (query): Linear(in_features=768, out_features=768, bias=True)\n",
              "              (key): Linear(in_features=768, out_features=768, bias=True)\n",
              "              (value): Linear(in_features=768, out_features=768, bias=True)\n",
              "              (dropout): Dropout(p=0.1, inplace=False)\n",
              "            )\n",
              "            (output): BertSelfOutput(\n",
              "              (dense): Linear(in_features=768, out_features=768, bias=True)\n",
              "              (LayerNorm): LayerNorm((768,), eps=1e-12, elementwise_affine=True)\n",
              "              (dropout): Dropout(p=0.1, inplace=False)\n",
              "            )\n",
              "          )\n",
              "          (intermediate): BertIntermediate(\n",
              "            (dense): Linear(in_features=768, out_features=3072, bias=True)\n",
              "          )\n",
              "          (output): BertOutput(\n",
              "            (dense): Linear(in_features=3072, out_features=768, bias=True)\n",
              "            (LayerNorm): LayerNorm((768,), eps=1e-12, elementwise_affine=True)\n",
              "            (dropout): Dropout(p=0.1, inplace=False)\n",
              "          )\n",
              "        )\n",
              "        (10): BertLayer(\n",
              "          (attention): BertAttention(\n",
              "            (self): BertSelfAttention(\n",
              "              (query): Linear(in_features=768, out_features=768, bias=True)\n",
              "              (key): Linear(in_features=768, out_features=768, bias=True)\n",
              "              (value): Linear(in_features=768, out_features=768, bias=True)\n",
              "              (dropout): Dropout(p=0.1, inplace=False)\n",
              "            )\n",
              "            (output): BertSelfOutput(\n",
              "              (dense): Linear(in_features=768, out_features=768, bias=True)\n",
              "              (LayerNorm): LayerNorm((768,), eps=1e-12, elementwise_affine=True)\n",
              "              (dropout): Dropout(p=0.1, inplace=False)\n",
              "            )\n",
              "          )\n",
              "          (intermediate): BertIntermediate(\n",
              "            (dense): Linear(in_features=768, out_features=3072, bias=True)\n",
              "          )\n",
              "          (output): BertOutput(\n",
              "            (dense): Linear(in_features=3072, out_features=768, bias=True)\n",
              "            (LayerNorm): LayerNorm((768,), eps=1e-12, elementwise_affine=True)\n",
              "            (dropout): Dropout(p=0.1, inplace=False)\n",
              "          )\n",
              "        )\n",
              "        (11): BertLayer(\n",
              "          (attention): BertAttention(\n",
              "            (self): BertSelfAttention(\n",
              "              (query): Linear(in_features=768, out_features=768, bias=True)\n",
              "              (key): Linear(in_features=768, out_features=768, bias=True)\n",
              "              (value): Linear(in_features=768, out_features=768, bias=True)\n",
              "              (dropout): Dropout(p=0.1, inplace=False)\n",
              "            )\n",
              "            (output): BertSelfOutput(\n",
              "              (dense): Linear(in_features=768, out_features=768, bias=True)\n",
              "              (LayerNorm): LayerNorm((768,), eps=1e-12, elementwise_affine=True)\n",
              "              (dropout): Dropout(p=0.1, inplace=False)\n",
              "            )\n",
              "          )\n",
              "          (intermediate): BertIntermediate(\n",
              "            (dense): Linear(in_features=768, out_features=3072, bias=True)\n",
              "          )\n",
              "          (output): BertOutput(\n",
              "            (dense): Linear(in_features=3072, out_features=768, bias=True)\n",
              "            (LayerNorm): LayerNorm((768,), eps=1e-12, elementwise_affine=True)\n",
              "            (dropout): Dropout(p=0.1, inplace=False)\n",
              "          )\n",
              "        )\n",
              "      )\n",
              "    )\n",
              "    (pooler): BertPooler(\n",
              "      (dense): Linear(in_features=768, out_features=768, bias=True)\n",
              "      (activation): Tanh()\n",
              "    )\n",
              "  )\n",
              "  (dropout): Dropout(p=0.1, inplace=False)\n",
              "  (classifier): Linear(in_features=768, out_features=7, bias=True)\n",
              ")"
            ]
          },
          "metadata": {
            "tags": []
          },
          "execution_count": 6
        }
      ]
    },
    {
      "cell_type": "code",
      "metadata": {
        "id": "q2WV9jMHyv3N"
      },
      "source": [
        "# load the tokenizer\n",
        "tokenizer = BertTokenizer.from_pretrained(model_path , \n",
        "                                                        local_files_only=True, do_lower_case=True)"
      ],
      "execution_count": null,
      "outputs": []
    },
    {
      "cell_type": "markdown",
      "metadata": {
        "id": "A37wUHfk0Xge"
      },
      "source": [
        "#Get_Recommendations"
      ]
    },
    {
      "cell_type": "code",
      "metadata": {
        "id": "xX81Q40wQjoP"
      },
      "source": [
        "max_length=250\n",
        "my_categories = [ 'Type 1 and LADA',\n",
        "'Type 2', 'Diabetes and Pregnancy', 'Community', 'Food',\n",
        "'Treatment', 'Diabetes Technology']\n",
        "def Get_Recommendations(text,n):\n",
        "    # prepare our text into tokenized sequence\n",
        "    inputs = tokenizer(text, padding=True, truncation=True, max_length=max_length, return_tensors=\"pt\").to(\"cuda\")\n",
        "    # perform inference to our model\n",
        "    outputs = model(**inputs)\n",
        "    # get output probabilities by doing softmax\n",
        "    probs = outputs[0].softmax(1)\n",
        "    # executing argmax function to get the candidate label\n",
        "    p=probs.tolist()[0]\n",
        "\n",
        "    for i in probs.argsort(descending=True).tolist()[0][:n]:\n",
        "      \n",
        "      print(my_categories[i],round(p[i], 4))\n",
        "      print('https://forum.tudiabetes.org/c/'+my_categories[i].lower().strip().replace(' ', '-'))\n"
      ],
      "execution_count": null,
      "outputs": []
    },
    {
      "cell_type": "code",
      "metadata": {
        "colab": {
          "base_uri": "https://localhost:8080/"
        },
        "id": "sCpcskbpy-D_",
        "outputId": "2ff8f045-fd37-4f89-fae2-198023c5ad9b"
      },
      "source": [
        "text = \"\"\"\n",
        "I love Dexcom, I have been using it since September.\n",
        "I got G5.There are some things I like about it and some not yet.\n",
        "Also, Dexom just released newupdate for iPhone allowing almost full Apple Watch Integration, cant beat that\n",
        "\"\"\"\n",
        "print(Get_Recommendations(text,n=3))"
      ],
      "execution_count": null,
      "outputs": [
        {
          "output_type": "stream",
          "text": [
            "Diabetes Technology 0.9993\n",
            "https://forum.tudiabetes.org/c/diabetes-technology\n",
            "Type 1 and LADA 0.0006\n",
            "https://forum.tudiabetes.org/c/type-1-and-lada\n",
            "Type 2 0.0\n",
            "https://forum.tudiabetes.org/c/type-2\n",
            "None\n"
          ],
          "name": "stdout"
        }
      ]
    },
    {
      "cell_type": "code",
      "metadata": {
        "colab": {
          "base_uri": "https://localhost:8080/"
        },
        "id": "-e6CbWSVq6s4",
        "outputId": "cc3d6edd-f64a-4a58-d8e4-b375386ea1bb"
      },
      "source": [
        "\n",
        "\n",
        "\n",
        "\n",
        "text = \"\"\"\n",
        "My uncle just found out he has diabetes. he is visiting me tomorrow and I dont know what to serve dinner? does anyone have any diabetes friendly recipe suggestions?\n",
        "\n",
        "\"\"\"\n",
        "print(Get_Recommendations(text,n=3))"
      ],
      "execution_count": null,
      "outputs": [
        {
          "output_type": "stream",
          "text": [
            "Food 0.9996\n",
            "https://forum.tudiabetes.org/c/food\n",
            "Type 2 0.0001\n",
            "https://forum.tudiabetes.org/c/type-2\n",
            "Community 0.0001\n",
            "https://forum.tudiabetes.org/c/community\n",
            "None\n"
          ],
          "name": "stdout"
        }
      ]
    },
    {
      "cell_type": "code",
      "metadata": {
        "colab": {
          "base_uri": "https://localhost:8080/"
        },
        "id": "hk3w4sGgrJV5",
        "outputId": "563d650d-df41-4ae0-d33a-8ec5a581b7bb"
      },
      "source": [
        "text = \"\"\"\n",
        "I have high blood suger and my doctor told me I have Type 1 diabetes. What should I avoid. Any tips on good diets and recipes?\n",
        "\"\"\"\n",
        "print(Get_Recommendations(text,n=3))"
      ],
      "execution_count": null,
      "outputs": [
        {
          "output_type": "stream",
          "text": [
            "Food 0.9995\n",
            "https://forum.tudiabetes.org/c/food\n",
            "Type 2 0.0003\n",
            "https://forum.tudiabetes.org/c/type-2\n",
            "Type 1 and LADA 0.0\n",
            "https://forum.tudiabetes.org/c/type-1-and-lada\n",
            "None\n"
          ],
          "name": "stdout"
        }
      ]
    },
    {
      "cell_type": "code",
      "metadata": {
        "colab": {
          "base_uri": "https://localhost:8080/"
        },
        "id": "3Ocz4Nu0g7d0",
        "outputId": "75c9906b-d7ac-4d73-f36f-0665a6478c7d"
      },
      "source": [
        "\n",
        "\n",
        "\n",
        "text = \"\"\"\n",
        "Coming up on officially 4 years since my last new pump, a 670G that sucked so bad it went back into its box in my D drawer and hasn’t been out since. I reverted to my good old reliable pager-style Paradigm 723 and G6, and my A1Cs have been in the 5.8-6.3 range. But my 670G warranty expires in March, so of course I’m getting pinged by Medtronic and Tandem both about signing up for a shiny new replacement. Part of me just instinctively says “Oh goody, new D tech, let’s go!” Kinda like buying a new car.\n",
        "\n",
        "EXCEPT, when I think about it I’m just kind of un-thrilled about either choice. Partly I think it’s because my experience with the 670 soured me on the whole AID (Automated Insulin Delivery) experience. Here’s what’s been running through my mind at the prospect:\n",
        "\n",
        "Medt:\n",
        "+Pluses/-Minuses\n",
        "\n",
        "+Free upgrade to 780 (when it’s released) lets you set a lower algorithm target now (100, vs 120 for the 670)\n",
        "+I’m used to how Mdt does things, including reservoir & Mio insets.\n",
        "+Whole new algorithm, supposedly better than 670.\n",
        "-Guardian Sensor (new CGM might be better, but it’s still in development)\n",
        "-No longer talks to ContourNext!!! Have to switch to less accurate BG meter. Why did they do this??? This may be the deal-breaker, oddly enough. You have to calibrate Guardians 2x/day.\n",
        "Tandem\n",
        "Pluses/questions\n",
        "\n",
        "Control-IQ. People seem to like it, but more recently I’ve been seeing gripes from people who were already getting low-6 AICs and aren’t happy with results on this system. Fixed target isn’t flexible enough. Can anyone comment/confirm?\n",
        "Rube-goldbergian reservoir/inset system. Changing sets seems like a PIA, unless it’s compensated by other advantages.\n",
        "AID in general:\n",
        "\n",
        "We locked up your pump! Just trust the algorithm! Doesn’t work so good? Oh well. That was my feeling about the 670, anyway. Does anyone feel like that’s no longer operative? Especially interested to hear from anyone who was getting ~6 A1Cs before going on Control IQ and is still satisfied!\n",
        "\"\"\"\n",
        "print(Get_Recommendations(text,n=3))"
      ],
      "execution_count": null,
      "outputs": [
        {
          "output_type": "stream",
          "text": [
            "Diabetes Technology 0.9998\n",
            "https://forum.tudiabetes.org/c/diabetes-technology\n",
            "Community 0.0\n",
            "https://forum.tudiabetes.org/c/community\n",
            "Treatment 0.0\n",
            "https://forum.tudiabetes.org/c/treatment\n",
            "None\n"
          ],
          "name": "stdout"
        }
      ]
    },
    {
      "cell_type": "code",
      "metadata": {
        "id": "2-Bj2CHoiNZD"
      },
      "source": [
        ""
      ],
      "execution_count": null,
      "outputs": []
    },
    {
      "cell_type": "code",
      "metadata": {
        "colab": {
          "base_uri": "https://localhost:8080/"
        },
        "id": "2rOZw2YhQruI",
        "outputId": "071dc8c1-8c7f-4d59-e614-c08bf0bcdcf9"
      },
      "source": [
        "text = \"\"\"\n",
        "I have started a Dexcom Users Group and posted an introductory discussion. \n",
        "If you use a Dexcom CGM or are interested in learning about it, please join the group. \n",
        "There is a Dexcom group on another site with over 200 members. The site itself is smaller than DD. \n",
        "I think we should be able to have a good Dexcom group here on DD. \n",
        "The Dexcom is a great CGM and is scheduled to integrate with both the Animas and Omnipod pumps later this year. \n",
        "We need experienced users to help answer questions. Please join our Dexcom Users Group.\n",
        "\"\"\"\n",
        "print(Get_Recommendations(text,n=3))"
      ],
      "execution_count": null,
      "outputs": [
        {
          "output_type": "stream",
          "text": [
            "Diabetes Technology 0.9999\n",
            "https://forum.tudiabetes.org/c/diabetes-technology\n",
            "Diabetes and Pregnancy 0.0\n",
            "https://forum.tudiabetes.org/c/diabetes-and-pregnancy\n",
            "Community 0.0\n",
            "https://forum.tudiabetes.org/c/community\n",
            "None\n"
          ],
          "name": "stdout"
        }
      ]
    },
    {
      "cell_type": "code",
      "metadata": {
        "colab": {
          "base_uri": "https://localhost:8080/"
        },
        "id": "OvRq1eiQiu8V",
        "outputId": "4955dd77-2d51-476c-be06-083e47e3566c"
      },
      "source": [
        "text = \"\"\"\n",
        "Just a reminder. When I was using the Guardian 3 CGM with a 630G, you were required to calibrate every 6 hours for the first 4 (I think) calibrations immediately after the initial sensor warm-up. Calibrations were every 12 hours only after this roughly first 24 hours of more frequent calibrations.\n",
        "\n",
        "I assume this was because the sensor had still not reached a sufficient equilibrium and needed more frequent calibrations to stay on track. I found this annoying, sure. But my primary goal was to be able to trust my CGM results so I just worked with it.\n",
        "\n",
        "Maybe it will be different with the 770G. I have not seen any feedback about this from 770G users so I just don’t know one way or another.\"\"\"\n",
        "print(Get_Recommendations(text,n=3))"
      ],
      "execution_count": null,
      "outputs": [
        {
          "output_type": "stream",
          "text": [
            "Diabetes Technology 0.9992\n",
            "https://forum.tudiabetes.org/c/diabetes-technology\n",
            "Type 1 and LADA 0.0006\n",
            "https://forum.tudiabetes.org/c/type-1-and-lada\n",
            "Community 0.0001\n",
            "https://forum.tudiabetes.org/c/community\n",
            "None\n"
          ],
          "name": "stdout"
        }
      ]
    },
    {
      "cell_type": "code",
      "metadata": {
        "colab": {
          "base_uri": "https://localhost:8080/"
        },
        "id": "sUZCLuOzzmHV",
        "outputId": "1c9eda91-a34b-40dc-ab64-c5bbf243e5b8"
      },
      "source": [
        "text = \"\"\"\n",
        "So, Im new here to the whole website…just wanted to share my story…I’m a Type 1 with a perfectly healthy 4 year old son. \n",
        "Im trying to get my A1c to an acceptable level to have baby number 2! Any suggestions? \n",
        "My sugars were the best they’ve ever been while i was pregnant with Brandon (the 4 yr old)…he was a surprise…when i found out i was pregnant my a1c was a whopping 13. \n",
        "Needless to say we got EXTREMELY lucky with him. During my pregnancy my a1c never went over 6. \n",
        "it was amazing. I’m trying to get my lazy butt back to the gym, and start checking my sugar more…i was just wondering what everyone else was doing to prepare???\n",
        "\"\"\"\n",
        "print(Get_Recommendations(text,n=3))"
      ],
      "execution_count": null,
      "outputs": [
        {
          "output_type": "stream",
          "text": [
            "Diabetes and Pregnancy 0.9999\n",
            "https://forum.tudiabetes.org/c/diabetes-and-pregnancy\n",
            "Community 0.0\n",
            "https://forum.tudiabetes.org/c/community\n",
            "Diabetes Technology 0.0\n",
            "https://forum.tudiabetes.org/c/diabetes-technology\n",
            "None\n"
          ],
          "name": "stdout"
        }
      ]
    },
    {
      "cell_type": "code",
      "metadata": {
        "colab": {
          "base_uri": "https://localhost:8080/"
        },
        "id": "imnJO83nkJsh",
        "outputId": "e99faa69-c1b0-44ac-ca43-51be2a717651"
      },
      "source": [
        "#https://forum.tudiabetes.org/t/libre-2-are-they-accurate/86305\n",
        "text = \"\"\"\n",
        "\n",
        "I just started using the Libre 2 system. I frequently get results 50 to 70 points different from finger sticks. Are others experiencing the same situation?\n",
        "\"\"\"\n",
        "print(Get_Recommendations(text,n=3))"
      ],
      "execution_count": null,
      "outputs": [
        {
          "output_type": "stream",
          "text": [
            "Type 2 0.9023\n",
            "https://forum.tudiabetes.org/c/type-2\n",
            "Treatment 0.044\n",
            "https://forum.tudiabetes.org/c/treatment\n",
            "Diabetes Technology 0.0379\n",
            "https://forum.tudiabetes.org/c/diabetes-technology\n",
            "None\n"
          ],
          "name": "stdout"
        }
      ]
    },
    {
      "cell_type": "code",
      "metadata": {
        "colab": {
          "base_uri": "https://localhost:8080/"
        },
        "id": "uYMKJdk8khQ-",
        "outputId": "8184daad-450a-4ab5-d2a0-af8c1a0291df"
      },
      "source": [
        "#https://forum.tudiabetes.org/t/new-beyond-type-2-app/86236\n",
        "text = \"\"\"\n",
        "\n",
        "Have you checked out the Beyond Type 2 Community - a new app and online community for everyone with Type 2 diabetes to connect?\n",
        "\n",
        "Together, we’re building a safe space to share ideas, stories, resources, and perspectives in English and Spanish, for not only living with T2D but thriving with it.\n",
        "\n",
        "Download the Beyond Type 2 App from your mobile App Store or access it on any browser at community.beyondtype2.org 3.\n",
        "\n",
        "Please let me know if you have any questions!\"\"\"\n",
        "print(Get_Recommendations(text,n=3))"
      ],
      "execution_count": null,
      "outputs": [
        {
          "output_type": "stream",
          "text": [
            "Type 2 0.9998\n",
            "https://forum.tudiabetes.org/c/type-2\n",
            "Community 0.0\n",
            "https://forum.tudiabetes.org/c/community\n",
            "Type 1 and LADA 0.0\n",
            "https://forum.tudiabetes.org/c/type-1-and-lada\n",
            "None\n"
          ],
          "name": "stdout"
        }
      ]
    },
    {
      "cell_type": "code",
      "metadata": {
        "colab": {
          "base_uri": "https://localhost:8080/"
        },
        "id": "28kVasOhlNet",
        "outputId": "9133f1a5-baae-4b2d-c01e-a78007f06470"
      },
      "source": [
        "#https://forum.tudiabetes.org/t/libre-2-are-they-accurate/86305\n",
        "text = \"\"\"\n",
        "\n",
        "I’m just sort of introducing myself and hope to hear others’ experiences. I was diagnosed with T2 in 2005. \n",
        "I started doing Dr. Richard Bernstein’s diet right away and lowered my a1c to 5.7. I was not on medication all those years until now, \n",
        "just doing low carb and able to keep my a1c decent, \n",
        "though never where I wanted it to be. It has been anywhere from 6 to 6.7,\n",
        "depending. Having gone through a lot of grief, loss, and stress over the years set me back, \n",
        "and gradually it seemed it was harder and harder to keep blood sugars in a good range. \n",
        "My fasting bg has been climbing higher and my pp bg is higher in spite of eating low carb usually. \n",
        "I tried metformin but after a month of feeling like I had a stomach flu every day I decided this was not going to get better and was not liveable. I asked my doctor if she would prescribe a fast acting insulin for meals and she did. I’m on Humalog on a sliding scale. Most of the time I just need it for morning breakfast. But even eating 10g carbs per meal or less I find I often need some with my meal or it climbs and does not go back down after 2 hours like it used to. I walk 30 min. a day sometimes 2 or 3 times a day, after each meal. I only had one serious hypo which was the first time I actually used the Humalog. I made the mistake of doing a brisk walk after taking it before it was done working and my bg dropped to 49. I was able to quickly bring it back up to normal with glucose tabs. I’m used to how it all affects my body now so I don’t have hypos, and I’m more careful about timing my exercise. Sometimes I can skip the humalog and just do the walk.\n",
        "So anyway, that’s my story. I’ve been reading some of the posts for a while and find it very interesting how different everyone’s experiences are!\"\"\"\n",
        "print(Get_Recommendations(text,n=3))"
      ],
      "execution_count": null,
      "outputs": [
        {
          "output_type": "stream",
          "text": [
            "Type 2 0.9998\n",
            "https://forum.tudiabetes.org/c/type-2\n",
            "Community 0.0\n",
            "https://forum.tudiabetes.org/c/community\n",
            "Type 1 and LADA 0.0\n",
            "https://forum.tudiabetes.org/c/type-1-and-lada\n",
            "None\n"
          ],
          "name": "stdout"
        }
      ]
    },
    {
      "cell_type": "code",
      "metadata": {
        "colab": {
          "base_uri": "https://localhost:8080/"
        },
        "id": "Nk21ks2NmJiC",
        "outputId": "47d43202-77e6-4561-89d9-c36935987248"
      },
      "source": [
        "#https://www.diabetes.co.uk/forum/threads/pregnant-with-non-diabetic-reactive-hypoglycaemia.180045/\n",
        "text = \"\"\"\n",
        "Hello everyone,\n",
        "\n",
        "Has anyone been pregnant with this? As I’m currently pregnant and monitored my blood sugar for two weeks at around eight weeks which was all fine, I’ve got to monitor again when I get to 28 weeks to check for gestational diabetes and I’ve been trying to avoid sugar as much as I can but sometimes I just want a brownie. Would there be any damage done to the baby from the occasional low?\n",
        "\n",
        "I’ve not had a lot of support from the midwives, not through any fault of their own but they’d never even heard of this before and the diabetes team didn’t seem to know much about it either so I’d love to speak to anyone who’s been through pregnancy with it.\"\"\"\n",
        "print(Get_Recommendations(text,n=3))"
      ],
      "execution_count": null,
      "outputs": [
        {
          "output_type": "stream",
          "text": [
            "Diabetes and Pregnancy 0.9998\n",
            "https://forum.tudiabetes.org/c/diabetes-and-pregnancy\n",
            "Treatment 0.0001\n",
            "https://forum.tudiabetes.org/c/treatment\n",
            "Community 0.0001\n",
            "https://forum.tudiabetes.org/c/community\n",
            "None\n"
          ],
          "name": "stdout"
        }
      ]
    },
    {
      "cell_type": "code",
      "metadata": {
        "colab": {
          "base_uri": "https://localhost:8080/"
        },
        "id": "dflJmxpPmRnz",
        "outputId": "5d4c5d32-848e-4599-b772-456c560ef25b"
      },
      "source": [
        "text = \"\"\"\n",
        "Hoping to gain some knowledge from all your insights into which are the best times of day to do light/moderate exercise - indoor upright bike or walking. Aiming not to stimulate appetite or raise glucose levels. So what is optimum in your experience.\n",
        "I haven't yet tested before and after exercise just in relation to meals. Thanks to all who contribute to my learning.\"\"\"\n",
        "\n",
        "print(Get_Recommendations(text,n=3))"
      ],
      "execution_count": null,
      "outputs": [
        {
          "output_type": "stream",
          "text": [
            "Type 2 0.9885\n",
            "https://forum.tudiabetes.org/c/type-2\n",
            "Treatment 0.0106\n",
            "https://forum.tudiabetes.org/c/treatment\n",
            "Community 0.0006\n",
            "https://forum.tudiabetes.org/c/community\n",
            "None\n"
          ],
          "name": "stdout"
        }
      ]
    },
    {
      "cell_type": "code",
      "metadata": {
        "colab": {
          "base_uri": "https://localhost:8080/"
        },
        "id": "zJdJ_GDuLoNe",
        "outputId": "45bc8e74-75cb-48df-bc20-86428033140d"
      },
      "source": [
        "text = \"\"\"\n",
        "Hi all, I’m considering loading up an old pump with symlin. \n",
        "I am already pumping insulin. My question: do people really think it is necessary to have TWO sites- one for insulin and one for symlin? \n",
        "Would it be possible to just bolus the symlin through the same site? (and yes, I know they aren’t SUPPOSED to be mixed…) Any thoughts would be appreciated. \n",
        "Thanks,Ruth\"\"\"\n",
        "print(Get_Recommendations(text,n=3))"
      ],
      "execution_count": null,
      "outputs": [
        {
          "output_type": "stream",
          "text": [
            "Type 1 and LADA 0.999\n",
            "https://forum.tudiabetes.org/c/type-1-and-lada\n",
            "Type 2 0.0\n",
            "https://forum.tudiabetes.org/c/type-2\n",
            "Community 0.0\n",
            "https://forum.tudiabetes.org/c/community\n",
            "None\n"
          ],
          "name": "stdout"
        }
      ]
    },
    {
      "cell_type": "code",
      "metadata": {
        "colab": {
          "base_uri": "https://localhost:8080/"
        },
        "id": "zxq2hupizyWz",
        "outputId": "892280fd-4318-4f8c-8c9a-9927f4f4724f"
      },
      "source": [
        "text=\"\"\"My insurance will no longer cover Humalog. \n",
        "Instead they will cover Insulin Lispro, the generic form. Has anyone used it?How did it work out?\"\"\"\n",
        "\n",
        "print(Get_Recommendations(text,n=3))"
      ],
      "execution_count": null,
      "outputs": [
        {
          "output_type": "stream",
          "text": [
            "Type 1 and LADA 1.0\n",
            "https://forum.tudiabetes.org/c/type-1-and-lada\n",
            "Type 2 0.0\n",
            "https://forum.tudiabetes.org/c/type-2\n",
            "Community 0.0\n",
            "https://forum.tudiabetes.org/c/community\n",
            "None\n"
          ],
          "name": "stdout"
        }
      ]
    },
    {
      "cell_type": "code",
      "metadata": {
        "colab": {
          "base_uri": "https://localhost:8080/"
        },
        "id": "tWM7jx5Xzye8",
        "outputId": "4ff0e7dd-f1d8-4920-da88-9d04a704d347"
      },
      "source": [
        "text=\"\"\"Don’t you think nuts get a bad wrap as being “High Fat” ?? \n",
        "They are not saturated fats since they come from a plant source. \n",
        "I tried to become a vegetarian a few years back and found that it was very expensive. \n",
        "I am sure you know how to work around it. My husband and I are involved in animal welfare organizations and have considered giving up meat. \n",
        "We really need to educate ourselves on this issue. Do you recommend any books or magazines???\"\"\"\n",
        "print(Get_Recommendations(text,n=3))"
      ],
      "execution_count": null,
      "outputs": [
        {
          "output_type": "stream",
          "text": [
            "Food 0.999\n",
            "https://forum.tudiabetes.org/c/food\n",
            "Type 2 0.0\n",
            "https://forum.tudiabetes.org/c/type-2\n",
            "Community 0.0\n",
            "https://forum.tudiabetes.org/c/community\n",
            "None\n"
          ],
          "name": "stdout"
        }
      ]
    },
    {
      "cell_type": "code",
      "metadata": {
        "id": "Z_FghqCZzyik"
      },
      "source": [
        ""
      ],
      "execution_count": null,
      "outputs": []
    },
    {
      "cell_type": "code",
      "metadata": {
        "id": "YepQKxuVzylc"
      },
      "source": [
        ""
      ],
      "execution_count": null,
      "outputs": []
    },
    {
      "cell_type": "code",
      "metadata": {
        "colab": {
          "base_uri": "https://localhost:8080/"
        },
        "id": "E9JU1QCbLoRE",
        "outputId": "a6446f58-b2e7-4952-a5f3-b801739e6fcc"
      },
      "source": [
        "\n",
        "text=\"\"\"yes, i always bring with me at least 18g of carbs for the 90minute Bikram Yoga class…and i love the shot blocks,they are great, however they are expensive…so i have been going to the local Walgreens and buying the large sized “orange candy things”…i dont know the name of them, will look later…but they are chewy and they have sugar coated on the outside, they only cost $1 for the whole pack…i keep them in my gym back and always carry three of them with me b4 class…i set them out of sight by my water bottle and usually sit near a wall(i am not a great yogi)…and also where a pump, then every 20min, when i drink water, grab the candy…love the Bikram Yoga, and the flexibility i get\"\"\"\n",
        "print(Get_Recommendations(text,n=3))"
      ],
      "execution_count": null,
      "outputs": [
        {
          "output_type": "stream",
          "text": [
            "Food 0.974\n",
            "https://forum.tudiabetes.org/c/food\n",
            "Community 0.0102\n",
            "https://forum.tudiabetes.org/c/community\n",
            "Type 2 0.006\n",
            "https://forum.tudiabetes.org/c/type-2\n",
            "None\n"
          ],
          "name": "stdout"
        }
      ]
    },
    {
      "cell_type": "code",
      "metadata": {
        "colab": {
          "base_uri": "https://localhost:8080/"
        },
        "id": "KzD15T8QUbFL",
        "outputId": "0c7b899f-634d-44ef-ee45-642851966e4e"
      },
      "source": [
        "\n",
        "text='My insurance will no longer cover Humalog. Instead they will cover Insulin Lispro, the generic form. Has anyone used it?How did it work out?'\n",
        "\n",
        "print(Get_Recommendations(text,n=3))"
      ],
      "execution_count": null,
      "outputs": [
        {
          "output_type": "stream",
          "text": [
            "Type 1 and LADA 0.9996\n",
            "https://forum.tudiabetes.org/c/type-1-and-lada\n",
            "Type 2 0.0002\n",
            "https://forum.tudiabetes.org/c/type-2\n",
            "Community 0.0001\n",
            "https://forum.tudiabetes.org/c/community\n",
            "None\n"
          ],
          "name": "stdout"
        }
      ]
    },
    {
      "cell_type": "code",
      "metadata": {
        "colab": {
          "base_uri": "https://localhost:8080/"
        },
        "id": "kNkSFs1bUjka",
        "outputId": "84bae687-515f-4f49-eff9-60240f51b29d"
      },
      "source": [
        "\n",
        "text='For those of you that have experienced the honeymoon phase of type 1, what kind of increase in your total daily insulin dose did you see? Did you start out after diagnosis injecting a small amount of insulin and then notice a marked increase when the honeymoon was over? I started injecting approximately 5-10 units a day at diagnosis and now I’m up to about 30 units a day. I realize this is not an exact science, but I’d like to compare with others to see if I’m close to the end of the honeymoon, or if there’s still a ways to go.'\n",
        "\n",
        "print(Get_Recommendations(text,n=3))"
      ],
      "execution_count": null,
      "outputs": [
        {
          "output_type": "stream",
          "text": [
            "Type 1 and LADA 0.9928\n",
            "https://forum.tudiabetes.org/c/type-1-and-lada\n",
            "Type 2 0.0042\n",
            "https://forum.tudiabetes.org/c/type-2\n",
            "Treatment 0.0015\n",
            "https://forum.tudiabetes.org/c/treatment\n",
            "None\n"
          ],
          "name": "stdout"
        }
      ]
    },
    {
      "cell_type": "code",
      "metadata": {
        "colab": {
          "base_uri": "https://localhost:8080/"
        },
        "id": "uMIXhpiaUjnB",
        "outputId": "05694229-4d0b-40ab-f416-f44efb9a4465"
      },
      "source": [
        "\n",
        "text='Do any members have experience with eating a High Fiber Diet to keep blood sugars more stabilized???'\n",
        "\n",
        "print(Get_Recommendations(text,n=3))"
      ],
      "execution_count": null,
      "outputs": [
        {
          "output_type": "stream",
          "text": [
            "Food 0.996\n",
            "https://forum.tudiabetes.org/c/food\n",
            "Community 0.0033\n",
            "https://forum.tudiabetes.org/c/community\n",
            "Type 2 0.0004\n",
            "https://forum.tudiabetes.org/c/type-2\n",
            "None\n"
          ],
          "name": "stdout"
        }
      ]
    },
    {
      "cell_type": "code",
      "metadata": {
        "id": "FQBN7mjtUjr6",
        "colab": {
          "base_uri": "https://localhost:8080/"
        },
        "outputId": "e176c5bb-0650-46bb-c75e-0bd9d0cc4cdf"
      },
      "source": [
        "text='can I eat fatty lunch?? or fruits that are high in sugar?'\n",
        "\n",
        "print(Get_Recommendations(text,n=3))"
      ],
      "execution_count": null,
      "outputs": [
        {
          "output_type": "stream",
          "text": [
            "Food 0.9982\n",
            "https://forum.tudiabetes.org/c/food\n",
            "Type 2 0.0015\n",
            "https://forum.tudiabetes.org/c/type-2\n",
            "Type 1 and LADA 0.0001\n",
            "https://forum.tudiabetes.org/c/type-1-and-lada\n",
            "None\n"
          ],
          "name": "stdout"
        }
      ]
    },
    {
      "cell_type": "code",
      "metadata": {
        "id": "xJWCxVUhUju6"
      },
      "source": [
        ""
      ],
      "execution_count": null,
      "outputs": []
    },
    {
      "cell_type": "code",
      "metadata": {
        "id": "3aXk1tNQUjxh"
      },
      "source": [
        ""
      ],
      "execution_count": null,
      "outputs": []
    }
  ]
}