{
  "nbformat": 4,
  "nbformat_minor": 0,
  "metadata": {
    "colab": {
      "name": "BERT +Pytorch_FINETUNE.ipynb",
      "provenance": [],
      "collapsed_sections": [],
      "toc_visible": true
    },
    "kernelspec": {
      "name": "python3",
      "display_name": "Python 3"
    },
    "accelerator": "GPU"
  },
  "cells": [
    {
      "cell_type": "markdown",
      "metadata": {
        "id": "_XTfDEtd5y-o"
      },
      "source": [
        "#Import Libraries\n"
      ]
    },
    {
      "cell_type": "code",
      "metadata": {
        "colab": {
          "base_uri": "https://localhost:8080/"
        },
        "id": "CQ8WPmZNfy5g",
        "outputId": "1a4cef1b-0c34-4d09-cd1b-efab09f05e83"
      },
      "source": [
        "pip install transformers==3"
      ],
      "execution_count": null,
      "outputs": [
        {
          "output_type": "stream",
          "text": [
            "Requirement already satisfied: transformers==3 in /usr/local/lib/python3.7/dist-packages (3.0.0)\n",
            "Requirement already satisfied: sacremoses in /usr/local/lib/python3.7/dist-packages (from transformers==3) (0.0.43)\n",
            "Requirement already satisfied: packaging in /usr/local/lib/python3.7/dist-packages (from transformers==3) (20.9)\n",
            "Requirement already satisfied: tqdm>=4.27 in /usr/local/lib/python3.7/dist-packages (from transformers==3) (4.41.1)\n",
            "Requirement already satisfied: tokenizers==0.8.0-rc4 in /usr/local/lib/python3.7/dist-packages (from transformers==3) (0.8.0rc4)\n",
            "Requirement already satisfied: filelock in /usr/local/lib/python3.7/dist-packages (from transformers==3) (3.0.12)\n",
            "Requirement already satisfied: requests in /usr/local/lib/python3.7/dist-packages (from transformers==3) (2.23.0)\n",
            "Requirement already satisfied: sentencepiece in /usr/local/lib/python3.7/dist-packages (from transformers==3) (0.1.95)\n",
            "Requirement already satisfied: numpy in /usr/local/lib/python3.7/dist-packages (from transformers==3) (1.19.5)\n",
            "Requirement already satisfied: regex!=2019.12.17 in /usr/local/lib/python3.7/dist-packages (from transformers==3) (2019.12.20)\n",
            "Requirement already satisfied: joblib in /usr/local/lib/python3.7/dist-packages (from sacremoses->transformers==3) (1.0.1)\n",
            "Requirement already satisfied: six in /usr/local/lib/python3.7/dist-packages (from sacremoses->transformers==3) (1.15.0)\n",
            "Requirement already satisfied: click in /usr/local/lib/python3.7/dist-packages (from sacremoses->transformers==3) (7.1.2)\n",
            "Requirement already satisfied: pyparsing>=2.0.2 in /usr/local/lib/python3.7/dist-packages (from packaging->transformers==3) (2.4.7)\n",
            "Requirement already satisfied: idna<3,>=2.5 in /usr/local/lib/python3.7/dist-packages (from requests->transformers==3) (2.10)\n",
            "Requirement already satisfied: certifi>=2017.4.17 in /usr/local/lib/python3.7/dist-packages (from requests->transformers==3) (2020.12.5)\n",
            "Requirement already satisfied: chardet<4,>=3.0.2 in /usr/local/lib/python3.7/dist-packages (from requests->transformers==3) (3.0.4)\n",
            "Requirement already satisfied: urllib3!=1.25.0,!=1.25.1,<1.26,>=1.21.1 in /usr/local/lib/python3.7/dist-packages (from requests->transformers==3) (1.24.3)\n"
          ],
          "name": "stdout"
        }
      ]
    },
    {
      "cell_type": "code",
      "metadata": {
        "id": "bXKdGkaVfQdQ"
      },
      "source": [
        "\n",
        "# Libraries\n",
        "\n",
        "import matplotlib.pyplot as plt\n",
        "import pandas as pd\n",
        "import torch\n",
        "\n",
        "# Preliminaries\n",
        "\n",
        "from torchtext.data import Field, TabularDataset, BucketIterator, Iterator\n",
        "\n",
        "# Models\n",
        "import torch\n",
        "from torch.utils.data import DataLoader, Dataset\n",
        "device = torch.device('cuda:0')\n",
        "import torch.nn as nn\n",
        "from transformers import BertTokenizer, BertForSequenceClassification\n",
        "# Training\n",
        "\n",
        "import torch.optim as optim\n",
        "\n",
        "# Evaluation\n",
        "\n",
        "from sklearn.metrics import accuracy_score, classification_report, confusion_matrix\n",
        "import seaborn as sns\n"
      ],
      "execution_count": null,
      "outputs": []
    },
    {
      "cell_type": "code",
      "metadata": {
        "colab": {
          "base_uri": "https://localhost:8080/"
        },
        "id": "13eyb4keffNX",
        "outputId": "dd1e4e40-08f2-48f2-c5ac-b01804a0c47f"
      },
      "source": [
        "!pip install contractions\n",
        "import matplotlib.pyplot as plt\n",
        "import seaborn as sns\n",
        "from collections import defaultdict\n",
        "import numpy as np\n",
        "import pandas as pd\n",
        "from sklearn.model_selection import train_test_split\n",
        "import contractions\n",
        "import re\n",
        "import torch\n",
        "import transformers as ppb\n",
        "import warnings\n",
        "import logging\n",
        "logging.basicConfig(level=logging.ERROR)\n",
        "warnings.filterwarnings('ignore')\n",
        "\n",
        "# specify GPU\n",
        "device = torch.device(\"cuda\")\n",
        "#from transformers import BertModel, BertConfig,BertTokenizer"
      ],
      "execution_count": null,
      "outputs": [
        {
          "output_type": "stream",
          "text": [
            "Requirement already satisfied: contractions in /usr/local/lib/python3.7/dist-packages (0.0.48)\n",
            "Requirement already satisfied: textsearch>=0.0.21 in /usr/local/lib/python3.7/dist-packages (from contractions) (0.0.21)\n",
            "Requirement already satisfied: anyascii in /usr/local/lib/python3.7/dist-packages (from textsearch>=0.0.21->contractions) (0.1.7)\n",
            "Requirement already satisfied: pyahocorasick in /usr/local/lib/python3.7/dist-packages (from textsearch>=0.0.21->contractions) (1.4.1)\n"
          ],
          "name": "stdout"
        }
      ]
    },
    {
      "cell_type": "markdown",
      "metadata": {
        "id": "jGPBvfL2thhE"
      },
      "source": [
        "#Load Dataset/Git Clone"
      ]
    },
    {
      "cell_type": "code",
      "metadata": {
        "colab": {
          "base_uri": "https://localhost:8080/"
        },
        "id": "hAR9W9VntU1J",
        "outputId": "c503a361-a8a2-4c10-fee9-a1a37e06a76b"
      },
      "source": [
        "!git clone https://github.com/YasaminAbbaszadegan/NLP_Forum_Recomendation_Engine.git\n"
      ],
      "execution_count": null,
      "outputs": [
        {
          "output_type": "stream",
          "text": [
            "fatal: destination path 'NLP_Forum_Recomendation_Engine' already exists and is not an empty directory.\n"
          ],
          "name": "stdout"
        }
      ]
    },
    {
      "cell_type": "code",
      "metadata": {
        "colab": {
          "base_uri": "https://localhost:8080/"
        },
        "id": "OrlzLqChtXwI",
        "outputId": "865d6a47-aa74-4a4c-8941-5b5603832dba"
      },
      "source": [
        "cd /content/NLP_Forum_Recomendation_Engine/Dataset\n"
      ],
      "execution_count": null,
      "outputs": [
        {
          "output_type": "stream",
          "text": [
            "/content/NLP_Forum_Recomendation_Engine/Dataset\n"
          ],
          "name": "stdout"
        }
      ]
    },
    {
      "cell_type": "code",
      "metadata": {
        "id": "24Bfr_totm_F"
      },
      "source": [
        "df=pd.read_csv('tudiabetes_20.csv',index_col=0)"
      ],
      "execution_count": null,
      "outputs": []
    },
    {
      "cell_type": "code",
      "metadata": {
        "colab": {
          "base_uri": "https://localhost:8080/",
          "height": 281
        },
        "id": "ZbblFHGDtrdT",
        "outputId": "a960c934-bc9b-41eb-93ff-f02784ce2e98"
      },
      "source": [
        "df.head()"
      ],
      "execution_count": null,
      "outputs": [
        {
          "output_type": "execute_result",
          "data": {
            "text/html": [
              "<div>\n",
              "<style scoped>\n",
              "    .dataframe tbody tr th:only-of-type {\n",
              "        vertical-align: middle;\n",
              "    }\n",
              "\n",
              "    .dataframe tbody tr th {\n",
              "        vertical-align: top;\n",
              "    }\n",
              "\n",
              "    .dataframe thead th {\n",
              "        text-align: right;\n",
              "    }\n",
              "</style>\n",
              "<table border=\"1\" class=\"dataframe\">\n",
              "  <thead>\n",
              "    <tr style=\"text-align: right;\">\n",
              "      <th></th>\n",
              "      <th>Topic Title</th>\n",
              "      <th>Category</th>\n",
              "      <th>Tags</th>\n",
              "      <th>Leading Post</th>\n",
              "      <th>Post Replies</th>\n",
              "      <th>Created_at</th>\n",
              "      <th>Likes</th>\n",
              "      <th>Views</th>\n",
              "      <th>Replies</th>\n",
              "    </tr>\n",
              "  </thead>\n",
              "  <tbody>\n",
              "    <tr>\n",
              "      <th>0</th>\n",
              "      <td>About the Social Clubs category</td>\n",
              "      <td>Social Clubs</td>\n",
              "      <td>[]</td>\n",
              "      <td>Social Clubs are places for people with simila...</td>\n",
              "      <td>[]</td>\n",
              "      <td>Jul 26, 2018 9:24 pm</td>\n",
              "      <td>0</td>\n",
              "      <td>722</td>\n",
              "      <td>2</td>\n",
              "    </tr>\n",
              "    <tr>\n",
              "      <th>1</th>\n",
              "      <td>Latest Movie You’ve Seen?</td>\n",
              "      <td>Social Clubs</td>\n",
              "      <td>['Movies and Entertainment Media']</td>\n",
              "      <td>Hi Everyone,\\nWhat is the latest movie that yo...</td>\n",
              "      <td>['My wife and I see about one movie a week.  L...</td>\n",
              "      <td>Mar 12, 2019 12:45 am</td>\n",
              "      <td>0</td>\n",
              "      <td>578</td>\n",
              "      <td>5</td>\n",
              "    </tr>\n",
              "    <tr>\n",
              "      <th>2</th>\n",
              "      <td>Anyone doing the Broad St. Run in philly</td>\n",
              "      <td>Social Clubs</td>\n",
              "      <td>['Running']</td>\n",
              "      <td>got my notification yesterday. time to get bac...</td>\n",
              "      <td>[]</td>\n",
              "      <td>0</td>\n",
              "      <td>0</td>\n",
              "      <td>0</td>\n",
              "      <td>0</td>\n",
              "    </tr>\n",
              "    <tr>\n",
              "      <th>3</th>\n",
              "      <td>Embroidery…. just starting out</td>\n",
              "      <td>Social Clubs</td>\n",
              "      <td>['Carefully Crafted']</td>\n",
              "      <td>Love love love creating!\\nAfter years of not s...</td>\n",
              "      <td>['That’s beautiful!', 'Thanks, so loving a dar...</td>\n",
              "      <td>Feb 4, 2019 11:31 am</td>\n",
              "      <td>4</td>\n",
              "      <td>505</td>\n",
              "      <td>2</td>\n",
              "    </tr>\n",
              "    <tr>\n",
              "      <th>4</th>\n",
              "      <td>Home theatre</td>\n",
              "      <td>Social Clubs</td>\n",
              "      <td>['Movies and Entertainment Media']</td>\n",
              "      <td>If anyone is approaching retirement and wonder...</td>\n",
              "      <td>[]</td>\n",
              "      <td>0</td>\n",
              "      <td>0</td>\n",
              "      <td>0</td>\n",
              "      <td>0</td>\n",
              "    </tr>\n",
              "  </tbody>\n",
              "</table>\n",
              "</div>"
            ],
            "text/plain": [
              "                                Topic Title      Category  ... Views Replies\n",
              "0           About the Social Clubs category  Social Clubs  ...   722       2\n",
              "1                 Latest Movie You’ve Seen?  Social Clubs  ...   578       5\n",
              "2  Anyone doing the Broad St. Run in philly  Social Clubs  ...     0       0\n",
              "3            Embroidery…. just starting out  Social Clubs  ...   505       2\n",
              "4                              Home theatre  Social Clubs  ...     0       0\n",
              "\n",
              "[5 rows x 9 columns]"
            ]
          },
          "metadata": {
            "tags": []
          },
          "execution_count": 7
        }
      ]
    },
    {
      "cell_type": "markdown",
      "metadata": {
        "id": "GfayqzqV0fl0"
      },
      "source": [
        "#Preprocess "
      ]
    },
    {
      "cell_type": "code",
      "metadata": {
        "id": "dQig-dW8sFmd"
      },
      "source": [
        "def remove_braket(x):\n",
        "  x['Tags'] = x['Tags'].str.replace(\"[\", \"\")\n",
        "  x['Tags'] = x['Tags'].str.replace(\"]\", \"\")\n",
        "  x['Tags'] = x['Tags'].str.replace(\"'\", \"\")\n",
        "  x['Post Replies'] = x['Post Replies'].str.replace(\"[\", \"\")\n",
        "  x['Post Replies'] = x['Post Replies'].str.replace(\"]\", \"\")\n",
        "  x['Post Replies'] = x['Post Replies'].str.replace(\"'\", \"\")\n",
        "  x = x[x.Category != 'Social Clubs']\n",
        "  x = x[x.Category != 'TuDiabetes Website']\n",
        "  x = x[x.Category != 'Welcome']\n",
        "  return x.reset_index(drop=True)\n",
        "df=remove_braket(df)\n",
        "df['comment_topic'] = df['Topic Title'] + ' ' + df['Tags'] + ' ' + df['Leading Post'] + ' ' + df['Post Replies']"
      ],
      "execution_count": null,
      "outputs": []
    },
    {
      "cell_type": "code",
      "metadata": {
        "id": "nMa8BgD6ynfC"
      },
      "source": [
        "df_cat=df.copy()"
      ],
      "execution_count": null,
      "outputs": []
    },
    {
      "cell_type": "code",
      "metadata": {
        "id": "4aT7_NsEstH7"
      },
      "source": [
        "def clean_text(text):\n",
        "    #Make text lowercase, remove punctuation and remove words containing numbers.\n",
        "    # text=re.sub(\"[\\(\\[].*?[\\)\\]]\", \"\",text)\n",
        "    text=re.sub(r'#\\w+ ?', '', text ) ## remove hashtag words\n",
        "    text = re.sub('<.*?>','', text)\n",
        "    text = re.sub('\\n',' ', text)\n",
        "    text = re.sub('\\\\n',' ', text)\n",
        "    text = text.lower()\n",
        "    # text = re.sub('[%s]' % re.escape(string.punctuation), '',text)#remove punctuation\n",
        "   # Get rid of some additional punctuation.\n",
        "    text = re.sub('[‘’“”…]', '', text)\n",
        "    text = re.sub(' — ', '', text)\n",
        "    return (text)\n",
        "# clean = lambda x: clean_text(x)\n",
        "\n",
        "def full_clean(s):\n",
        "  df = s.apply(lambda x: [contractions.fix(word) for word in str(x).split()])\n",
        "  df= df.map(lambda x: ' '.join(x))\n",
        "  df=df.apply(lambda x: clean_text(x))\n",
        "  # df = df.apply(lambda x: ' '.join([word for word in str(x).split() if word not in (stop_words)]))## wont remove stop words bc they give context to the corpus\n",
        "  \n",
        "  return(pd.DataFrame(df))\n",
        "df_cat['comment_topic_C'] =full_clean(df['comment_topic'])\n"
      ],
      "execution_count": null,
      "outputs": []
    },
    {
      "cell_type": "code",
      "metadata": {
        "colab": {
          "base_uri": "https://localhost:8080/",
          "height": 431
        },
        "id": "eTHT3sxQLN3T",
        "outputId": "05dbd174-4713-410b-ce39-5d23bfa8b27b"
      },
      "source": [
        "df_cat.head()"
      ],
      "execution_count": null,
      "outputs": [
        {
          "output_type": "execute_result",
          "data": {
            "text/html": [
              "<div>\n",
              "<style scoped>\n",
              "    .dataframe tbody tr th:only-of-type {\n",
              "        vertical-align: middle;\n",
              "    }\n",
              "\n",
              "    .dataframe tbody tr th {\n",
              "        vertical-align: top;\n",
              "    }\n",
              "\n",
              "    .dataframe thead th {\n",
              "        text-align: right;\n",
              "    }\n",
              "</style>\n",
              "<table border=\"1\" class=\"dataframe\">\n",
              "  <thead>\n",
              "    <tr style=\"text-align: right;\">\n",
              "      <th></th>\n",
              "      <th>Topic Title</th>\n",
              "      <th>Category</th>\n",
              "      <th>Tags</th>\n",
              "      <th>Leading Post</th>\n",
              "      <th>Post Replies</th>\n",
              "      <th>Created_at</th>\n",
              "      <th>Likes</th>\n",
              "      <th>Views</th>\n",
              "      <th>Replies</th>\n",
              "      <th>comment_topic</th>\n",
              "      <th>comment_topic_C</th>\n",
              "    </tr>\n",
              "  </thead>\n",
              "  <tbody>\n",
              "    <tr>\n",
              "      <th>0</th>\n",
              "      <td>Type 1 Diabetes Resources</td>\n",
              "      <td>Type 1 and LADA</td>\n",
              "      <td></td>\n",
              "      <td>Information on this page represents a sample o...</td>\n",
              "      <td></td>\n",
              "      <td>Dec 21, 2009 3:04 pm</td>\n",
              "      <td>2</td>\n",
              "      <td>9.2k</td>\n",
              "      <td>6</td>\n",
              "      <td>Type 1 Diabetes Resources  Information on this...</td>\n",
              "      <td>type 1 diabetes resources information on this ...</td>\n",
              "    </tr>\n",
              "    <tr>\n",
              "      <th>1</th>\n",
              "      <td>About the Type 1 and LADA category</td>\n",
              "      <td>Type 1 and LADA</td>\n",
              "      <td></td>\n",
              "      <td>The Type 1 Diabetes and LADA category is inten...</td>\n",
              "      <td></td>\n",
              "      <td>Apr 14, 2015 5:51 pm</td>\n",
              "      <td>1</td>\n",
              "      <td>7.1k</td>\n",
              "      <td>1</td>\n",
              "      <td>About the Type 1 and LADA category  The Type 1...</td>\n",
              "      <td>about the type 1 and lada category the type 1 ...</td>\n",
              "    </tr>\n",
              "    <tr>\n",
              "      <th>2</th>\n",
              "      <td>Are you concerned about Covid-19 Vaccine might...</td>\n",
              "      <td>Type 1 and LADA</td>\n",
              "      <td></td>\n",
              "      <td>I am wondering if others with multiple autoimm...</td>\n",
              "      <td>Yeah. However, given that this is a pandemic, ...</td>\n",
              "      <td>Jan 14, 2021 6:40 am</td>\n",
              "      <td>32</td>\n",
              "      <td>349</td>\n",
              "      <td>17</td>\n",
              "      <td>Are you concerned about Covid-19 Vaccine might...</td>\n",
              "      <td>are you concerned about covid-19 vaccine might...</td>\n",
              "    </tr>\n",
              "    <tr>\n",
              "      <th>3</th>\n",
              "      <td>Covid Vaccine - are you getting it?</td>\n",
              "      <td>Type 1 and LADA</td>\n",
              "      <td></td>\n",
              "      <td>Hello!\\nI wanted to get people who have type 1...</td>\n",
              "      <td>I am Type 2 but the question is just a relevan...</td>\n",
              "      <td>Jan 2, 2021 8:39 pm</td>\n",
              "      <td>203</td>\n",
              "      <td>1.9k</td>\n",
              "      <td>120</td>\n",
              "      <td>Covid Vaccine - are you getting it?  Hello!\\nI...</td>\n",
              "      <td>covid vaccine - are you getting it? hello! i w...</td>\n",
              "    </tr>\n",
              "    <tr>\n",
              "      <th>4</th>\n",
              "      <td>Bolusing for pasta - big fail</td>\n",
              "      <td>Type 1 and LADA</td>\n",
              "      <td></td>\n",
              "      <td>How do you guys bolus for pasta?  I had some e...</td>\n",
              "      <td>With pasta (any kind of spaghetti, light on th...</td>\n",
              "      <td>Jan 16, 2021 6:30 am</td>\n",
              "      <td>11</td>\n",
              "      <td>147</td>\n",
              "      <td>13</td>\n",
              "      <td>Bolusing for pasta - big fail  How do you guys...</td>\n",
              "      <td>bolusing for pasta - big fail how do you guys ...</td>\n",
              "    </tr>\n",
              "  </tbody>\n",
              "</table>\n",
              "</div>"
            ],
            "text/plain": [
              "                                         Topic Title  ...                                    comment_topic_C\n",
              "0                          Type 1 Diabetes Resources  ...  type 1 diabetes resources information on this ...\n",
              "1                 About the Type 1 and LADA category  ...  about the type 1 and lada category the type 1 ...\n",
              "2  Are you concerned about Covid-19 Vaccine might...  ...  are you concerned about covid-19 vaccine might...\n",
              "3                Covid Vaccine - are you getting it?  ...  covid vaccine - are you getting it? hello! i w...\n",
              "4                      Bolusing for pasta - big fail  ...  bolusing for pasta - big fail how do you guys ...\n",
              "\n",
              "[5 rows x 11 columns]"
            ]
          },
          "metadata": {
            "tags": []
          },
          "execution_count": 11
        }
      ]
    },
    {
      "cell_type": "code",
      "metadata": {
        "id": "4XsURd0ps0EF"
      },
      "source": [
        "my_categories = [ 'Type 1 and LADA',\n",
        "'Type 2', 'Diabetes and Pregnancy', 'Community', 'Food',\n",
        "'Treatment', 'Diabetes Technology']\n",
        "new_DF = pd.DataFrame()\n",
        "\n",
        "new_DF['comment_topic'] = df_cat['comment_topic_C'].apply(lambda x: str(x))\n",
        "new_DF['Category'] = df_cat['Category'].apply(lambda x: str(x))\n",
        "\n",
        "# changing class names (text) to numbers (a necessity for simpletransformers library)\n",
        "new_DF['Category'] = new_DF.apply(lambda x:  my_categories.index(x['Category']),axis=1)"
      ],
      "execution_count": null,
      "outputs": []
    },
    {
      "cell_type": "code",
      "metadata": {
        "colab": {
          "base_uri": "https://localhost:8080/",
          "height": 406
        },
        "id": "Y2KbuPRJt3bY",
        "outputId": "182e9436-bfe2-4fa5-854e-9268c84b8bc6"
      },
      "source": [
        "new_DF"
      ],
      "execution_count": null,
      "outputs": [
        {
          "output_type": "execute_result",
          "data": {
            "text/html": [
              "<div>\n",
              "<style scoped>\n",
              "    .dataframe tbody tr th:only-of-type {\n",
              "        vertical-align: middle;\n",
              "    }\n",
              "\n",
              "    .dataframe tbody tr th {\n",
              "        vertical-align: top;\n",
              "    }\n",
              "\n",
              "    .dataframe thead th {\n",
              "        text-align: right;\n",
              "    }\n",
              "</style>\n",
              "<table border=\"1\" class=\"dataframe\">\n",
              "  <thead>\n",
              "    <tr style=\"text-align: right;\">\n",
              "      <th></th>\n",
              "      <th>comment_topic</th>\n",
              "      <th>Category</th>\n",
              "    </tr>\n",
              "  </thead>\n",
              "  <tbody>\n",
              "    <tr>\n",
              "      <th>0</th>\n",
              "      <td>type 1 diabetes resources information on this ...</td>\n",
              "      <td>0</td>\n",
              "    </tr>\n",
              "    <tr>\n",
              "      <th>1</th>\n",
              "      <td>about the type 1 and lada category the type 1 ...</td>\n",
              "      <td>0</td>\n",
              "    </tr>\n",
              "    <tr>\n",
              "      <th>2</th>\n",
              "      <td>are you concerned about covid-19 vaccine might...</td>\n",
              "      <td>0</td>\n",
              "    </tr>\n",
              "    <tr>\n",
              "      <th>3</th>\n",
              "      <td>covid vaccine - are you getting it? hello! i w...</td>\n",
              "      <td>0</td>\n",
              "    </tr>\n",
              "    <tr>\n",
              "      <th>4</th>\n",
              "      <td>bolusing for pasta - big fail how do you guys ...</td>\n",
              "      <td>0</td>\n",
              "    </tr>\n",
              "    <tr>\n",
              "      <th>...</th>\n",
              "      <td>...</td>\n",
              "      <td>...</td>\n",
              "    </tr>\n",
              "    <tr>\n",
              "      <th>3502</th>\n",
              "      <td>frequent occlusions with tandem x2 a few month...</td>\n",
              "      <td>6</td>\n",
              "    </tr>\n",
              "    <tr>\n",
              "      <th>3503</th>\n",
              "      <td>any loopers using this button? diy closed loop...</td>\n",
              "      <td>6</td>\n",
              "    </tr>\n",
              "    <tr>\n",
              "      <th>3504</th>\n",
              "      <td>which infusion set? insulin pumps i have tande...</td>\n",
              "      <td>6</td>\n",
              "    </tr>\n",
              "    <tr>\n",
              "      <th>3505</th>\n",
              "      <td>availability of diabetes products in canada. i...</td>\n",
              "      <td>6</td>\n",
              "    </tr>\n",
              "    <tr>\n",
              "      <th>3506</th>\n",
              "      <td>which meter to trust? glucose monitoring i rec...</td>\n",
              "      <td>6</td>\n",
              "    </tr>\n",
              "  </tbody>\n",
              "</table>\n",
              "<p>3507 rows × 2 columns</p>\n",
              "</div>"
            ],
            "text/plain": [
              "                                          comment_topic  Category\n",
              "0     type 1 diabetes resources information on this ...         0\n",
              "1     about the type 1 and lada category the type 1 ...         0\n",
              "2     are you concerned about covid-19 vaccine might...         0\n",
              "3     covid vaccine - are you getting it? hello! i w...         0\n",
              "4     bolusing for pasta - big fail how do you guys ...         0\n",
              "...                                                 ...       ...\n",
              "3502  frequent occlusions with tandem x2 a few month...         6\n",
              "3503  any loopers using this button? diy closed loop...         6\n",
              "3504  which infusion set? insulin pumps i have tande...         6\n",
              "3505  availability of diabetes products in canada. i...         6\n",
              "3506  which meter to trust? glucose monitoring i rec...         6\n",
              "\n",
              "[3507 rows x 2 columns]"
            ]
          },
          "metadata": {
            "tags": []
          },
          "execution_count": 13
        }
      ]
    },
    {
      "cell_type": "code",
      "metadata": {
        "colab": {
          "base_uri": "https://localhost:8080/",
          "height": 464
        },
        "id": "YNRBXhaSMIUe",
        "outputId": "c800f3d1-6f4c-4336-eec5-da1ca67beb4f"
      },
      "source": [
        "df_cat['Category_label']=new_DF['Category']\n",
        "df_cat.head()"
      ],
      "execution_count": null,
      "outputs": [
        {
          "output_type": "execute_result",
          "data": {
            "text/html": [
              "<div>\n",
              "<style scoped>\n",
              "    .dataframe tbody tr th:only-of-type {\n",
              "        vertical-align: middle;\n",
              "    }\n",
              "\n",
              "    .dataframe tbody tr th {\n",
              "        vertical-align: top;\n",
              "    }\n",
              "\n",
              "    .dataframe thead th {\n",
              "        text-align: right;\n",
              "    }\n",
              "</style>\n",
              "<table border=\"1\" class=\"dataframe\">\n",
              "  <thead>\n",
              "    <tr style=\"text-align: right;\">\n",
              "      <th></th>\n",
              "      <th>Topic Title</th>\n",
              "      <th>Category</th>\n",
              "      <th>Tags</th>\n",
              "      <th>Leading Post</th>\n",
              "      <th>Post Replies</th>\n",
              "      <th>Created_at</th>\n",
              "      <th>Likes</th>\n",
              "      <th>Views</th>\n",
              "      <th>Replies</th>\n",
              "      <th>comment_topic</th>\n",
              "      <th>comment_topic_C</th>\n",
              "      <th>Category_label</th>\n",
              "    </tr>\n",
              "  </thead>\n",
              "  <tbody>\n",
              "    <tr>\n",
              "      <th>0</th>\n",
              "      <td>Type 1 Diabetes Resources</td>\n",
              "      <td>Type 1 and LADA</td>\n",
              "      <td></td>\n",
              "      <td>Information on this page represents a sample o...</td>\n",
              "      <td></td>\n",
              "      <td>Dec 21, 2009 3:04 pm</td>\n",
              "      <td>2</td>\n",
              "      <td>9.2k</td>\n",
              "      <td>6</td>\n",
              "      <td>Type 1 Diabetes Resources  Information on this...</td>\n",
              "      <td>type 1 diabetes resources information on this ...</td>\n",
              "      <td>0</td>\n",
              "    </tr>\n",
              "    <tr>\n",
              "      <th>1</th>\n",
              "      <td>About the Type 1 and LADA category</td>\n",
              "      <td>Type 1 and LADA</td>\n",
              "      <td></td>\n",
              "      <td>The Type 1 Diabetes and LADA category is inten...</td>\n",
              "      <td></td>\n",
              "      <td>Apr 14, 2015 5:51 pm</td>\n",
              "      <td>1</td>\n",
              "      <td>7.1k</td>\n",
              "      <td>1</td>\n",
              "      <td>About the Type 1 and LADA category  The Type 1...</td>\n",
              "      <td>about the type 1 and lada category the type 1 ...</td>\n",
              "      <td>0</td>\n",
              "    </tr>\n",
              "    <tr>\n",
              "      <th>2</th>\n",
              "      <td>Are you concerned about Covid-19 Vaccine might...</td>\n",
              "      <td>Type 1 and LADA</td>\n",
              "      <td></td>\n",
              "      <td>I am wondering if others with multiple autoimm...</td>\n",
              "      <td>Yeah. However, given that this is a pandemic, ...</td>\n",
              "      <td>Jan 14, 2021 6:40 am</td>\n",
              "      <td>32</td>\n",
              "      <td>349</td>\n",
              "      <td>17</td>\n",
              "      <td>Are you concerned about Covid-19 Vaccine might...</td>\n",
              "      <td>are you concerned about covid-19 vaccine might...</td>\n",
              "      <td>0</td>\n",
              "    </tr>\n",
              "    <tr>\n",
              "      <th>3</th>\n",
              "      <td>Covid Vaccine - are you getting it?</td>\n",
              "      <td>Type 1 and LADA</td>\n",
              "      <td></td>\n",
              "      <td>Hello!\\nI wanted to get people who have type 1...</td>\n",
              "      <td>I am Type 2 but the question is just a relevan...</td>\n",
              "      <td>Jan 2, 2021 8:39 pm</td>\n",
              "      <td>203</td>\n",
              "      <td>1.9k</td>\n",
              "      <td>120</td>\n",
              "      <td>Covid Vaccine - are you getting it?  Hello!\\nI...</td>\n",
              "      <td>covid vaccine - are you getting it? hello! i w...</td>\n",
              "      <td>0</td>\n",
              "    </tr>\n",
              "    <tr>\n",
              "      <th>4</th>\n",
              "      <td>Bolusing for pasta - big fail</td>\n",
              "      <td>Type 1 and LADA</td>\n",
              "      <td></td>\n",
              "      <td>How do you guys bolus for pasta?  I had some e...</td>\n",
              "      <td>With pasta (any kind of spaghetti, light on th...</td>\n",
              "      <td>Jan 16, 2021 6:30 am</td>\n",
              "      <td>11</td>\n",
              "      <td>147</td>\n",
              "      <td>13</td>\n",
              "      <td>Bolusing for pasta - big fail  How do you guys...</td>\n",
              "      <td>bolusing for pasta - big fail how do you guys ...</td>\n",
              "      <td>0</td>\n",
              "    </tr>\n",
              "  </tbody>\n",
              "</table>\n",
              "</div>"
            ],
            "text/plain": [
              "                                         Topic Title  ... Category_label\n",
              "0                          Type 1 Diabetes Resources  ...              0\n",
              "1                 About the Type 1 and LADA category  ...              0\n",
              "2  Are you concerned about Covid-19 Vaccine might...  ...              0\n",
              "3                Covid Vaccine - are you getting it?  ...              0\n",
              "4                      Bolusing for pasta - big fail  ...              0\n",
              "\n",
              "[5 rows x 12 columns]"
            ]
          },
          "metadata": {
            "tags": []
          },
          "execution_count": 14
        }
      ]
    },
    {
      "cell_type": "code",
      "metadata": {
        "id": "JcwGqbhmKCkc"
      },
      "source": [
        "# label_counts = pd.DataFrame(df_cat['Category'].value_counts())\n",
        "# label_counts\n"
      ],
      "execution_count": null,
      "outputs": []
    },
    {
      "cell_type": "code",
      "metadata": {
        "id": "UjbJ08dqLUOa"
      },
      "source": [
        "# label_values = list(label_counts.index)\n",
        "# order = list(pd.DataFrame(df_cat['Category_label'].value_counts()).index)\n",
        "# label_values = [l for _,l in sorted(zip(order, label_values))]\n",
        "\n",
        "# label_values"
      ],
      "execution_count": null,
      "outputs": []
    },
    {
      "cell_type": "markdown",
      "metadata": {
        "id": "T4i4jsBw9nBG"
      },
      "source": [
        "#Shorten text\n",
        "\n",
        "BERT has the limitation of inputting longer than a few hundred words\n",
        "max_length=512"
      ]
    },
    {
      "cell_type": "markdown",
      "metadata": {
        "id": "93t3tAWx901k"
      },
      "source": [
        "https://medium.com/analytics-vidhya/text-classification-with-bert-using-transformers-for-long-text-inputs-f54833994dfd"
      ]
    },
    {
      "cell_type": "markdown",
      "metadata": {
        "id": "hZhE6z6_-O7X"
      },
      "source": [
        "One of the limitations of BERT is on the application when you have long inputs because, in BERT, the self-attention layer has a quadratic complexity O(n²) in terms of the sequence length n (see this link). In this post, I followed the main ideas of this paper in order to know how to overcome this limitation, when you want to use BERT over long sequences of text."
      ]
    },
    {
      "cell_type": "markdown",
      "metadata": {
        "id": "cVOQnTc6-n7m"
      },
      "source": [
        "In this article as the [paper](https://arxiv.org/abs/1910.10781) suggests, we are going to segment the input into smaller text and feed each of them into BERT, it means for each row, we will split the text in order to have some smaller text (200 words long each )\n",
        "We must split it into a chunk of 200 words each, with 50 words overlappedApplying this function to the review_text column of the dataset would help us get the dataset where every row has a list of string of around 200-word length.\n"
      ]
    },
    {
      "cell_type": "code",
      "metadata": {
        "id": "0Ipa23gJ7ZUA"
      },
      "source": [
        "def get_split(text1):\n",
        "  l_total=[]\n",
        "  l_partial=[]\n",
        "  if len(text1.split())//150>0:\n",
        "    n=len(text1.split())//150\n",
        "  else:\n",
        "    n=1\n",
        "  for w in range(n):\n",
        "    if w==0:\n",
        "      l_partial=text1.split()[:500]\n",
        "      l_total.append(\" \".join(l_partial))\n",
        "    else:\n",
        "      l_partial=text1.split()[w*150:w*150+200]\n",
        "      l_total.append(\" \".join(l_partial))\n",
        "    return l_total[0]"
      ],
      "execution_count": null,
      "outputs": []
    },
    {
      "cell_type": "code",
      "metadata": {
        "id": "a8DRLIUS9FYA"
      },
      "source": [
        "new_DF['comment_topic']=new_DF['comment_topic'].apply(get_split)"
      ],
      "execution_count": null,
      "outputs": []
    },
    {
      "cell_type": "code",
      "metadata": {
        "colab": {
          "base_uri": "https://localhost:8080/",
          "height": 197
        },
        "id": "9V_n8v6v9Ot3",
        "outputId": "def5e7f4-daeb-451f-e9af-239732f302e3"
      },
      "source": [
        "new_DF.head()"
      ],
      "execution_count": null,
      "outputs": [
        {
          "output_type": "execute_result",
          "data": {
            "text/html": [
              "<div>\n",
              "<style scoped>\n",
              "    .dataframe tbody tr th:only-of-type {\n",
              "        vertical-align: middle;\n",
              "    }\n",
              "\n",
              "    .dataframe tbody tr th {\n",
              "        vertical-align: top;\n",
              "    }\n",
              "\n",
              "    .dataframe thead th {\n",
              "        text-align: right;\n",
              "    }\n",
              "</style>\n",
              "<table border=\"1\" class=\"dataframe\">\n",
              "  <thead>\n",
              "    <tr style=\"text-align: right;\">\n",
              "      <th></th>\n",
              "      <th>comment_topic</th>\n",
              "      <th>Category</th>\n",
              "    </tr>\n",
              "  </thead>\n",
              "  <tbody>\n",
              "    <tr>\n",
              "      <th>0</th>\n",
              "      <td>type 1 diabetes resources information on this ...</td>\n",
              "      <td>0</td>\n",
              "    </tr>\n",
              "    <tr>\n",
              "      <th>1</th>\n",
              "      <td>about the type 1 and lada category the type 1 ...</td>\n",
              "      <td>0</td>\n",
              "    </tr>\n",
              "    <tr>\n",
              "      <th>2</th>\n",
              "      <td>are you concerned about covid-19 vaccine might...</td>\n",
              "      <td>0</td>\n",
              "    </tr>\n",
              "    <tr>\n",
              "      <th>3</th>\n",
              "      <td>covid vaccine - are you getting it? hello! i w...</td>\n",
              "      <td>0</td>\n",
              "    </tr>\n",
              "    <tr>\n",
              "      <th>4</th>\n",
              "      <td>bolusing for pasta - big fail how do you guys ...</td>\n",
              "      <td>0</td>\n",
              "    </tr>\n",
              "  </tbody>\n",
              "</table>\n",
              "</div>"
            ],
            "text/plain": [
              "                                       comment_topic  Category\n",
              "0  type 1 diabetes resources information on this ...         0\n",
              "1  about the type 1 and lada category the type 1 ...         0\n",
              "2  are you concerned about covid-19 vaccine might...         0\n",
              "3  covid vaccine - are you getting it? hello! i w...         0\n",
              "4  bolusing for pasta - big fail how do you guys ...         0"
            ]
          },
          "metadata": {
            "tags": []
          },
          "execution_count": 19
        }
      ]
    },
    {
      "cell_type": "code",
      "metadata": {
        "colab": {
          "base_uri": "https://localhost:8080/"
        },
        "id": "LPwiXi06LjQb",
        "outputId": "d56011a3-2a78-495b-d6a0-85dc48233f9b"
      },
      "source": [
        "new_DF.Category.nunique()"
      ],
      "execution_count": null,
      "outputs": [
        {
          "output_type": "execute_result",
          "data": {
            "text/plain": [
              "7"
            ]
          },
          "metadata": {
            "tags": []
          },
          "execution_count": 20
        }
      ]
    },
    {
      "cell_type": "markdown",
      "metadata": {
        "id": "DQd27GwZw3g4"
      },
      "source": [
        "#Display_Token_Len_after_Shorten"
      ]
    },
    {
      "cell_type": "code",
      "metadata": {
        "colab": {
          "base_uri": "https://localhost:8080/",
          "height": 282
        },
        "id": "48quVJpZxW4q",
        "outputId": "bc68babe-24d7-4627-f69f-509e49de2070"
      },
      "source": [
        "seq_len = [len(i.split()) for i in new_DF['comment_topic']]\n",
        "\n",
        "pd.Series(seq_len).hist(bins = 30)"
      ],
      "execution_count": null,
      "outputs": [
        {
          "output_type": "execute_result",
          "data": {
            "text/plain": [
              "<matplotlib.axes._subplots.AxesSubplot at 0x7f544dbc7850>"
            ]
          },
          "metadata": {
            "tags": []
          },
          "execution_count": 21
        },
        {
          "output_type": "display_data",
          "data": {
            "image/png": "[encoded data removed]",
            "text/plain": [
              "<Figure size 432x288 with 1 Axes>"
            ]
          },
          "metadata": {
            "tags": [],
            "needs_background": "light"
          }
        }
      ]
    },
    {
      "cell_type": "code",
      "metadata": {
        "id": "ATbUmLJU_97Z"
      },
      "source": [
        "texts = new_DF['comment_topic'].values\n",
        "labels = new_DF['Category'].values"
      ],
      "execution_count": null,
      "outputs": []
    },
    {
      "cell_type": "code",
      "metadata": {
        "colab": {
          "base_uri": "https://localhost:8080/"
        },
        "id": "ZE07m8GzAVNr",
        "outputId": "10f32878-bad5-40c4-fa80-c8f7938be82f"
      },
      "source": [
        "text_lengths = [len(texts[i].split()) for i in range(len(texts))]\n",
        "print(min(text_lengths))\n",
        "print(max(text_lengths))"
      ],
      "execution_count": null,
      "outputs": [
        {
          "output_type": "stream",
          "text": [
            "1\n",
            "500\n"
          ],
          "name": "stdout"
        }
      ]
    },
    {
      "cell_type": "code",
      "metadata": {
        "colab": {
          "base_uri": "https://localhost:8080/"
        },
        "id": "DxkEgqIFAVRI",
        "outputId": "4a780f4b-3841-4fbe-b6fe-d0c41db664d9"
      },
      "source": [
        "from transformers import DistilBertTokenizer\n",
        "\n",
        "tokenizer = DistilBertTokenizer.from_pretrained('distilbert-base-uncased', do_lower_case=True)\n",
        "\n",
        "print('Original Text: ', texts[0], '\\n')\n",
        "print('Tokenized Text: ', tokenizer.tokenize(texts[0]), '\\n')\n",
        "print('Token IDs: ', tokenizer.convert_tokens_to_ids(tokenizer.tokenize(texts[0])))"
      ],
      "execution_count": null,
      "outputs": [
        {
          "output_type": "stream",
          "text": [
            "Original Text:  type 1 diabetes resources information on this page represents a sample of the content available online for people with type 1 diabetes and lada, curated by members of the community.. this is not an exhaustive list of the resources offered online, but may be viewed as a good place to begin your search. general information a good place to start getting familiar with type 1 diabetes. what is type 1 diabetes? 151 what is diabetes? the difference between type 1 and type 2 102 us centers for disease control diabetes resources 35 positive autoantibody tests indicate type 1 autoimmune diabetes 64 how to properly and safely dispose of needles 51 other resources type 1 diabetes education 81 (integrated diabetes services) diatribe 52 - research and product news for pwd children with diabetes 82 strategies for insulin injection therapy in diabetes self-management (aade) act1: adults coping with type 1 diabetes 141 type 1 diabetes section 50 (islets of hope) taking control of your diabetes (tcoyd) 68: a us nonprofit that brings thousands of people with diabetes, those at risk and their loved ones in contact with medical professionals and others with expertise related to living with the disease for a day of highly informative and motivational programs. diatribe resource page: type 1 diabetes 45 college diabetes network 26 \n",
            "\n",
            "Tokenized Text:  ['type', '1', 'diabetes', 'resources', 'information', 'on', 'this', 'page', 'represents', 'a', 'sample', 'of', 'the', 'content', 'available', 'online', 'for', 'people', 'with', 'type', '1', 'diabetes', 'and', 'lad', '##a', ',', 'curated', 'by', 'members', 'of', 'the', 'community', '.', '.', 'this', 'is', 'not', 'an', 'exhaust', '##ive', 'list', 'of', 'the', 'resources', 'offered', 'online', ',', 'but', 'may', 'be', 'viewed', 'as', 'a', 'good', 'place', 'to', 'begin', 'your', 'search', '.', 'general', 'information', 'a', 'good', 'place', 'to', 'start', 'getting', 'familiar', 'with', 'type', '1', 'diabetes', '.', 'what', 'is', 'type', '1', 'diabetes', '?', '151', 'what', 'is', 'diabetes', '?', 'the', 'difference', 'between', 'type', '1', 'and', 'type', '2', '102', 'us', 'centers', 'for', 'disease', 'control', 'diabetes', 'resources', '35', 'positive', 'auto', '##ant', '##ib', '##od', '##y', 'tests', 'indicate', 'type', '1', 'auto', '##im', '##mun', '##e', 'diabetes', '64', 'how', 'to', 'properly', 'and', 'safely', 'dispose', 'of', 'needles', '51', 'other', 'resources', 'type', '1', 'diabetes', 'education', '81', '(', 'integrated', 'diabetes', 'services', ')', 'dia', '##tri', '##be', '52', '-', 'research', 'and', 'product', 'news', 'for', 'p', '##wd', 'children', 'with', 'diabetes', '82', 'strategies', 'for', 'insulin', 'injection', 'therapy', 'in', 'diabetes', 'self', '-', 'management', '(', 'aa', '##de', ')', 'act', '##1', ':', 'adults', 'coping', 'with', 'type', '1', 'diabetes', '141', 'type', '1', 'diabetes', 'section', '50', '(', 'isle', '##ts', 'of', 'hope', ')', 'taking', 'control', 'of', 'your', 'diabetes', '(', 'tc', '##oy', '##d', ')', '68', ':', 'a', 'us', 'nonprofit', 'that', 'brings', 'thousands', 'of', 'people', 'with', 'diabetes', ',', 'those', 'at', 'risk', 'and', 'their', 'loved', 'ones', 'in', 'contact', 'with', 'medical', 'professionals', 'and', 'others', 'with', 'expertise', 'related', 'to', 'living', 'with', 'the', 'disease', 'for', 'a', 'day', 'of', 'highly', 'inform', '##ative', 'and', 'motivation', '##al', 'programs', '.', 'dia', '##tri', '##be', 'resource', 'page', ':', 'type', '1', 'diabetes', '45', 'college', 'diabetes', 'network', '26'] \n",
            "\n",
            "Token IDs:  [2828, 1015, 14671, 4219, 2592, 2006, 2023, 3931, 5836, 1037, 7099, 1997, 1996, 4180, 2800, 3784, 2005, 2111, 2007, 2828, 1015, 14671, 1998, 14804, 2050, 1010, 17940, 2011, 2372, 1997, 1996, 2451, 1012, 1012, 2023, 2003, 2025, 2019, 15095, 3512, 2862, 1997, 1996, 4219, 3253, 3784, 1010, 2021, 2089, 2022, 7021, 2004, 1037, 2204, 2173, 2000, 4088, 2115, 3945, 1012, 2236, 2592, 1037, 2204, 2173, 2000, 2707, 2893, 5220, 2007, 2828, 1015, 14671, 1012, 2054, 2003, 2828, 1015, 14671, 1029, 16528, 2054, 2003, 14671, 1029, 1996, 4489, 2090, 2828, 1015, 1998, 2828, 1016, 9402, 2149, 6401, 2005, 4295, 2491, 14671, 4219, 3486, 3893, 8285, 4630, 12322, 7716, 2100, 5852, 5769, 2828, 1015, 8285, 5714, 23041, 2063, 14671, 4185, 2129, 2000, 7919, 1998, 9689, 27764, 1997, 17044, 4868, 2060, 4219, 2828, 1015, 14671, 2495, 6282, 1006, 6377, 14671, 2578, 1007, 22939, 18886, 4783, 4720, 1011, 2470, 1998, 4031, 2739, 2005, 1052, 21724, 2336, 2007, 14671, 6445, 9942, 2005, 22597, 13341, 7242, 1999, 14671, 2969, 1011, 2968, 1006, 9779, 3207, 1007, 2552, 2487, 1024, 6001, 27520, 2007, 2828, 1015, 14671, 15471, 2828, 1015, 14671, 2930, 2753, 1006, 8842, 3215, 1997, 3246, 1007, 2635, 2491, 1997, 2115, 14671, 1006, 22975, 6977, 2094, 1007, 6273, 1024, 1037, 2149, 14495, 2008, 7545, 5190, 1997, 2111, 2007, 14671, 1010, 2216, 2012, 3891, 1998, 2037, 3866, 3924, 1999, 3967, 2007, 2966, 8390, 1998, 2500, 2007, 11532, 3141, 2000, 2542, 2007, 1996, 4295, 2005, 1037, 2154, 1997, 3811, 12367, 8082, 1998, 14354, 2389, 3454, 1012, 22939, 18886, 4783, 7692, 3931, 1024, 2828, 1015, 14671, 3429, 2267, 14671, 2897, 2656]\n"
          ],
          "name": "stdout"
        }
      ]
    },
    {
      "cell_type": "markdown",
      "metadata": {
        "id": "MnYG-gBNoUr5"
      },
      "source": [
        "#PAD"
      ]
    },
    {
      "cell_type": "code",
      "metadata": {
        "colab": {
          "base_uri": "https://localhost:8080/"
        },
        "id": "T7OWr1g7AVUV",
        "outputId": "808a091e-b384-4566-bbce-ea657128449e"
      },
      "source": [
        "text_ids = [tokenizer.encode(text, max_length=500, pad_to_max_length=True) for text in texts]\n",
        "\n",
        "print(text_ids[0])"
      ],
      "execution_count": null,
      "outputs": [
        {
          "output_type": "stream",
          "text": [
            "[101, 2828, 1015, 14671, 4219, 2592, 2006, 2023, 3931, 5836, 1037, 7099, 1997, 1996, 4180, 2800, 3784, 2005, 2111, 2007, 2828, 1015, 14671, 1998, 14804, 2050, 1010, 17940, 2011, 2372, 1997, 1996, 2451, 1012, 1012, 2023, 2003, 2025, 2019, 15095, 3512, 2862, 1997, 1996, 4219, 3253, 3784, 1010, 2021, 2089, 2022, 7021, 2004, 1037, 2204, 2173, 2000, 4088, 2115, 3945, 1012, 2236, 2592, 1037, 2204, 2173, 2000, 2707, 2893, 5220, 2007, 2828, 1015, 14671, 1012, 2054, 2003, 2828, 1015, 14671, 1029, 16528, 2054, 2003, 14671, 1029, 1996, 4489, 2090, 2828, 1015, 1998, 2828, 1016, 9402, 2149, 6401, 2005, 4295, 2491, 14671, 4219, 3486, 3893, 8285, 4630, 12322, 7716, 2100, 5852, 5769, 2828, 1015, 8285, 5714, 23041, 2063, 14671, 4185, 2129, 2000, 7919, 1998, 9689, 27764, 1997, 17044, 4868, 2060, 4219, 2828, 1015, 14671, 2495, 6282, 1006, 6377, 14671, 2578, 1007, 22939, 18886, 4783, 4720, 1011, 2470, 1998, 4031, 2739, 2005, 1052, 21724, 2336, 2007, 14671, 6445, 9942, 2005, 22597, 13341, 7242, 1999, 14671, 2969, 1011, 2968, 1006, 9779, 3207, 1007, 2552, 2487, 1024, 6001, 27520, 2007, 2828, 1015, 14671, 15471, 2828, 1015, 14671, 2930, 2753, 1006, 8842, 3215, 1997, 3246, 1007, 2635, 2491, 1997, 2115, 14671, 1006, 22975, 6977, 2094, 1007, 6273, 1024, 1037, 2149, 14495, 2008, 7545, 5190, 1997, 2111, 2007, 14671, 1010, 2216, 2012, 3891, 1998, 2037, 3866, 3924, 1999, 3967, 2007, 2966, 8390, 1998, 2500, 2007, 11532, 3141, 2000, 2542, 2007, 1996, 4295, 2005, 1037, 2154, 1997, 3811, 12367, 8082, 1998, 14354, 2389, 3454, 1012, 22939, 18886, 4783, 7692, 3931, 1024, 2828, 1015, 14671, 3429, 2267, 14671, 2897, 2656, 102, 0, 0, 0, 0, 0, 0, 0, 0, 0, 0, 0, 0, 0, 0, 0, 0, 0, 0, 0, 0, 0, 0, 0, 0, 0, 0, 0, 0, 0, 0, 0, 0, 0, 0, 0, 0, 0, 0, 0, 0, 0, 0, 0, 0, 0, 0, 0, 0, 0, 0, 0, 0, 0, 0, 0, 0, 0, 0, 0, 0, 0, 0, 0, 0, 0, 0, 0, 0, 0, 0, 0, 0, 0, 0, 0, 0, 0, 0, 0, 0, 0, 0, 0, 0, 0, 0, 0, 0, 0, 0, 0, 0, 0, 0, 0, 0, 0, 0, 0, 0, 0, 0, 0, 0, 0, 0, 0, 0, 0, 0, 0, 0, 0, 0, 0, 0, 0, 0, 0, 0, 0, 0, 0, 0, 0, 0, 0, 0, 0, 0, 0, 0, 0, 0, 0, 0, 0, 0, 0, 0, 0, 0, 0, 0, 0, 0, 0, 0, 0, 0, 0, 0, 0, 0, 0, 0, 0, 0, 0, 0, 0, 0, 0, 0, 0, 0, 0, 0, 0, 0, 0, 0, 0, 0, 0, 0, 0, 0, 0, 0, 0, 0, 0, 0, 0, 0, 0, 0, 0, 0, 0, 0, 0, 0, 0, 0, 0, 0, 0, 0, 0, 0, 0, 0, 0, 0, 0, 0, 0, 0, 0, 0, 0, 0, 0, 0, 0, 0, 0, 0, 0, 0, 0, 0, 0, 0, 0, 0, 0, 0, 0, 0, 0, 0, 0, 0, 0]\n"
          ],
          "name": "stdout"
        }
      ]
    },
    {
      "cell_type": "code",
      "metadata": {
        "colab": {
          "base_uri": "https://localhost:8080/"
        },
        "id": "yjHxz4SmAVfT",
        "outputId": "61812968-7187-42a1-bdd3-91ad7c800cbc"
      },
      "source": [
        "text_ids_lengths = [len(text_ids[i]) for i in range(len(text_ids))]\n",
        "print(min(text_ids_lengths))\n",
        "print(max(text_ids_lengths))"
      ],
      "execution_count": null,
      "outputs": [
        {
          "output_type": "stream",
          "text": [
            "500\n",
            "500\n"
          ],
          "name": "stdout"
        }
      ]
    },
    {
      "cell_type": "markdown",
      "metadata": {
        "id": "5Na2X3LzoWpr"
      },
      "source": [
        "#Mask"
      ]
    },
    {
      "cell_type": "code",
      "metadata": {
        "id": "1YDa4-0xAVka"
      },
      "source": [
        "att_masks = []\n",
        "for ids in text_ids:\n",
        "    masks = [int(id > 0) for id in ids]\n",
        "    att_masks.append(masks)\n"
      ],
      "execution_count": null,
      "outputs": []
    },
    {
      "cell_type": "code",
      "metadata": {
        "colab": {
          "base_uri": "https://localhost:8080/"
        },
        "id": "SZhf7JT2Cxr9",
        "outputId": "0d29f509-a91b-4a4e-8cf6-9df2a04b92d0"
      },
      "source": [
        "\n",
        "print(att_masks[0])"
      ],
      "execution_count": null,
      "outputs": [
        {
          "output_type": "stream",
          "text": [
            "[1, 1, 1, 1, 1, 1, 1, 1, 1, 1, 1, 1, 1, 1, 1, 1, 1, 1, 1, 1, 1, 1, 1, 1, 1, 1, 1, 1, 1, 1, 1, 1, 1, 1, 1, 1, 1, 1, 1, 1, 1, 1, 1, 1, 1, 1, 1, 1, 1, 1, 1, 1, 1, 1, 1, 1, 1, 1, 1, 1, 1, 1, 1, 1, 1, 1, 1, 1, 1, 1, 1, 1, 1, 1, 1, 1, 1, 1, 1, 1, 1, 1, 1, 1, 1, 1, 1, 1, 1, 1, 1, 1, 1, 1, 1, 1, 1, 1, 1, 1, 1, 1, 1, 1, 1, 1, 1, 1, 1, 1, 1, 1, 1, 1, 1, 1, 1, 1, 1, 1, 1, 1, 1, 1, 1, 1, 1, 1, 1, 1, 1, 1, 1, 1, 1, 1, 1, 1, 1, 1, 1, 1, 1, 1, 1, 1, 1, 1, 1, 1, 1, 1, 1, 1, 1, 1, 1, 1, 1, 1, 1, 1, 1, 1, 1, 1, 1, 1, 1, 1, 1, 1, 1, 1, 1, 1, 1, 1, 1, 1, 1, 1, 1, 1, 1, 1, 1, 1, 1, 1, 1, 1, 1, 1, 1, 1, 1, 1, 1, 1, 1, 1, 1, 1, 1, 1, 1, 1, 1, 1, 1, 1, 1, 1, 1, 1, 1, 1, 1, 1, 1, 1, 1, 1, 1, 1, 1, 1, 1, 1, 1, 1, 1, 1, 1, 1, 1, 1, 1, 1, 1, 1, 1, 1, 1, 1, 1, 1, 1, 1, 1, 1, 1, 1, 1, 1, 1, 1, 1, 1, 1, 1, 1, 0, 0, 0, 0, 0, 0, 0, 0, 0, 0, 0, 0, 0, 0, 0, 0, 0, 0, 0, 0, 0, 0, 0, 0, 0, 0, 0, 0, 0, 0, 0, 0, 0, 0, 0, 0, 0, 0, 0, 0, 0, 0, 0, 0, 0, 0, 0, 0, 0, 0, 0, 0, 0, 0, 0, 0, 0, 0, 0, 0, 0, 0, 0, 0, 0, 0, 0, 0, 0, 0, 0, 0, 0, 0, 0, 0, 0, 0, 0, 0, 0, 0, 0, 0, 0, 0, 0, 0, 0, 0, 0, 0, 0, 0, 0, 0, 0, 0, 0, 0, 0, 0, 0, 0, 0, 0, 0, 0, 0, 0, 0, 0, 0, 0, 0, 0, 0, 0, 0, 0, 0, 0, 0, 0, 0, 0, 0, 0, 0, 0, 0, 0, 0, 0, 0, 0, 0, 0, 0, 0, 0, 0, 0, 0, 0, 0, 0, 0, 0, 0, 0, 0, 0, 0, 0, 0, 0, 0, 0, 0, 0, 0, 0, 0, 0, 0, 0, 0, 0, 0, 0, 0, 0, 0, 0, 0, 0, 0, 0, 0, 0, 0, 0, 0, 0, 0, 0, 0, 0, 0, 0, 0, 0, 0, 0, 0, 0, 0, 0, 0, 0, 0, 0, 0, 0, 0, 0, 0, 0, 0, 0, 0, 0, 0, 0, 0, 0, 0, 0, 0, 0, 0, 0, 0, 0, 0, 0, 0, 0, 0, 0, 0, 0, 0, 0, 0, 0]\n"
          ],
          "name": "stdout"
        }
      ]
    },
    {
      "cell_type": "markdown",
      "metadata": {
        "id": "tzaZCPIgC79V"
      },
      "source": [
        "#Split"
      ]
    },
    {
      "cell_type": "code",
      "metadata": {
        "id": "-v5K1yPmAVsY"
      },
      "source": [
        "from sklearn.model_selection import train_test_split\n",
        "\n",
        "train_x, test_val_x, train_y, test_val_y = train_test_split(text_ids, labels, random_state=42, test_size=0.2)\n",
        "train_m, test_val_m = train_test_split(att_masks, random_state=111, test_size=0.2)\n",
        "\n",
        "test_x, val_x, test_y, val_y = train_test_split(test_val_x, test_val_y, random_state=42, test_size=0.5)\n",
        "test_m, val_m = train_test_split(test_val_m, random_state=111, test_size=0.5)"
      ],
      "execution_count": null,
      "outputs": []
    },
    {
      "cell_type": "code",
      "metadata": {
        "colab": {
          "base_uri": "https://localhost:8080/"
        },
        "id": "t-1TfIrYAVwa",
        "outputId": "ccdaac5d-7413-4c78-c75e-ec14eac7c9a6"
      },
      "source": [
        "import torch\n",
        "\n",
        "train_x = torch.tensor(train_x)\n",
        "test_x = torch.tensor(test_x)\n",
        "val_x = torch.tensor(val_x)\n",
        "train_y = torch.tensor(train_y)\n",
        "test_y = torch.tensor(test_y)\n",
        "val_y = torch.tensor(val_y)\n",
        "train_m = torch.tensor(train_m)\n",
        "test_m = torch.tensor(test_m)\n",
        "val_m = torch.tensor(val_m)\n",
        "\n",
        "print(train_x.shape)\n",
        "print(test_x.shape)\n",
        "print(val_x.shape)\n",
        "print(train_y.shape)\n",
        "print(test_y.shape)\n",
        "print(val_y.shape)\n",
        "print(train_m.shape)\n",
        "print(test_m.shape)\n",
        "print(val_m.shape)"
      ],
      "execution_count": null,
      "outputs": [
        {
          "output_type": "stream",
          "text": [
            "torch.Size([2805, 500])\n",
            "torch.Size([351, 500])\n",
            "torch.Size([351, 500])\n",
            "torch.Size([2805])\n",
            "torch.Size([351])\n",
            "torch.Size([351])\n",
            "torch.Size([2805, 500])\n",
            "torch.Size([351, 500])\n",
            "torch.Size([351, 500])\n"
          ],
          "name": "stdout"
        }
      ]
    },
    {
      "cell_type": "markdown",
      "metadata": {
        "id": "Wnx2xTR8DZ9x"
      },
      "source": [
        "#TensorDataset, RandomSampler,SequentialSampler, DataLoader. "
      ]
    },
    {
      "cell_type": "code",
      "metadata": {
        "id": "19vLbw59AV0o"
      },
      "source": [
        "#WeightedRandomSampler implements a sample weight, which can be used to balance the batches for an imbalanced dataset\n",
        "from torch.utils.data import TensorDataset, DataLoader, RandomSampler, SequentialSampler\n",
        "\n",
        "batch_size = 32\n",
        "\n",
        "train_data = TensorDataset(train_x, train_m, train_y)\n",
        "train_sampler = RandomSampler(train_data)#For feeding training data, which drives model weights updates, we use the RandomSampler\n",
        "train_dataloader = DataLoader(train_data, sampler=train_sampler, batch_size=batch_size)\n",
        "#To feed data into the model for training, we use Pytorch’s Dataset, DataLoader, and Sampler. . \n",
        "val_data = TensorDataset(val_x, val_m, val_y)\n",
        "val_sampler = SequentialSampler(val_data)#For feeding the validation data we can use the SequentialSampler.\n",
        "val_dataloader = DataLoader(val_data, sampler=val_sampler, batch_size=batch_size)"
      ],
      "execution_count": null,
      "outputs": []
    },
    {
      "cell_type": "markdown",
      "metadata": {
        "id": "xh-xThINnPy0"
      },
      "source": [
        "#DistilBERT Model"
      ]
    },
    {
      "cell_type": "code",
      "metadata": {
        "id": "JsF84Zk4DX_R"
      },
      "source": [
        "#Here we instantiate our model class. We use a compact version, that is trained through model distillation from a base BERT model and modified to include a classification layer at the output. This compact version has 6 transformer layers instead of 12 as in the original BERT model. Please see here for more details.\n",
        "from transformers import DistilBertForSequenceClassification, AdamW, DistilBertConfig\n",
        "\n",
        "num_labels = len(set(labels))\n",
        "\n",
        "model = DistilBertForSequenceClassification.from_pretrained('distilbert-base-uncased', num_labels=num_labels,\n",
        "                                                            output_attentions=False, output_hidden_states=False)"
      ],
      "execution_count": null,
      "outputs": []
    },
    {
      "cell_type": "code",
      "metadata": {
        "colab": {
          "base_uri": "https://localhost:8080/"
        },
        "id": "I-3gMMD5DYJ6",
        "outputId": "806b476b-addf-4a53-8d6a-a0e2a88f66b1"
      },
      "source": [
        "device = torch.device('cuda' if torch.cuda.is_available() else 'cpu')\n",
        "print(device)\n",
        "\n",
        "model = model.to(device)"
      ],
      "execution_count": null,
      "outputs": [
        {
          "output_type": "stream",
          "text": [
            "cuda\n"
          ],
          "name": "stdout"
        }
      ]
    },
    {
      "cell_type": "code",
      "metadata": {
        "colab": {
          "base_uri": "https://localhost:8080/"
        },
        "id": "5vAJ1-BhDYRu",
        "outputId": "a28009ae-5b40-4a2d-a54c-59bb245096c1"
      },
      "source": [
        "\n",
        "def count_parameters(model):\n",
        "    return sum(p.numel() for p in model.parameters() if p.requires_grad)\n",
        "\n",
        "print('Number of trainable parameters:', count_parameters(model), '\\n', model)"
      ],
      "execution_count": null,
      "outputs": [
        {
          "output_type": "stream",
          "text": [
            "Number of trainable parameters: 66958855 \n",
            " DistilBertForSequenceClassification(\n",
            "  (distilbert): DistilBertModel(\n",
            "    (embeddings): Embeddings(\n",
            "      (word_embeddings): Embedding(30522, 768, padding_idx=0)\n",
            "      (position_embeddings): Embedding(512, 768)\n",
            "      (LayerNorm): LayerNorm((768,), eps=1e-12, elementwise_affine=True)\n",
            "      (dropout): Dropout(p=0.1, inplace=False)\n",
            "    )\n",
            "    (transformer): Transformer(\n",
            "      (layer): ModuleList(\n",
            "        (0): TransformerBlock(\n",
            "          (attention): MultiHeadSelfAttention(\n",
            "            (dropout): Dropout(p=0.1, inplace=False)\n",
            "            (q_lin): Linear(in_features=768, out_features=768, bias=True)\n",
            "            (k_lin): Linear(in_features=768, out_features=768, bias=True)\n",
            "            (v_lin): Linear(in_features=768, out_features=768, bias=True)\n",
            "            (out_lin): Linear(in_features=768, out_features=768, bias=True)\n",
            "          )\n",
            "          (sa_layer_norm): LayerNorm((768,), eps=1e-12, elementwise_affine=True)\n",
            "          (ffn): FFN(\n",
            "            (dropout): Dropout(p=0.1, inplace=False)\n",
            "            (lin1): Linear(in_features=768, out_features=3072, bias=True)\n",
            "            (lin2): Linear(in_features=3072, out_features=768, bias=True)\n",
            "          )\n",
            "          (output_layer_norm): LayerNorm((768,), eps=1e-12, elementwise_affine=True)\n",
            "        )\n",
            "        (1): TransformerBlock(\n",
            "          (attention): MultiHeadSelfAttention(\n",
            "            (dropout): Dropout(p=0.1, inplace=False)\n",
            "            (q_lin): Linear(in_features=768, out_features=768, bias=True)\n",
            "            (k_lin): Linear(in_features=768, out_features=768, bias=True)\n",
            "            (v_lin): Linear(in_features=768, out_features=768, bias=True)\n",
            "            (out_lin): Linear(in_features=768, out_features=768, bias=True)\n",
            "          )\n",
            "          (sa_layer_norm): LayerNorm((768,), eps=1e-12, elementwise_affine=True)\n",
            "          (ffn): FFN(\n",
            "            (dropout): Dropout(p=0.1, inplace=False)\n",
            "            (lin1): Linear(in_features=768, out_features=3072, bias=True)\n",
            "            (lin2): Linear(in_features=3072, out_features=768, bias=True)\n",
            "          )\n",
            "          (output_layer_norm): LayerNorm((768,), eps=1e-12, elementwise_affine=True)\n",
            "        )\n",
            "        (2): TransformerBlock(\n",
            "          (attention): MultiHeadSelfAttention(\n",
            "            (dropout): Dropout(p=0.1, inplace=False)\n",
            "            (q_lin): Linear(in_features=768, out_features=768, bias=True)\n",
            "            (k_lin): Linear(in_features=768, out_features=768, bias=True)\n",
            "            (v_lin): Linear(in_features=768, out_features=768, bias=True)\n",
            "            (out_lin): Linear(in_features=768, out_features=768, bias=True)\n",
            "          )\n",
            "          (sa_layer_norm): LayerNorm((768,), eps=1e-12, elementwise_affine=True)\n",
            "          (ffn): FFN(\n",
            "            (dropout): Dropout(p=0.1, inplace=False)\n",
            "            (lin1): Linear(in_features=768, out_features=3072, bias=True)\n",
            "            (lin2): Linear(in_features=3072, out_features=768, bias=True)\n",
            "          )\n",
            "          (output_layer_norm): LayerNorm((768,), eps=1e-12, elementwise_affine=True)\n",
            "        )\n",
            "        (3): TransformerBlock(\n",
            "          (attention): MultiHeadSelfAttention(\n",
            "            (dropout): Dropout(p=0.1, inplace=False)\n",
            "            (q_lin): Linear(in_features=768, out_features=768, bias=True)\n",
            "            (k_lin): Linear(in_features=768, out_features=768, bias=True)\n",
            "            (v_lin): Linear(in_features=768, out_features=768, bias=True)\n",
            "            (out_lin): Linear(in_features=768, out_features=768, bias=True)\n",
            "          )\n",
            "          (sa_layer_norm): LayerNorm((768,), eps=1e-12, elementwise_affine=True)\n",
            "          (ffn): FFN(\n",
            "            (dropout): Dropout(p=0.1, inplace=False)\n",
            "            (lin1): Linear(in_features=768, out_features=3072, bias=True)\n",
            "            (lin2): Linear(in_features=3072, out_features=768, bias=True)\n",
            "          )\n",
            "          (output_layer_norm): LayerNorm((768,), eps=1e-12, elementwise_affine=True)\n",
            "        )\n",
            "        (4): TransformerBlock(\n",
            "          (attention): MultiHeadSelfAttention(\n",
            "            (dropout): Dropout(p=0.1, inplace=False)\n",
            "            (q_lin): Linear(in_features=768, out_features=768, bias=True)\n",
            "            (k_lin): Linear(in_features=768, out_features=768, bias=True)\n",
            "            (v_lin): Linear(in_features=768, out_features=768, bias=True)\n",
            "            (out_lin): Linear(in_features=768, out_features=768, bias=True)\n",
            "          )\n",
            "          (sa_layer_norm): LayerNorm((768,), eps=1e-12, elementwise_affine=True)\n",
            "          (ffn): FFN(\n",
            "            (dropout): Dropout(p=0.1, inplace=False)\n",
            "            (lin1): Linear(in_features=768, out_features=3072, bias=True)\n",
            "            (lin2): Linear(in_features=3072, out_features=768, bias=True)\n",
            "          )\n",
            "          (output_layer_norm): LayerNorm((768,), eps=1e-12, elementwise_affine=True)\n",
            "        )\n",
            "        (5): TransformerBlock(\n",
            "          (attention): MultiHeadSelfAttention(\n",
            "            (dropout): Dropout(p=0.1, inplace=False)\n",
            "            (q_lin): Linear(in_features=768, out_features=768, bias=True)\n",
            "            (k_lin): Linear(in_features=768, out_features=768, bias=True)\n",
            "            (v_lin): Linear(in_features=768, out_features=768, bias=True)\n",
            "            (out_lin): Linear(in_features=768, out_features=768, bias=True)\n",
            "          )\n",
            "          (sa_layer_norm): LayerNorm((768,), eps=1e-12, elementwise_affine=True)\n",
            "          (ffn): FFN(\n",
            "            (dropout): Dropout(p=0.1, inplace=False)\n",
            "            (lin1): Linear(in_features=768, out_features=3072, bias=True)\n",
            "            (lin2): Linear(in_features=3072, out_features=768, bias=True)\n",
            "          )\n",
            "          (output_layer_norm): LayerNorm((768,), eps=1e-12, elementwise_affine=True)\n",
            "        )\n",
            "      )\n",
            "    )\n",
            "  )\n",
            "  (pre_classifier): Linear(in_features=768, out_features=768, bias=True)\n",
            "  (classifier): Linear(in_features=768, out_features=7, bias=True)\n",
            "  (dropout): Dropout(p=0.2, inplace=False)\n",
            ")\n"
          ],
          "name": "stdout"
        }
      ]
    },
    {
      "cell_type": "code",
      "metadata": {
        "colab": {
          "base_uri": "https://localhost:8080/"
        },
        "id": "9JEzWYOdDYVn",
        "outputId": "6c8ab3ee-fc0d-4140-987e-dd1cbfc3cf5f"
      },
      "source": [
        "[n for n, p in model.named_parameters()]\n"
      ],
      "execution_count": null,
      "outputs": [
        {
          "output_type": "execute_result",
          "data": {
            "text/plain": [
              "['distilbert.embeddings.word_embeddings.weight',\n",
              " 'distilbert.embeddings.position_embeddings.weight',\n",
              " 'distilbert.embeddings.LayerNorm.weight',\n",
              " 'distilbert.embeddings.LayerNorm.bias',\n",
              " 'distilbert.transformer.layer.0.attention.q_lin.weight',\n",
              " 'distilbert.transformer.layer.0.attention.q_lin.bias',\n",
              " 'distilbert.transformer.layer.0.attention.k_lin.weight',\n",
              " 'distilbert.transformer.layer.0.attention.k_lin.bias',\n",
              " 'distilbert.transformer.layer.0.attention.v_lin.weight',\n",
              " 'distilbert.transformer.layer.0.attention.v_lin.bias',\n",
              " 'distilbert.transformer.layer.0.attention.out_lin.weight',\n",
              " 'distilbert.transformer.layer.0.attention.out_lin.bias',\n",
              " 'distilbert.transformer.layer.0.sa_layer_norm.weight',\n",
              " 'distilbert.transformer.layer.0.sa_layer_norm.bias',\n",
              " 'distilbert.transformer.layer.0.ffn.lin1.weight',\n",
              " 'distilbert.transformer.layer.0.ffn.lin1.bias',\n",
              " 'distilbert.transformer.layer.0.ffn.lin2.weight',\n",
              " 'distilbert.transformer.layer.0.ffn.lin2.bias',\n",
              " 'distilbert.transformer.layer.0.output_layer_norm.weight',\n",
              " 'distilbert.transformer.layer.0.output_layer_norm.bias',\n",
              " 'distilbert.transformer.layer.1.attention.q_lin.weight',\n",
              " 'distilbert.transformer.layer.1.attention.q_lin.bias',\n",
              " 'distilbert.transformer.layer.1.attention.k_lin.weight',\n",
              " 'distilbert.transformer.layer.1.attention.k_lin.bias',\n",
              " 'distilbert.transformer.layer.1.attention.v_lin.weight',\n",
              " 'distilbert.transformer.layer.1.attention.v_lin.bias',\n",
              " 'distilbert.transformer.layer.1.attention.out_lin.weight',\n",
              " 'distilbert.transformer.layer.1.attention.out_lin.bias',\n",
              " 'distilbert.transformer.layer.1.sa_layer_norm.weight',\n",
              " 'distilbert.transformer.layer.1.sa_layer_norm.bias',\n",
              " 'distilbert.transformer.layer.1.ffn.lin1.weight',\n",
              " 'distilbert.transformer.layer.1.ffn.lin1.bias',\n",
              " 'distilbert.transformer.layer.1.ffn.lin2.weight',\n",
              " 'distilbert.transformer.layer.1.ffn.lin2.bias',\n",
              " 'distilbert.transformer.layer.1.output_layer_norm.weight',\n",
              " 'distilbert.transformer.layer.1.output_layer_norm.bias',\n",
              " 'distilbert.transformer.layer.2.attention.q_lin.weight',\n",
              " 'distilbert.transformer.layer.2.attention.q_lin.bias',\n",
              " 'distilbert.transformer.layer.2.attention.k_lin.weight',\n",
              " 'distilbert.transformer.layer.2.attention.k_lin.bias',\n",
              " 'distilbert.transformer.layer.2.attention.v_lin.weight',\n",
              " 'distilbert.transformer.layer.2.attention.v_lin.bias',\n",
              " 'distilbert.transformer.layer.2.attention.out_lin.weight',\n",
              " 'distilbert.transformer.layer.2.attention.out_lin.bias',\n",
              " 'distilbert.transformer.layer.2.sa_layer_norm.weight',\n",
              " 'distilbert.transformer.layer.2.sa_layer_norm.bias',\n",
              " 'distilbert.transformer.layer.2.ffn.lin1.weight',\n",
              " 'distilbert.transformer.layer.2.ffn.lin1.bias',\n",
              " 'distilbert.transformer.layer.2.ffn.lin2.weight',\n",
              " 'distilbert.transformer.layer.2.ffn.lin2.bias',\n",
              " 'distilbert.transformer.layer.2.output_layer_norm.weight',\n",
              " 'distilbert.transformer.layer.2.output_layer_norm.bias',\n",
              " 'distilbert.transformer.layer.3.attention.q_lin.weight',\n",
              " 'distilbert.transformer.layer.3.attention.q_lin.bias',\n",
              " 'distilbert.transformer.layer.3.attention.k_lin.weight',\n",
              " 'distilbert.transformer.layer.3.attention.k_lin.bias',\n",
              " 'distilbert.transformer.layer.3.attention.v_lin.weight',\n",
              " 'distilbert.transformer.layer.3.attention.v_lin.bias',\n",
              " 'distilbert.transformer.layer.3.attention.out_lin.weight',\n",
              " 'distilbert.transformer.layer.3.attention.out_lin.bias',\n",
              " 'distilbert.transformer.layer.3.sa_layer_norm.weight',\n",
              " 'distilbert.transformer.layer.3.sa_layer_norm.bias',\n",
              " 'distilbert.transformer.layer.3.ffn.lin1.weight',\n",
              " 'distilbert.transformer.layer.3.ffn.lin1.bias',\n",
              " 'distilbert.transformer.layer.3.ffn.lin2.weight',\n",
              " 'distilbert.transformer.layer.3.ffn.lin2.bias',\n",
              " 'distilbert.transformer.layer.3.output_layer_norm.weight',\n",
              " 'distilbert.transformer.layer.3.output_layer_norm.bias',\n",
              " 'distilbert.transformer.layer.4.attention.q_lin.weight',\n",
              " 'distilbert.transformer.layer.4.attention.q_lin.bias',\n",
              " 'distilbert.transformer.layer.4.attention.k_lin.weight',\n",
              " 'distilbert.transformer.layer.4.attention.k_lin.bias',\n",
              " 'distilbert.transformer.layer.4.attention.v_lin.weight',\n",
              " 'distilbert.transformer.layer.4.attention.v_lin.bias',\n",
              " 'distilbert.transformer.layer.4.attention.out_lin.weight',\n",
              " 'distilbert.transformer.layer.4.attention.out_lin.bias',\n",
              " 'distilbert.transformer.layer.4.sa_layer_norm.weight',\n",
              " 'distilbert.transformer.layer.4.sa_layer_norm.bias',\n",
              " 'distilbert.transformer.layer.4.ffn.lin1.weight',\n",
              " 'distilbert.transformer.layer.4.ffn.lin1.bias',\n",
              " 'distilbert.transformer.layer.4.ffn.lin2.weight',\n",
              " 'distilbert.transformer.layer.4.ffn.lin2.bias',\n",
              " 'distilbert.transformer.layer.4.output_layer_norm.weight',\n",
              " 'distilbert.transformer.layer.4.output_layer_norm.bias',\n",
              " 'distilbert.transformer.layer.5.attention.q_lin.weight',\n",
              " 'distilbert.transformer.layer.5.attention.q_lin.bias',\n",
              " 'distilbert.transformer.layer.5.attention.k_lin.weight',\n",
              " 'distilbert.transformer.layer.5.attention.k_lin.bias',\n",
              " 'distilbert.transformer.layer.5.attention.v_lin.weight',\n",
              " 'distilbert.transformer.layer.5.attention.v_lin.bias',\n",
              " 'distilbert.transformer.layer.5.attention.out_lin.weight',\n",
              " 'distilbert.transformer.layer.5.attention.out_lin.bias',\n",
              " 'distilbert.transformer.layer.5.sa_layer_norm.weight',\n",
              " 'distilbert.transformer.layer.5.sa_layer_norm.bias',\n",
              " 'distilbert.transformer.layer.5.ffn.lin1.weight',\n",
              " 'distilbert.transformer.layer.5.ffn.lin1.bias',\n",
              " 'distilbert.transformer.layer.5.ffn.lin2.weight',\n",
              " 'distilbert.transformer.layer.5.ffn.lin2.bias',\n",
              " 'distilbert.transformer.layer.5.output_layer_norm.weight',\n",
              " 'distilbert.transformer.layer.5.output_layer_norm.bias',\n",
              " 'pre_classifier.weight',\n",
              " 'pre_classifier.bias',\n",
              " 'classifier.weight',\n",
              " 'classifier.bias']"
            ]
          },
          "metadata": {
            "tags": []
          },
          "execution_count": 35
        }
      ]
    },
    {
      "cell_type": "code",
      "metadata": {
        "id": "5tgpdxk-AV36"
      },
      "source": [
        "\n",
        "# This code is taken from:\n",
        "# https://github.com/huggingface/transformers/blob/5bfcd0485ece086ebcbed2d008813037968a9e58/examples/run_glue.py#L102\n",
        "\n",
        "# Don't apply weight decay to any parameters whose names include these tokens.\n",
        "# (Here, the BERT doesn't have `gamma` or `beta` parameters, only `bias` terms)\n",
        "\n",
        "\n",
        "\n",
        "learning_rate = 1e-5\n",
        "adam_epsilon = 1e-8\n",
        "\n",
        "# Separate the `weight` parameters from the `bias` parameters. \n",
        "# - For the `weight` parameters, this specifies a 'weight_decay_rate' of 0.01. \n",
        "# - For the `bias` parameters, the 'weight_decay_rate' is 0.0. \n",
        "\n",
        "no_decay = ['bias', 'LayerNorm.weight']\n",
        " # Filter for all parameters which *don't* include 'bias', 'gamma', 'beta'.\n",
        "optimizer_grouped_parameters = [\n",
        "    {'params': [p for n, p in model.named_parameters() if not any(nd in n for nd in no_decay)],\n",
        "     'weight_decay_rate': 0.2},\n",
        "     # Filter for parameters which *do* include those.\n",
        "    {'params': [p for n, p in model.named_parameters() if any(nd in n for nd in no_decay)],\n",
        "     'weight_decay_rate': 0.0}\n",
        "]\n",
        "\n",
        "optimizer = AdamW(optimizer_grouped_parameters, lr=learning_rate, eps=adam_epsilon)"
      ],
      "execution_count": null,
      "outputs": []
    },
    {
      "cell_type": "code",
      "metadata": {
        "id": "jq624-j9DzH0"
      },
      "source": [
        "from transformers import get_linear_schedule_with_warmup\n",
        "\n",
        "num_epochs = 10\n",
        "total_steps = len(train_dataloader) * num_epochs\n",
        "'''\n",
        "adjusts the learning rate based on number of epochs\n",
        "Warm up steps is a parameter which is used to lower\n",
        "the learning rate in order to reduce the impact of deviating the model from learning on sudden new data set\n",
        "By default, number of warm up steps is 0.\n",
        "\n",
        "Then you make bigger steps, because you are probably not near the minima.\n",
        "But as you are approaching the minima, you make smaller steps to converge to it.\n",
        "'''\n",
        "scheduler = get_linear_schedule_with_warmup(optimizer, num_warmup_steps=0, num_training_steps=total_steps)"
      ],
      "execution_count": null,
      "outputs": []
    },
    {
      "cell_type": "code",
      "metadata": {
        "id": "-KNpe7sJDzLc"
      },
      "source": [
        "import time\n",
        "\n",
        "def epoch_time(start_time, end_time):\n",
        "    elapsed_time = end_time - start_time\n",
        "    elapsed_mins = int(elapsed_time / 60)\n",
        "    elapsed_secs = int(elapsed_time - (elapsed_mins * 60))\n",
        "    return elapsed_mins, elapsed_secs"
      ],
      "execution_count": null,
      "outputs": []
    },
    {
      "cell_type": "code",
      "metadata": {
        "id": "m9rp4YIwDzPN"
      },
      "source": [
        "\n",
        "import numpy as np\n",
        "import random\n",
        "\n",
        "seed_val = 111\n",
        "\n",
        "random.seed(seed_val)\n",
        "np.random.seed(seed_val)\n",
        "torch.manual_seed(seed_val)\n",
        "torch.cuda.manual_seed_all(seed_val)"
      ],
      "execution_count": null,
      "outputs": []
    },
    {
      "cell_type": "markdown",
      "metadata": {
        "id": "hOdISdGZzODc"
      },
      "source": [
        "\n",
        "https://stackoverflow.com/questions/60018578/what-does-model-eval-do-in-pytorch\n",
        "\n",
        "model.eval() is a kind of switch for some specific layers/parts of the model that behave differently during training and inference (evaluating) time. For example, Dropouts Layers, BatchNorm Layers etc. You need to turn off them during model evaluation, and .eval() will do it for you. In addition, the common practice for evaluating/validation is using torch.no_grad() in pair with model.eval() to turn off gradients computation:\n",
        "\n",
        "# evaluate model:\n",
        "model.eval()\n",
        "\n",
        "with torch.no_grad():\n",
        "    ...\n",
        "    out_data = model(data)\n",
        "    ...\n",
        "BUT, don't forget to turn back to training mode after eval step:\n",
        "\n",
        "# training step\n",
        "...\n",
        "model.train()\n",
        "..."
      ]
    },
    {
      "cell_type": "code",
      "metadata": {
        "colab": {
          "base_uri": "https://localhost:8080/"
        },
        "id": "lUhtd_x8DzdJ",
        "outputId": "e1a229a8-2a53-46d0-c5fb-e28eaf747db3"
      },
      "source": [
        "train_losses = []\n",
        "val_losses = []\n",
        "num_mb_train = len(train_dataloader)\n",
        "num_mb_val = len(val_dataloader)\n",
        "\n",
        "if num_mb_val == 0:\n",
        "    num_mb_val = 1\n",
        "\n",
        "for n in range(num_epochs):\n",
        "    train_loss = 0\n",
        "    val_loss = 0\n",
        "    start_time = time.time()\n",
        "''''\n",
        "Train_DataLoader\n",
        "Unpack this training batch from our dataloader. \n",
        "'''''\n",
        "    for k, (mb_x, mb_m, mb_y) in enumerate(train_dataloader):\n",
        "\n",
        "    '''\n",
        "    zero out the gradients so that you do the parameter update correctly.\n",
        "    Else the gradient would point in some other direction than the intended direction towards the minimum \n",
        "    '''\n",
        "        optimizer.zero_grad()\n",
        "        model.train()\n",
        "        '''\n",
        "        Move input and label tensors to the GPU\n",
        "        '''\n",
        "        mb_x = mb_x.to(device) #id\n",
        "        mb_m = mb_m.to(device) #mask\n",
        "        mb_y = mb_y.to(device) #target\n",
        "        \n",
        "        outputs = model(mb_x, attention_mask=mb_m, labels=mb_y)\n",
        "        #Calculate the loss\n",
        "        loss = outputs[0]\n",
        "        '''\n",
        "        perform backward pass throght the network to calculate the gradient\n",
        "        '''\n",
        "        loss.backward()\n",
        "        torch.nn.utils.clip_grad_norm_(model.parameters(), 1.0)\n",
        "        optimizer.step()\n",
        "        scheduler.step()\n",
        "        \n",
        "        train_loss += loss.data / num_mb_train\n",
        "    \n",
        "    print (\"\\nTrain loss after itaration %i: %f\" % (n+1, train_loss))\n",
        "    train_losses.append(train_loss.cpu())\n",
        " '''\n",
        " Val_dataloader\n",
        " Unpack this Validating batch from our dataloader. \n",
        " turn off gradients\n",
        " '''\n",
        " '''\n",
        "Since we're not updating our parameters in the validation pass,\n",
        "we can speed up the by turning off gradients using torch.no_grad()   \n",
        " '''  \n",
        "     # Turn off gradients for validation, saves memory and computations\n",
        "    with torch.no_grad():\n",
        "        model.eval()\n",
        "        \n",
        "        for k, (mb_x, mb_m, mb_y) in enumerate(val_dataloader):\n",
        "            mb_x = mb_x.to(device)\n",
        "            mb_m = mb_m.to(device)\n",
        "            mb_y = mb_y.to(device)\n",
        "        \n",
        "            outputs = model(mb_x, attention_mask=mb_m, labels=mb_y)\n",
        "            \n",
        "            loss = outputs[0]\n",
        "            #loss = model_loss(outputs[1], mb_y)\n",
        "            \n",
        "            val_loss += loss.data / num_mb_val\n",
        "            \n",
        "        print (\"Validation loss after itaration %i: %f\" % (n+1, val_loss))\n",
        "        val_losses.append(val_loss.cpu())\n",
        "    \n",
        "    end_time = time.time()\n",
        "    epoch_mins, epoch_secs = epoch_time(start_time, end_time)\n",
        "    print(f'Time: {epoch_mins}m {epoch_secs}s')\n"
      ],
      "execution_count": null,
      "outputs": [
        {
          "output_type": "stream",
          "text": [
            "\n",
            "Train loss after itaration 1: 1.708543\n",
            "Validation loss after itaration 1: 1.352705\n",
            "Time: 2m 19s\n",
            "\n",
            "Train loss after itaration 2: 1.148504\n",
            "Validation loss after itaration 2: 0.995975\n",
            "Time: 2m 26s\n",
            "\n",
            "Train loss after itaration 3: 0.879364\n",
            "Validation loss after itaration 3: 0.869749\n",
            "Time: 2m 27s\n",
            "\n",
            "Train loss after itaration 4: 0.732512\n",
            "Validation loss after itaration 4: 0.805549\n",
            "Time: 2m 27s\n",
            "\n",
            "Train loss after itaration 5: 0.638703\n",
            "Validation loss after itaration 5: 0.770404\n",
            "Time: 2m 27s\n",
            "\n",
            "Train loss after itaration 6: 0.570278\n",
            "Validation loss after itaration 6: 0.765594\n",
            "Time: 2m 27s\n",
            "\n",
            "Train loss after itaration 7: 0.521843\n",
            "Validation loss after itaration 7: 0.762436\n",
            "Time: 2m 27s\n",
            "\n",
            "Train loss after itaration 8: 0.481859\n",
            "Validation loss after itaration 8: 0.762419\n",
            "Time: 2m 27s\n",
            "\n",
            "Train loss after itaration 9: 0.448811\n",
            "Validation loss after itaration 9: 0.770299\n",
            "Time: 2m 27s\n",
            "\n",
            "Train loss after itaration 10: 0.435203\n",
            "Validation loss after itaration 10: 0.773624\n",
            "Time: 2m 27s\n"
          ],
          "name": "stdout"
        }
      ]
    },
    {
      "cell_type": "code",
      "metadata": {
        "colab": {
          "base_uri": "https://localhost:8080/"
        },
        "id": "3CtMkENxDzgp",
        "outputId": "a8eab7c7-8620-4f0b-d207-791304577238"
      },
      "source": [
        "ls"
      ],
      "execution_count": null,
      "outputs": [
        {
          "output_type": "stream",
          "text": [
            "\u001b[0m\u001b[01;34mmodel\u001b[0m/  \u001b[01;34mNLP_Forum_Recomendation_Engine\u001b[0m/  tudiabetes_20.csv\n"
          ],
          "name": "stdout"
        }
      ]
    },
    {
      "cell_type": "code",
      "metadata": {
        "colab": {
          "base_uri": "https://localhost:8080/"
        },
        "id": "tF_1qnyZ0fDq",
        "outputId": "76eca145-85d2-4d7d-d38e-16b535a250c2"
      },
      "source": [
        "from google.colab import drive\n",
        "drive.mount('/content/gdrive')"
      ],
      "execution_count": null,
      "outputs": [
        {
          "output_type": "stream",
          "text": [
            "Drive already mounted at /content/gdrive; to attempt to forcibly remount, call drive.mount(\"/content/gdrive\", force_remount=True).\n"
          ],
          "name": "stdout"
        }
      ]
    },
    {
      "cell_type": "code",
      "metadata": {
        "colab": {
          "base_uri": "https://localhost:8080/"
        },
        "id": "du9oYa9m0fq-",
        "outputId": "8f020927-abdd-4874-9055-d3046b939c74"
      },
      "source": [
        "cd /content/gdrive/MyDrive/Stemaway/Module5_notebook"
      ],
      "execution_count": null,
      "outputs": [
        {
          "output_type": "stream",
          "text": [
            "/content/gdrive/MyDrive/Stemaway/Module5_notebook\n"
          ],
          "name": "stdout"
        }
      ]
    },
    {
      "cell_type": "markdown",
      "metadata": {
        "id": "tZ8fdGKHiaj6"
      },
      "source": [
        "#Save Model"
      ]
    },
    {
      "cell_type": "code",
      "metadata": {
        "id": "aslqLUv1Dzkg"
      },
      "source": [
        "#After training, we can save the model and necessary configuration parameters,\n",
        "# to recreate it later and use it to score the test data. Here we also save the losses computed from both training and validation data.\n",
        "import pickle\n",
        "import os\n",
        "\n",
        "out_dir = './model'\n",
        "\n",
        "if not os.path.exists(out_dir):\n",
        "    os.makedirs(out_dir)\n",
        "    \n",
        "model_to_save = model.module if hasattr(model, 'module') else model\n",
        "model_to_save.save_pretrained(out_dir)\n",
        "tokenizer.save_pretrained(out_dir)\n",
        "\n",
        "with open(out_dir + '/train_losses.pkl', 'wb') as f:\n",
        "    pickle.dump(train_losses, f)\n",
        "    \n",
        "with open(out_dir + '/val_losses.pkl', 'wb') as f:\n",
        "    pickle.dump(val_losses, f)"
      ],
      "execution_count": null,
      "outputs": []
    },
    {
      "cell_type": "code",
      "metadata": {
        "id": "h8iWWyePEOOA"
      },
      "source": [
        "out_dir = './model'\n",
        "\n",
        "model = DistilBertForSequenceClassification.from_pretrained(out_dir)\n",
        "# load the tokenizer\n",
        "tokenizer = DistilBertTokenizer.from_pretrained(out_dir , \n",
        "                                                        do_lower_case=True)\n",
        "device = torch.device('cuda' if torch.cuda.is_available() else 'cpu')\n",
        "model = model.to(device)\n",
        "\n",
        "with open(out_dir + '/train_losses.pkl', 'rb') as f:\n",
        "    train_losses = pickle.load(f)\n",
        "    \n",
        "with open(out_dir + '/val_losses.pkl', 'rb') as f:\n",
        "    val_losses = pickle.load(f)"
      ],
      "execution_count": null,
      "outputs": []
    },
    {
      "cell_type": "code",
      "metadata": {
        "id": "NypB2VSzUlb6"
      },
      "source": [
        ""
      ],
      "execution_count": null,
      "outputs": []
    },
    {
      "cell_type": "code",
      "metadata": {
        "colab": {
          "base_uri": "https://localhost:8080/",
          "height": 282
        },
        "id": "T3MHXbbyEOZW",
        "outputId": "b9d52036-f0a6-4099-8eb7-a412e764876c"
      },
      "source": [
        "from matplotlib import pyplot as plt\n",
        "%matplotlib inline\n",
        "\n",
        "plt.figure()\n",
        "plt.plot(train_losses)\n"
      ],
      "execution_count": null,
      "outputs": [
        {
          "output_type": "execute_result",
          "data": {
            "text/plain": [
              "[<matplotlib.lines.Line2D at 0x7f544ce0bb50>]"
            ]
          },
          "metadata": {
            "tags": []
          },
          "execution_count": 67
        },
        {
          "output_type": "display_data",
          "data": {
            "image/png": "[encoded data removed]",
            "text/plain": [
              "<Figure size 432x288 with 1 Axes>"
            ]
          },
          "metadata": {
            "tags": [],
            "needs_background": "light"
          }
        }
      ]
    },
    {
      "cell_type": "code",
      "metadata": {
        "colab": {
          "base_uri": "https://localhost:8080/",
          "height": 282
        },
        "id": "Zb7MSEVrEOkX",
        "outputId": "c096ba0a-8a31-4ddc-9506-1af5d843d327"
      },
      "source": [
        "plt.figure()\n",
        "plt.plot(val_losses)"
      ],
      "execution_count": null,
      "outputs": [
        {
          "output_type": "execute_result",
          "data": {
            "text/plain": [
              "[<matplotlib.lines.Line2D at 0x7f544d8d0b90>]"
            ]
          },
          "metadata": {
            "tags": []
          },
          "execution_count": 45
        },
        {
          "output_type": "display_data",
          "data": {
            "image/png": "[encoded data removed]",
            "text/plain": [
              "<Figure size 432x288 with 1 Axes>"
            ]
          },
          "metadata": {
            "tags": [],
            "needs_background": "light"
          }
        }
      ]
    },
    {
      "cell_type": "code",
      "metadata": {
        "id": "ld0UKOmBEOvO"
      },
      "source": [
        "batch_size = 32\n",
        "\n",
        "test_data = TensorDataset(test_x, test_m)\n",
        "test_sampler = SequentialSampler(test_data)\n",
        "test_dataloader = DataLoader(test_data, sampler=test_sampler, batch_size=batch_size)\n",
        "\n",
        "outputs = []\n",
        "with torch.no_grad():\n",
        "    model.eval()\n",
        "    for k, (mb_x, mb_m) in enumerate(test_dataloader):\n",
        "        mb_x = mb_x.to(device)\n",
        "        mb_m = mb_m.to(device)\n",
        "        output = model(mb_x, attention_mask=mb_m)\n",
        "        outputs.append(output[0].to('cpu'))\n",
        "\n",
        "outputs = torch.cat(outputs)"
      ],
      "execution_count": null,
      "outputs": []
    },
    {
      "cell_type": "code",
      "metadata": {
        "id": "Yi92kIJKEdqp"
      },
      "source": [
        "_, predicted_values = torch.max(outputs, 1)\n",
        "predicted_values = predicted_values.numpy()\n",
        "true_values = test_y.numpy()"
      ],
      "execution_count": null,
      "outputs": []
    },
    {
      "cell_type": "code",
      "metadata": {
        "colab": {
          "base_uri": "https://localhost:8080/"
        },
        "id": "pw6qBzLWEduw",
        "outputId": "44907275-b133-4007-81a7-2179c97c3a67"
      },
      "source": [
        "test_accuracy = np.sum(predicted_values == true_values) / len(true_values)\n",
        "print (\"Test Accuracy:\", test_accuracy)"
      ],
      "execution_count": null,
      "outputs": [
        {
          "output_type": "stream",
          "text": [
            "Test Accuracy: 0.7606837606837606\n"
          ],
          "name": "stdout"
        }
      ]
    },
    {
      "cell_type": "code",
      "metadata": {
        "colab": {
          "base_uri": "https://localhost:8080/"
        },
        "id": "QWZP_CYuEd1g",
        "outputId": "3e082fd5-971a-42e8-b359-7736455e54bf"
      },
      "source": [
        "from sklearn.metrics import classification_report\n",
        "\n",
        "print(classification_report(true_values, predicted_values, target_names=[str(l) for l in my_categories]))"
      ],
      "execution_count": null,
      "outputs": [
        {
          "output_type": "stream",
          "text": [
            "                        precision    recall  f1-score   support\n",
            "\n",
            "       Type 1 and LADA       0.50      0.49      0.49        41\n",
            "                Type 2       0.52      0.71      0.60        48\n",
            "Diabetes and Pregnancy       0.98      1.00      0.99        51\n",
            "             Community       0.84      0.58      0.69        55\n",
            "                  Food       0.89      0.78      0.83        50\n",
            "             Treatment       0.81      0.82      0.81        56\n",
            "   Diabetes Technology       0.82      0.90      0.86        50\n",
            "\n",
            "              accuracy                           0.76       351\n",
            "             macro avg       0.77      0.75      0.75       351\n",
            "          weighted avg       0.78      0.76      0.76       351\n",
            "\n"
          ],
          "name": "stdout"
        }
      ]
    },
    {
      "cell_type": "code",
      "metadata": {
        "id": "7TQSIX1NEd8T"
      },
      "source": [
        "import itertools\n",
        "\n",
        "# plot confusion matrix\n",
        "# code borrowed from scikit-learn.org\n",
        "def plot_confusion_matrix(cm, classes,\n",
        "                          normalize=False,\n",
        "                          title='Confusion matrix',\n",
        "                          cmap=plt.cm.Blues):\n",
        "    \"\"\"\n",
        "    This function prints and plots the confusion matrix.\n",
        "    Normalization can be applied by setting `normalize=True`.\n",
        "    \"\"\"\n",
        "    if normalize:\n",
        "        cm = cm.astype('float') / cm.sum(axis=1)[:, np.newaxis]\n",
        "        print(\"Normalized confusion matrix\")\n",
        "    else:\n",
        "        print('Confusion matrix, without normalization')\n",
        "\n",
        "    print(cm)\n",
        "\n",
        "    plt.imshow(cm, interpolation='nearest', cmap=cmap)\n",
        "    plt.title(title)\n",
        "    plt.colorbar()\n",
        "    tick_marks = np.arange(len(classes))\n",
        "    plt.xticks(tick_marks, classes, rotation=45)\n",
        "    plt.yticks(tick_marks, classes)\n",
        "\n",
        "    fmt = '.2f' if normalize else 'd'\n",
        "    thresh = cm.max() / 2.\n",
        "    for i, j in itertools.product(range(cm.shape[0]), range(cm.shape[1])):\n",
        "        plt.text(j, i, format(cm[i, j], fmt),\n",
        "                 horizontalalignment=\"center\",\n",
        "                 color=\"white\" if cm[i, j] > thresh else \"black\")\n",
        "\n",
        "    plt.tight_layout()\n",
        "    plt.ylabel('True label')\n",
        "    plt.xlabel('Predicted label')"
      ],
      "execution_count": null,
      "outputs": []
    },
    {
      "cell_type": "code",
      "metadata": {
        "colab": {
          "base_uri": "https://localhost:8080/",
          "height": 1000
        },
        "id": "VBtoFrhiEeAJ",
        "outputId": "9be3511e-e05a-4890-a8f5-bded838e2616"
      },
      "source": [
        "from sklearn.metrics import classification_report, confusion_matrix\n",
        "\n",
        "cm_test = confusion_matrix(true_values, predicted_values)\n",
        "\n",
        "np.set_printoptions(precision=2)\n",
        "\n",
        "plt.figure(figsize=(6,6))\n",
        "plot_confusion_matrix(cm_test, classes=my_categories, title='Confusion Matrix - Test Dataset')\n",
        "plt.figure(figsize=(6,6))\n",
        "plot_confusion_matrix(cm_test, classes=my_categories, title='Confusion Matrix - Test Dataset', normalize=True)"
      ],
      "execution_count": null,
      "outputs": [
        {
          "output_type": "stream",
          "text": [
            "Confusion matrix, without normalization\n",
            "[[20 10  1  0  0  3  7]\n",
            " [ 6 34  0  3  2  3  0]\n",
            " [ 0  0 51  0  0  0  0]\n",
            " [ 7  8  0 32  3  2  3]\n",
            " [ 1  6  0  2 39  2  0]\n",
            " [ 2  7  0  1  0 46  0]\n",
            " [ 4  0  0  0  0  1 45]]\n",
            "Normalized confusion matrix\n",
            "[[0.49 0.24 0.02 0.   0.   0.07 0.17]\n",
            " [0.12 0.71 0.   0.06 0.04 0.06 0.  ]\n",
            " [0.   0.   1.   0.   0.   0.   0.  ]\n",
            " [0.13 0.15 0.   0.58 0.05 0.04 0.05]\n",
            " [0.02 0.12 0.   0.04 0.78 0.04 0.  ]\n",
            " [0.04 0.12 0.   0.02 0.   0.82 0.  ]\n",
            " [0.08 0.   0.   0.   0.   0.02 0.9 ]]\n"
          ],
          "name": "stdout"
        },
        {
          "output_type": "display_data",
          "data": {
            "image/png": "[encoded data removed]",
            "text/plain": [
              "<Figure size 432x432 with 2 Axes>"
            ]
          },
          "metadata": {
            "tags": [],
            "needs_background": "light"
          }
        },
        {
          "output_type": "display_data",
          "data": {
            "image/png": "[encoded data removed]",
            "text/plain": [
              "<Figure size 432x432 with 2 Axes>"
            ]
          },
          "metadata": {
            "tags": [],
            "needs_background": "light"
          }
        }
      ]
    },
    {
      "cell_type": "markdown",
      "metadata": {
        "id": "K-Rtr5QqiUDO"
      },
      "source": [
        "#Get_Recommendations"
      ]
    },
    {
      "cell_type": "code",
      "metadata": {
        "id": "R3H-4zlSU3_O"
      },
      "source": [
        "max_length=250\n",
        "my_categories = [ 'Type 1 and LADA',\n",
        "'Type 2', 'Diabetes and Pregnancy', 'Community', 'Food',\n",
        "'Treatment', 'Diabetes Technology']\n",
        "def Get_Recommendations(text,n):\n",
        "    # prepare our text into tokenized sequence\n",
        "    inputs = tokenizer(text, padding=True, truncation=True, max_length=max_length, return_tensors=\"pt\").to(\"cuda\")\n",
        "    # perform inference to our model\n",
        "    outputs = model(**inputs)\n",
        "    # get output probabilities by doing softmax\n",
        "    probs = outputs[0].softmax(1)\n",
        "    # executing argmax function to get the candidate label\n",
        "    p=probs.tolist()[0]\n",
        "\n",
        "    for i in probs.argsort(descending=True).tolist()[0][:n]:\n",
        "      \n",
        "      print(my_categories[i],round(p[i], 4))\n",
        "      print('https://forum.tudiabetes.org/c/'+my_categories[i].lower().strip().replace(' ', '-'))\n"
      ],
      "execution_count": null,
      "outputs": []
    },
    {
      "cell_type": "code",
      "metadata": {
        "colab": {
          "base_uri": "https://localhost:8080/"
        },
        "id": "0E6baXz0U7bh",
        "outputId": "ac24bd5a-2e9b-4e88-9f4c-61f35c68d7ad"
      },
      "source": [
        "text = \"\"\"\n",
        "I love Dexcom, I have been using it since September.\n",
        "I got G5.There are some things I like about it and some not yet.\n",
        "Also, Dexom just released newupdate for iPhone allowing almost full Apple Watch Integration, cant beat that\n",
        "\"\"\"\n",
        "print(Get_Recommendations(text,n=3))"
      ],
      "execution_count": null,
      "outputs": [
        {
          "output_type": "stream",
          "text": [
            "Diabetes Technology 0.8367\n",
            "https://forum.tudiabetes.org/c/diabetes-technology\n",
            "Type 1 and LADA 0.0921\n",
            "https://forum.tudiabetes.org/c/type-1-and-lada\n",
            "Type 2 0.018\n",
            "https://forum.tudiabetes.org/c/type-2\n",
            "None\n"
          ],
          "name": "stdout"
        }
      ]
    },
    {
      "cell_type": "code",
      "metadata": {
        "colab": {
          "base_uri": "https://localhost:8080/"
        },
        "id": "60kN3EoaEeD0",
        "outputId": "fb9f9424-741d-494c-eab2-b7ad4b4a89c2"
      },
      "source": [
        "\n",
        "text = \"\"\"\n",
        "My uncle just found out he has diabetes. he is visiting me tomorrow and I dont know what to serve dinner? does anyone have any diabetes friendly recipe suggestions?\n",
        "\n",
        "\"\"\"\n",
        "print(Get_Recommendations(text,n=3))"
      ],
      "execution_count": null,
      "outputs": [
        {
          "output_type": "stream",
          "text": [
            "Food 0.9043\n",
            "https://forum.tudiabetes.org/c/food\n",
            "Type 2 0.0245\n",
            "https://forum.tudiabetes.org/c/type-2\n",
            "Treatment 0.0202\n",
            "https://forum.tudiabetes.org/c/treatment\n",
            "None\n"
          ],
          "name": "stdout"
        }
      ]
    },
    {
      "cell_type": "code",
      "metadata": {
        "colab": {
          "base_uri": "https://localhost:8080/"
        },
        "id": "V2ANClnzEePz",
        "outputId": "2e982d94-d860-460e-8d0a-3fde3f3dcc68"
      },
      "source": [
        "text = \"\"\"\n",
        "I have high blood suger and my doctor told me I have Type 1 diabetes. What should I avoid. Any tips on good diets and recipes?\n",
        "\"\"\"\n",
        "print(Get_Recommendations(text,n=3))"
      ],
      "execution_count": null,
      "outputs": [
        {
          "output_type": "stream",
          "text": [
            "Food 0.7418\n",
            "https://forum.tudiabetes.org/c/food\n",
            "Type 2 0.1289\n",
            "https://forum.tudiabetes.org/c/type-2\n",
            "Treatment 0.0519\n",
            "https://forum.tudiabetes.org/c/treatment\n",
            "None\n"
          ],
          "name": "stdout"
        }
      ]
    },
    {
      "cell_type": "code",
      "metadata": {
        "colab": {
          "base_uri": "https://localhost:8080/"
        },
        "id": "BIDhP-iGEPC2",
        "outputId": "e661f5c5-d7fe-4df4-f8c1-6636c1cc4710"
      },
      "source": [
        "#https://forum.tudiabetes.org/t/new-beyond-type-2-app/86236\n",
        "text = \"\"\"\n",
        "\n",
        "Have you checked out the Beyond Type 2 Community - a new app and online community for everyone with Type 2 diabetes to connect?\n",
        "\n",
        "Together, we’re building a safe space to share ideas, stories, resources, and perspectives in English and Spanish, for not only living with T2D but thriving with it.\n",
        "\n",
        "Download the Beyond Type 2 App from your mobile App Store or access it on any browser at community.beyondtype2.org 3.\n",
        "\n",
        "Please let me know if you have any questions!\"\"\"\n",
        "print(Get_Recommendations(text,n=3))"
      ],
      "execution_count": null,
      "outputs": [
        {
          "output_type": "stream",
          "text": [
            "Type 2 0.7234\n",
            "https://forum.tudiabetes.org/c/type-2\n",
            "Type 1 and LADA 0.0809\n",
            "https://forum.tudiabetes.org/c/type-1-and-lada\n",
            "Treatment 0.0781\n",
            "https://forum.tudiabetes.org/c/treatment\n",
            "None\n"
          ],
          "name": "stdout"
        }
      ]
    },
    {
      "cell_type": "code",
      "metadata": {
        "colab": {
          "base_uri": "https://localhost:8080/"
        },
        "id": "kaiw4GStVfrT",
        "outputId": "3b0fe88f-62bb-4a44-eae4-7cb2b7620a41"
      },
      "source": [
        "#https://www.diabetes.co.uk/forum/threads/pregnant-with-non-diabetic-reactive-hypoglycaemia.180045/\n",
        "text = \"\"\"\n",
        "Hello everyone,\n",
        "\n",
        "Has anyone been pregnant with this? As I’m currently pregnant and monitored my blood sugar for two weeks at around eight weeks which was all fine, I’ve got to monitor again when I get to 28 weeks to check for gestational diabetes and I’ve been trying to avoid sugar as much as I can but sometimes I just want a brownie. Would there be any damage done to the baby from the occasional low?\n",
        "\n",
        "I’ve not had a lot of support from the midwives, not through any fault of their own but they’d never even heard of this before and the diabetes team didn’t seem to know much about it either so I’d love to speak to anyone who’s been through pregnancy with it.\"\"\"\n",
        "print(Get_Recommendations(text,n=3))"
      ],
      "execution_count": null,
      "outputs": [
        {
          "output_type": "stream",
          "text": [
            "Diabetes and Pregnancy 0.9515\n",
            "https://forum.tudiabetes.org/c/diabetes-and-pregnancy\n",
            "Type 1 and LADA 0.0105\n",
            "https://forum.tudiabetes.org/c/type-1-and-lada\n",
            "Type 2 0.0096\n",
            "https://forum.tudiabetes.org/c/type-2\n",
            "None\n"
          ],
          "name": "stdout"
        }
      ]
    },
    {
      "cell_type": "code",
      "metadata": {
        "colab": {
          "base_uri": "https://localhost:8080/"
        },
        "id": "Z4WIC_S7Vj-B",
        "outputId": "1e2bc8f8-b0fd-4f43-8226-902cd2024b55"
      },
      "source": [
        "text = \"\"\"\n",
        "Hi all, I’m considering loading up an old pump with symlin. \n",
        "I am already pumping insulin. My question: do people really think it is necessary to have TWO sites- one for insulin and one for symlin? \n",
        "Would it be possible to just bolus the symlin through the same site? (and yes, I know they aren’t SUPPOSED to be mixed…) Any thoughts would be appreciated. \n",
        "Thanks,Ruth\"\"\"\n",
        "print(Get_Recommendations(text,n=3))"
      ],
      "execution_count": null,
      "outputs": [
        {
          "output_type": "stream",
          "text": [
            "Type 1 and LADA 0.4204\n",
            "https://forum.tudiabetes.org/c/type-1-and-lada\n",
            "Diabetes Technology 0.1988\n",
            "https://forum.tudiabetes.org/c/diabetes-technology\n",
            "Treatment 0.1722\n",
            "https://forum.tudiabetes.org/c/treatment\n",
            "None\n"
          ],
          "name": "stdout"
        }
      ]
    },
    {
      "cell_type": "code",
      "metadata": {
        "id": "NAvYl41tVkHf"
      },
      "source": [
        ""
      ],
      "execution_count": null,
      "outputs": []
    },
    {
      "cell_type": "code",
      "metadata": {
        "id": "gS8DUyomnnvU"
      },
      "source": [
        ""
      ],
      "execution_count": null,
      "outputs": []
    },
    {
      "cell_type": "code",
      "metadata": {
        "id": "GxrIPrxznnx8"
      },
      "source": [
        ""
      ],
      "execution_count": null,
      "outputs": []
    },
    {
      "cell_type": "code",
      "metadata": {
        "id": "zZ1zUt8-nn2p"
      },
      "source": [
        ""
      ],
      "execution_count": null,
      "outputs": []
    },
    {
      "cell_type": "code",
      "metadata": {
        "id": "u1IC0HT7nn6s"
      },
      "source": [
        ""
      ],
      "execution_count": null,
      "outputs": []
    },
    {
      "cell_type": "code",
      "metadata": {
        "id": "gBIVH5Bqnn9U"
      },
      "source": [
        ""
      ],
      "execution_count": null,
      "outputs": []
    },
    {
      "cell_type": "code",
      "metadata": {
        "id": "VSy0OFXmnoBt"
      },
      "source": [
        ""
      ],
      "execution_count": null,
      "outputs": []
    },
    {
      "cell_type": "code",
      "metadata": {
        "id": "At5MXZRsnoDu"
      },
      "source": [
        ""
      ],
      "execution_count": null,
      "outputs": []
    },
    {
      "cell_type": "code",
      "metadata": {
        "id": "diQzxWGQnoGj"
      },
      "source": [
        ""
      ],
      "execution_count": null,
      "outputs": []
    },
    {
      "cell_type": "code",
      "metadata": {
        "id": "PZycVivInoIy"
      },
      "source": [
        ""
      ],
      "execution_count": null,
      "outputs": []
    },
    {
      "cell_type": "code",
      "metadata": {
        "id": "AQMUpVr_noRO"
      },
      "source": [
        ""
      ],
      "execution_count": null,
      "outputs": []
    },
    {
      "cell_type": "markdown",
      "metadata": {
        "id": "spy2h-S7CVD7"
      },
      "source": [
        "\n",
        "https://github.com/vilcek/fine-tuning-BERT-for-text-classification/blob/master/02-data-classification.ipynb"
      ]
    },
    {
      "cell_type": "code",
      "metadata": {
        "id": "jUifmZyznlTu"
      },
      "source": [
        ""
      ],
      "execution_count": null,
      "outputs": []
    }
  ]
}