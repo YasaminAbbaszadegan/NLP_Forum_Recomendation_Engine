{
  "nbformat": 4,
  "nbformat_minor": 0,
  "metadata": {
    "colab": {
      "name": "Web Scraping _TuDiabetes.ipynb",
      "provenance": [],
      "collapsed_sections": []
    },
    "kernelspec": {
      "name": "python3",
      "display_name": "Python 3"
    }
  },
  "cells": [
    {
      "cell_type": "code",
      "metadata": {
        "colab": {
          "base_uri": "https://localhost:8080/"
        },
        "id": "LvOXktkuZPBz",
        "outputId": "b029c2d8-f2ea-436e-bfb1-98fc35ae3094"
      },
      "source": [
        "# Import the libraries\n",
        "from bs4 import BeautifulSoup\n",
        "#https://stackoverflow.com/questions/51046454/how-can-we-use-selenium-webdriver-in-colab-research-google-com\n",
        "!pip install selenium\n",
        "!apt-get update \n",
        "!apt install chromium-chromedriver\n",
        "!cp /usr/lib/chromium-browser/chromedriver /usr/bin\n",
        "\n",
        "from selenium import webdriver\n",
        "options = webdriver.ChromeOptions()\n",
        "options.add_argument('--headless')\n",
        "options.add_argument('--no-sandbox')\n",
        "options.add_argument('--disable-dev-shm-usage')\n",
        "wd = webdriver.Chrome('chromedriver',options=options) # driver for individual threads\n",
        "driver =webdriver.Chrome('chromedriver',options=options) # driver for root forum\n",
        "import selenium\n"
      ],
      "execution_count": null,
      "outputs": [
        {
          "output_type": "stream",
          "text": [
            "Requirement already satisfied: selenium in /usr/local/lib/python3.6/dist-packages (3.141.0)\n",
            "Requirement already satisfied: urllib3 in /usr/local/lib/python3.6/dist-packages (from selenium) (1.24.3)\n",
            "Ign:1 https://developer.download.nvidia.com/compute/cuda/repos/ubuntu1804/x86_64  InRelease\n",
            "Ign:2 https://developer.download.nvidia.com/compute/machine-learning/repos/ubuntu1804/x86_64  InRelease\n",
            "Hit:3 https://cloud.r-project.org/bin/linux/ubuntu bionic-cran40/ InRelease\n",
            "Hit:4 https://developer.download.nvidia.com/compute/cuda/repos/ubuntu1804/x86_64  Release\n",
            "Hit:5 https://developer.download.nvidia.com/compute/machine-learning/repos/ubuntu1804/x86_64  Release\n",
            "Hit:6 http://security.ubuntu.com/ubuntu bionic-security InRelease\n",
            "Hit:7 http://archive.ubuntu.com/ubuntu bionic InRelease\n",
            "Hit:8 http://ppa.launchpad.net/c2d4u.team/c2d4u4.0+/ubuntu bionic InRelease\n",
            "Hit:10 http://archive.ubuntu.com/ubuntu bionic-updates InRelease\n",
            "Hit:11 http://archive.ubuntu.com/ubuntu bionic-backports InRelease\n",
            "Hit:13 http://ppa.launchpad.net/cran/libgit2/ubuntu bionic InRelease\n",
            "Hit:14 http://ppa.launchpad.net/graphics-drivers/ppa/ubuntu bionic InRelease\n",
            "Reading package lists... Done\n",
            "Reading package lists... Done\n",
            "Building dependency tree       \n",
            "Reading state information... Done\n",
            "chromium-chromedriver is already the newest version (87.0.4280.66-0ubuntu0.18.04.1).\n",
            "0 upgraded, 0 newly installed, 0 to remove and 39 not upgraded.\n",
            "cp: '/usr/lib/chromium-browser/chromedriver' and '/usr/bin/chromedriver' are the same file\n"
          ],
          "name": "stdout"
        }
      ]
    },
    {
      "cell_type": "code",
      "metadata": {
        "id": "XohOuDN8Qe4y"
      },
      "source": [
        "wd1 = webdriver.Chrome('chromedriver',options=options) # driver for individual threads\n"
      ],
      "execution_count": null,
      "outputs": []
    },
    {
      "cell_type": "code",
      "metadata": {
        "colab": {
          "base_uri": "https://localhost:8080/"
        },
        "id": "8xquwTCnZXTO",
        "outputId": "9bf70e87-e344-43f9-e2e5-884a52850e03"
      },
      "source": [
        "from google.colab import drive\n",
        "drive.mount('/gdrive')"
      ],
      "execution_count": null,
      "outputs": [
        {
          "output_type": "stream",
          "text": [
            "Mounted at /gdrive\n"
          ],
          "name": "stdout"
        }
      ]
    },
    {
      "cell_type": "code",
      "metadata": {
        "colab": {
          "base_uri": "https://localhost:8080/"
        },
        "id": "XLfQDfRSZZYR",
        "outputId": "34184e9b-5044-4723-d9d2-fd41026d6ffd"
      },
      "source": [
        "cd /gdrive/MyDrive/Stemaway/Module2_notebook"
      ],
      "execution_count": null,
      "outputs": [
        {
          "output_type": "stream",
          "text": [
            "/gdrive/MyDrive/Stemaway/Module2_notebook\n"
          ],
          "name": "stdout"
        }
      ]
    },
    {
      "cell_type": "code",
      "metadata": {
        "id": "R0HUBzT87_iE"
      },
      "source": [
        "BASE_URL='https://forum.tudiabetes.org/'"
      ],
      "execution_count": null,
      "outputs": []
    },
    {
      "cell_type": "code",
      "metadata": {
        "id": "lmxo9d50k4aN"
      },
      "source": [
        "CAT_URL = 'https://forum.tudiabetes.org/categories'"
      ],
      "execution_count": null,
      "outputs": []
    },
    {
      "cell_type": "code",
      "metadata": {
        "colab": {
          "base_uri": "https://localhost:8080/"
        },
        "id": "TNTZM2iBlDao",
        "outputId": "5106a47d-b82e-4e51-f351-e30409c349e5"
      },
      "source": [
        "driver.get(CAT_URL)\n",
        "post_links = []\n",
        "\n",
        "# Get the initial height of the webpage\n",
        "lastHeight = driver.execute_script('return document.body.scrollHeight')\n",
        "lastHeight"
      ],
      "execution_count": null,
      "outputs": [
        {
          "output_type": "execute_result",
          "data": {
            "text/plain": [
              "4246"
            ]
          },
          "metadata": {
            "tags": []
          },
          "execution_count": 265
        }
      ]
    },
    {
      "cell_type": "markdown",
      "metadata": {
        "id": "3zIzrqs3URzb"
      },
      "source": [
        "# Category_links"
      ]
    },
    {
      "cell_type": "code",
      "metadata": {
        "id": "e2vGDb8oy2b-"
      },
      "source": [
        "c_links = []\n",
        "cat=[]\n",
        "# scrolls = 1\n",
        "# Get the initial height of the webpage\n",
        "lastHeight = driver.execute_script('return document.body.scrollHeight')\n",
        "# the while loop is to check whether you reach the very bottom of the webpage\n",
        "while True:\n",
        "    # tell selenium to scroll down to the current bottom of webpage\n",
        "    scrolls -= 1\n",
        "    driver.execute_script(\"window.scrollTo(arguments[0], document.body.scrollHeight);\",lastHeight)\n",
        "    \n",
        "    # To the bottom\n",
        "    # driver.execute_script(\"window.scrollTo(arguments[0], document.body.scrollHeight);\",lastHeight)\n",
        "    \n",
        "    # Parse html with beautifulSoup\n",
        "    soup = BeautifulSoup(driver.page_source,'lxml')\n",
        "    # locate the html section with posts\n",
        "    body = soup.find('body')\n",
        "\n",
        "    main_outlet = body.find('div',{'class':\"container list-container \"})\n",
        "    # main_outlet = body.find('div', {'class': \"contents ember-view\"})\n",
        "    column_outlet = main_outlet.find('div',{'class':\"column categories\"})\n",
        "    \n",
        "\n",
        "    # get all hyperlinks of threads\n",
        "    all_a = column_outlet.findAll('a',{\"class\":\"category-title-link\"})\n",
        "\n",
        "    for a in all_a:\n",
        "        post_link = a.get('href')\n",
        "        c_links.append(post_link)\n",
        "\n",
        "    categ=column_outlet.findAll('div', {'class': 'category-text-title'})\n",
        "\n",
        "    for c in categ:\n",
        "         cat.append(c.find('span',{'class':'category-name'}).text)\n",
        "    # calculate the new height of webpage\n",
        "    newHeight = driver.execute_script(\"return document.body.scrollHeight\")\n",
        "    if newHeight == lastHeight:\n",
        "        break\n",
        "    \n",
        "    lastHeight = newHeight\n",
        "    # # time.sleep(3)\n",
        "    # if scrolls < 0:\n",
        "    #     break\n"
      ],
      "execution_count": null,
      "outputs": []
    },
    {
      "cell_type": "code",
      "metadata": {
        "colab": {
          "base_uri": "https://localhost:8080/"
        },
        "id": "8Y2KNsyA9dTR",
        "outputId": "5567ac82-347e-4771-98fb-dbfbc0855742"
      },
      "source": [
        "import collections\n",
        "\n",
        "counter=collections.Counter(c_links)\n",
        "print(counter)"
      ],
      "execution_count": null,
      "outputs": [
        {
          "output_type": "stream",
          "text": [
            "Counter({'/c/social-clubs/60': 1, '/c/meta/3': 1, '/c/welcome/56': 1, '/c/type-1-and-lada/5': 1, '/c/type-2/9': 1, '/c/diabetes-and-pregnancy/12': 1, '/c/community/16': 1, '/c/food/25': 1, '/c/treatment/20': 1, '/c/diabetes-technology/28': 1, '/c/healthy-living/32': 1, '/c/diabetes-complications-and-other-conditions/36': 1, '/c/mental-and-emotional-wellness/35': 1, '/c/diabetes-advocacy/42': 1, '/c/covid-19/74': 1})\n"
          ],
          "name": "stdout"
        }
      ]
    },
    {
      "cell_type": "code",
      "metadata": {
        "id": "6CgWoQrjD6c7"
      },
      "source": [
        "dic_c_links = dict(zip(cat, c_links))\n",
        "lastHeight = driver.execute_script('return document.body.scrollHeight')\n",
        "test_link=[]\n",
        "for k,v in dic_c_links.items():\n",
        "    threadUrl = BASE_URL + v\n",
        "    test_link.append(threadUrl)\n",
        "dic = dict(zip(cat, test_link))\n"
      ],
      "execution_count": null,
      "outputs": []
    },
    {
      "cell_type": "code",
      "metadata": {
        "colab": {
          "base_uri": "https://localhost:8080/"
        },
        "id": "k1GZjmfMF7dH",
        "outputId": "863a6df3-020f-40fd-b437-c9ac71aee216"
      },
      "source": [
        "dic"
      ],
      "execution_count": null,
      "outputs": [
        {
          "output_type": "execute_result",
          "data": {
            "text/plain": [
              "{'COVID-19': 'https://forum.tudiabetes.org//c/covid-19/74',\n",
              " 'Community': 'https://forum.tudiabetes.org//c/community/16',\n",
              " 'Diabetes Advocacy': 'https://forum.tudiabetes.org//c/diabetes-advocacy/42',\n",
              " 'Diabetes Complications and other Conditions': 'https://forum.tudiabetes.org//c/diabetes-complications-and-other-conditions/36',\n",
              " 'Diabetes Technology': 'https://forum.tudiabetes.org//c/diabetes-technology/28',\n",
              " 'Diabetes and Pregnancy': 'https://forum.tudiabetes.org//c/diabetes-and-pregnancy/12',\n",
              " 'Food': 'https://forum.tudiabetes.org//c/food/25',\n",
              " 'Healthy Living': 'https://forum.tudiabetes.org//c/healthy-living/32',\n",
              " 'Mental and Emotional Wellness': 'https://forum.tudiabetes.org//c/mental-and-emotional-wellness/35',\n",
              " 'Social Clubs': 'https://forum.tudiabetes.org//c/social-clubs/60',\n",
              " 'Treatment': 'https://forum.tudiabetes.org//c/treatment/20',\n",
              " 'TuDiabetes Website': 'https://forum.tudiabetes.org//c/meta/3',\n",
              " 'Type 1 and LADA': 'https://forum.tudiabetes.org//c/type-1-and-lada/5',\n",
              " 'Type 2': 'https://forum.tudiabetes.org//c/type-2/9',\n",
              " 'Welcome': 'https://forum.tudiabetes.org//c/welcome/56'}"
            ]
          },
          "metadata": {
            "tags": []
          },
          "execution_count": 122
        }
      ]
    },
    {
      "cell_type": "markdown",
      "metadata": {
        "id": "rXeGlkfRTlJx"
      },
      "source": [
        "# Sub_cat_links"
      ]
    },
    {
      "cell_type": "code",
      "metadata": {
        "id": "hPC00UCBRua_"
      },
      "source": [
        "wd.get('https://forum.tudiabetes.org//c/covid-19/74')\n",
        "sub_cat_links = []\n",
        "cat=[]\n",
        "scrolls = 1\n",
        "# Get the initial height of the webpage\n",
        "for k,v in dic.items():\n",
        "  scrolls -= 1\n",
        "  lastHeight = driver.execute_script('return document.body.scrollHeight')\n",
        "  wd.get(v)\n",
        "  # the while loop is to check whether you reach the very bottom of the webpage\n",
        "  while True:\n",
        "      # tell selenium to scroll down to the current bottom of webpage\n",
        "      scrolls -= 1\n",
        "      wd.execute_script(\"window.scrollTo(arguments[0], document.body.scrollHeight);\",lastHeight)\n",
        "      # Parse html with beautifulSoup\n",
        "      soup = BeautifulSoup(wd.page_source,'lxml')\n",
        "      # locate the html section with posts\n",
        "      body = soup.find('body')\n",
        "      # get all hyperlinks of threads\n",
        "      all_a = body.findAll('a',{'class':'title raw-link raw-topic-link'})\n",
        "      for a in all_a:\n",
        "          post_link = a.get('href')\n",
        "        \n",
        "          sub_cat_links.append(BASE_URL+post_link)\n",
        "          cat.append(k)\n",
        "\n",
        "      if scrolls < 0:\n",
        "        break\n"
      ],
      "execution_count": null,
      "outputs": []
    },
    {
      "cell_type": "code",
      "metadata": {
        "colab": {
          "base_uri": "https://localhost:8080/",
          "height": 406
        },
        "id": "4AOCbmI2THHU",
        "outputId": "a082c7db-7d80-45bc-e451-e3e2ae6813aa"
      },
      "source": [
        "posts_dict = {}\n",
        "posts_dict['category'] = cat\n",
        "posts_dict['links'] = sub_cat_links\n",
        "posts_dict\n",
        "import pandas as pd\n",
        "df_link = pd.DataFrame.from_dict(posts_dict)\n",
        "df_link"
      ],
      "execution_count": null,
      "outputs": [
        {
          "output_type": "execute_result",
          "data": {
            "text/html": [
              "<div>\n",
              "<style scoped>\n",
              "    .dataframe tbody tr th:only-of-type {\n",
              "        vertical-align: middle;\n",
              "    }\n",
              "\n",
              "    .dataframe tbody tr th {\n",
              "        vertical-align: top;\n",
              "    }\n",
              "\n",
              "    .dataframe thead th {\n",
              "        text-align: right;\n",
              "    }\n",
              "</style>\n",
              "<table border=\"1\" class=\"dataframe\">\n",
              "  <thead>\n",
              "    <tr style=\"text-align: right;\">\n",
              "      <th></th>\n",
              "      <th>category</th>\n",
              "      <th>links</th>\n",
              "    </tr>\n",
              "  </thead>\n",
              "  <tbody>\n",
              "    <tr>\n",
              "      <th>0</th>\n",
              "      <td>Social Clubs</td>\n",
              "      <td>https://forum.tudiabetes.org//t/about-the-soci...</td>\n",
              "    </tr>\n",
              "    <tr>\n",
              "      <th>1</th>\n",
              "      <td>Social Clubs</td>\n",
              "      <td>https://forum.tudiabetes.org//t/latest-movie-y...</td>\n",
              "    </tr>\n",
              "    <tr>\n",
              "      <th>2</th>\n",
              "      <td>Social Clubs</td>\n",
              "      <td>https://forum.tudiabetes.org//t/anyone-doing-t...</td>\n",
              "    </tr>\n",
              "    <tr>\n",
              "      <th>3</th>\n",
              "      <td>Social Clubs</td>\n",
              "      <td>https://forum.tudiabetes.org//t/embroidery-jus...</td>\n",
              "    </tr>\n",
              "    <tr>\n",
              "      <th>4</th>\n",
              "      <td>Social Clubs</td>\n",
              "      <td>https://forum.tudiabetes.org//t/home-theatre/7...</td>\n",
              "    </tr>\n",
              "    <tr>\n",
              "      <th>...</th>\n",
              "      <td>...</td>\n",
              "      <td>...</td>\n",
              "    </tr>\n",
              "    <tr>\n",
              "      <th>471</th>\n",
              "      <td>COVID-19</td>\n",
              "      <td>https://forum.tudiabetes.org//t/type-1-and-cov...</td>\n",
              "    </tr>\n",
              "    <tr>\n",
              "      <th>472</th>\n",
              "      <td>COVID-19</td>\n",
              "      <td>https://forum.tudiabetes.org//t/covid-19-risk-...</td>\n",
              "    </tr>\n",
              "    <tr>\n",
              "      <th>473</th>\n",
              "      <td>COVID-19</td>\n",
              "      <td>https://forum.tudiabetes.org//t/can-covid-caus...</td>\n",
              "    </tr>\n",
              "    <tr>\n",
              "      <th>474</th>\n",
              "      <td>COVID-19</td>\n",
              "      <td>https://forum.tudiabetes.org//t/covid-19-news-...</td>\n",
              "    </tr>\n",
              "    <tr>\n",
              "      <th>475</th>\n",
              "      <td>COVID-19</td>\n",
              "      <td>https://forum.tudiabetes.org//t/covid-19-strai...</td>\n",
              "    </tr>\n",
              "  </tbody>\n",
              "</table>\n",
              "<p>476 rows × 2 columns</p>\n",
              "</div>"
            ],
            "text/plain": [
              "         category                                              links\n",
              "0    Social Clubs  https://forum.tudiabetes.org//t/about-the-soci...\n",
              "1    Social Clubs  https://forum.tudiabetes.org//t/latest-movie-y...\n",
              "2    Social Clubs  https://forum.tudiabetes.org//t/anyone-doing-t...\n",
              "3    Social Clubs  https://forum.tudiabetes.org//t/embroidery-jus...\n",
              "4    Social Clubs  https://forum.tudiabetes.org//t/home-theatre/7...\n",
              "..            ...                                                ...\n",
              "471      COVID-19  https://forum.tudiabetes.org//t/type-1-and-cov...\n",
              "472      COVID-19  https://forum.tudiabetes.org//t/covid-19-risk-...\n",
              "473      COVID-19  https://forum.tudiabetes.org//t/can-covid-caus...\n",
              "474      COVID-19  https://forum.tudiabetes.org//t/covid-19-news-...\n",
              "475      COVID-19  https://forum.tudiabetes.org//t/covid-19-strai...\n",
              "\n",
              "[476 rows x 2 columns]"
            ]
          },
          "metadata": {
            "tags": []
          },
          "execution_count": 251
        }
      ]
    },
    {
      "cell_type": "code",
      "metadata": {
        "colab": {
          "base_uri": "https://localhost:8080/"
        },
        "id": "ahinlVvAecal",
        "outputId": "bed82542-d79e-49bc-b69b-e5717ca7ae79"
      },
      "source": [
        "df_link['category'].unique()"
      ],
      "execution_count": null,
      "outputs": [
        {
          "output_type": "execute_result",
          "data": {
            "text/plain": [
              "array(['Social Clubs', 'TuDiabetes Website', 'Welcome', 'Type 1 and LADA',\n",
              "       'Type 2', 'Diabetes and Pregnancy', 'Community', 'Food',\n",
              "       'Treatment', 'Diabetes Technology', 'Healthy Living',\n",
              "       'Diabetes Complications and other Conditions',\n",
              "       'Mental and Emotional Wellness', 'Diabetes Advocacy', 'COVID-19'],\n",
              "      dtype=object)"
            ]
          },
          "metadata": {
            "tags": []
          },
          "execution_count": 253
        }
      ]
    },
    {
      "cell_type": "code",
      "metadata": {
        "colab": {
          "base_uri": "https://localhost:8080/"
        },
        "id": "k1Dx2n47eV83",
        "outputId": "0ffe2c15-be8a-43ab-cf1e-4f84c125f626"
      },
      "source": [
        "import collections\n",
        "\n",
        "counter=collections.Counter(cat)\n",
        "print(counter)"
      ],
      "execution_count": null,
      "outputs": [
        {
          "output_type": "stream",
          "text": [
            "Counter({'Healthy Living': 60, 'TuDiabetes Website': 30, 'Welcome': 30, 'Type 1 and LADA': 30, 'Type 2': 30, 'Diabetes and Pregnancy': 30, 'Community': 30, 'Food': 30, 'Treatment': 30, 'Diabetes Technology': 30, 'Diabetes Complications and other Conditions': 30, 'Mental and Emotional Wellness': 30, 'Diabetes Advocacy': 30, 'COVID-19': 30, 'Social Clubs': 26})\n"
          ],
          "name": "stdout"
        }
      ]
    },
    {
      "cell_type": "markdown",
      "metadata": {
        "id": "rGpDGPs0JWg-"
      },
      "source": [
        "# Extract everything from SubCat Links"
      ]
    },
    {
      "cell_type": "code",
      "metadata": {
        "id": "a2VkRhtTJffZ"
      },
      "source": [
        "import re\n",
        "cats=[]\n",
        "titles = []\n",
        "tags = []\n",
        "names = []\n",
        "likes = []\n",
        "posts = []\n",
        "dates = []\n",
        "# for url in post_links:\n",
        "# Get the initial height of the webpage\n",
        "lastHeight = driver.execute_script('return document.body.scrollHeight')\n",
        "# scrolls = 1\n",
        "scrolls = len(df_link)\n",
        "\n",
        "for index, row in df_link.iterrows():\n",
        "    scrolls -= 1\n",
        "    wd1.get(row['links'])\n",
        "    soup = BeautifulSoup(wd1.page_source, 'lxml')\n",
        "    driver.execute_script(\"window.scrollTo(arguments[0], document.body.scrollHeight);\",lastHeight)\n",
        "    \n",
        "    # get title\n",
        "    title = soup.find('a', {'class': 'fancy-title'}).getText().strip()\n",
        "    print(title)\n",
        "    \n",
        "    # get category\n",
        "    cat_class = soup.find('div', {'class': 'title-wrapper'})\n",
        "   \n",
        "\n",
        "    if cat_class.find('span',{'class':'category-name'}) is not None:\n",
        "      tag=cat_class.find('span',{'class':'category-name'}).getText()\n",
        "    else:\n",
        "      tag=0\n",
        "    #use a regular expression to match all posts in the thread, including the opening post\n",
        "    for reply in soup.findAll('div',{'class':re.compile('topic-post clearfix')}): \n",
        "        names.append(reply.find('div',{'class':'names trigger-user-card'}).getText())\n",
        "        posts.append(reply.find('div',{'class':'cooked'}).getText())            \n",
        "        dates.append(reply.find('div',{'class':'post-info post-date'}).getText())\n",
        "        # likes.append(reply.find('div',{'class':'double-button'}).getText())\n",
        "        if reply.find('div',{'class':'double-button'}) is not None:\n",
        "            likes.append(reply.find('div',{'class':'double-button'}).getText())\n",
        "        else:\n",
        "            likes.append(0)\n",
        "        titles.append(title)\n",
        "        tags.append(tag)\n",
        "        cats.append(row['category'])\n",
        "        print(row['category'])\n",
        "    # time.sleep(3)\n",
        "    if scrolls < 0:\n",
        "        break\n",
        " "
      ],
      "execution_count": null,
      "outputs": []
    },
    {
      "cell_type": "code",
      "metadata": {
        "colab": {
          "base_uri": "https://localhost:8080/",
          "height": 406
        },
        "id": "oVrY5THfZPts",
        "outputId": "ad9bd3f7-7238-46a4-fefe-ad9ee3c754a1"
      },
      "source": [
        "posts_dict = {}\n",
        "posts_dict['title'] = titles\n",
        "posts_dict['catagory'] = cats\n",
        "posts_dict['tags']=tags\n",
        "posts_dict['name'] = names\n",
        "posts_dict['likes'] = likes\n",
        "posts_dict['content'] = posts\n",
        "posts_dict['date'] = dates \n",
        "import pandas as pd\n",
        "df = pd.DataFrame.from_dict(posts_dict)\n",
        "df"
      ],
      "execution_count": null,
      "outputs": [
        {
          "output_type": "execute_result",
          "data": {
            "text/html": [
              "<div>\n",
              "<style scoped>\n",
              "    .dataframe tbody tr th:only-of-type {\n",
              "        vertical-align: middle;\n",
              "    }\n",
              "\n",
              "    .dataframe tbody tr th {\n",
              "        vertical-align: top;\n",
              "    }\n",
              "\n",
              "    .dataframe thead th {\n",
              "        text-align: right;\n",
              "    }\n",
              "</style>\n",
              "<table border=\"1\" class=\"dataframe\">\n",
              "  <thead>\n",
              "    <tr style=\"text-align: right;\">\n",
              "      <th></th>\n",
              "      <th>title</th>\n",
              "      <th>catagory</th>\n",
              "      <th>tags</th>\n",
              "      <th>name</th>\n",
              "      <th>likes</th>\n",
              "      <th>content</th>\n",
              "      <th>date</th>\n",
              "    </tr>\n",
              "  </thead>\n",
              "  <tbody>\n",
              "    <tr>\n",
              "      <th>0</th>\n",
              "      <td>About the Social Clubs category</td>\n",
              "      <td>Social Clubs</td>\n",
              "      <td>Social Clubs</td>\n",
              "      <td>Stemwinder_GaryType 2</td>\n",
              "      <td></td>\n",
              "      <td>Social Clubs are places for people with simila...</td>\n",
              "      <td>Jul '18</td>\n",
              "    </tr>\n",
              "    <tr>\n",
              "      <th>1</th>\n",
              "      <td>Latest Movie You’ve Seen?</td>\n",
              "      <td>Social Clubs</td>\n",
              "      <td>Social Clubs</td>\n",
              "      <td>Carly2</td>\n",
              "      <td></td>\n",
              "      <td>Hi Everyone,\\nWhat is the latest movie that yo...</td>\n",
              "      <td>Mar '19</td>\n",
              "    </tr>\n",
              "    <tr>\n",
              "      <th>2</th>\n",
              "      <td>Latest Movie You’ve Seen?</td>\n",
              "      <td>Social Clubs</td>\n",
              "      <td>Social Clubs</td>\n",
              "      <td>Rphil2Type 1 or LADA</td>\n",
              "      <td></td>\n",
              "      <td>My wife and I see about one movie a week.  Las...</td>\n",
              "      <td>Mar '19</td>\n",
              "    </tr>\n",
              "    <tr>\n",
              "      <th>3</th>\n",
              "      <td>Latest Movie You’ve Seen?</td>\n",
              "      <td>Social Clubs</td>\n",
              "      <td>Social Clubs</td>\n",
              "      <td>Carly2</td>\n",
              "      <td></td>\n",
              "      <td>Thanks for your suggestions Rphil2.\\nI managed...</td>\n",
              "      <td>Apr '19</td>\n",
              "    </tr>\n",
              "    <tr>\n",
              "      <th>4</th>\n",
              "      <td>Latest Movie You’ve Seen?</td>\n",
              "      <td>Social Clubs</td>\n",
              "      <td>Social Clubs</td>\n",
              "      <td>Rphil2Type 1 or LADA</td>\n",
              "      <td></td>\n",
              "      <td>If you add \"A Star is born\"I predict you will ...</td>\n",
              "      <td>Apr '19</td>\n",
              "    </tr>\n",
              "    <tr>\n",
              "      <th>...</th>\n",
              "      <td>...</td>\n",
              "      <td>...</td>\n",
              "      <td>...</td>\n",
              "      <td>...</td>\n",
              "      <td>...</td>\n",
              "      <td>...</td>\n",
              "      <td>...</td>\n",
              "    </tr>\n",
              "    <tr>\n",
              "      <th>5000</th>\n",
              "      <td>Covid-19 News for Health</td>\n",
              "      <td>COVID-19</td>\n",
              "      <td>COVID-19</td>\n",
              "      <td>The_Senator_From_Glu</td>\n",
              "      <td></td>\n",
              "      <td>When the lockdown occurred, buses went from, o...</td>\n",
              "      <td>May '20</td>\n",
              "    </tr>\n",
              "    <tr>\n",
              "      <th>5001</th>\n",
              "      <td>Covid-19 News for Health</td>\n",
              "      <td>COVID-19</td>\n",
              "      <td>COVID-19</td>\n",
              "      <td>CJ114</td>\n",
              "      <td></td>\n",
              "      <td>\\n\\n\\n The_Senator_From_Glu:\\n\\nAlso, I expect...</td>\n",
              "      <td>May '20</td>\n",
              "    </tr>\n",
              "    <tr>\n",
              "      <th>5002</th>\n",
              "      <td>COVID-19: Straight Answers from Top Epidemiolo...</td>\n",
              "      <td>COVID-19</td>\n",
              "      <td>COVID-19</td>\n",
              "      <td>Jim_in_CalgaryType 1 or LADA</td>\n",
              "      <td>6</td>\n",
              "      <td>from interview conducted on May 29, 2020. Publ...</td>\n",
              "      <td>Jun '20</td>\n",
              "    </tr>\n",
              "    <tr>\n",
              "      <th>5003</th>\n",
              "      <td>COVID-19: Straight Answers from Top Epidemiolo...</td>\n",
              "      <td>COVID-19</td>\n",
              "      <td>COVID-19</td>\n",
              "      <td>katers87</td>\n",
              "      <td>1</td>\n",
              "      <td>Yes, I’m glad you posted this. I’m eating up a...</td>\n",
              "      <td>Jun '20</td>\n",
              "    </tr>\n",
              "    <tr>\n",
              "      <th>5004</th>\n",
              "      <td>COVID-19: Straight Answers from Top Epidemiolo...</td>\n",
              "      <td>COVID-19</td>\n",
              "      <td>COVID-19</td>\n",
              "      <td>meeeType 1 or LADA</td>\n",
              "      <td></td>\n",
              "      <td>We should have completely locked down with onl...</td>\n",
              "      <td>Jun '20</td>\n",
              "    </tr>\n",
              "  </tbody>\n",
              "</table>\n",
              "<p>5005 rows × 7 columns</p>\n",
              "</div>"
            ],
            "text/plain": [
              "                                                  title  ...     date\n",
              "0                       About the Social Clubs category  ...  Jul '18\n",
              "1                             Latest Movie You’ve Seen?  ...  Mar '19\n",
              "2                             Latest Movie You’ve Seen?  ...  Mar '19\n",
              "3                             Latest Movie You’ve Seen?  ...  Apr '19\n",
              "4                             Latest Movie You’ve Seen?  ...  Apr '19\n",
              "...                                                 ...  ...      ...\n",
              "5000                           Covid-19 News for Health  ...  May '20\n",
              "5001                           Covid-19 News for Health  ...  May '20\n",
              "5002  COVID-19: Straight Answers from Top Epidemiolo...  ...  Jun '20\n",
              "5003  COVID-19: Straight Answers from Top Epidemiolo...  ...  Jun '20\n",
              "5004  COVID-19: Straight Answers from Top Epidemiolo...  ...  Jun '20\n",
              "\n",
              "[5005 rows x 7 columns]"
            ]
          },
          "metadata": {
            "tags": []
          },
          "execution_count": 256
        }
      ]
    },
    {
      "cell_type": "markdown",
      "metadata": {
        "id": "q-N29LdxJqpl"
      },
      "source": [
        "# Check for duplicates"
      ]
    },
    {
      "cell_type": "code",
      "metadata": {
        "colab": {
          "base_uri": "https://localhost:8080/",
          "height": 406
        },
        "id": "iJD6RHaNfXUa",
        "outputId": "cb32be94-2ef8-4e88-83b9-ba5290ae4302"
      },
      "source": [
        "df_nodup=df.drop_duplicates()\n",
        "df_nodup"
      ],
      "execution_count": null,
      "outputs": [
        {
          "output_type": "execute_result",
          "data": {
            "text/html": [
              "<div>\n",
              "<style scoped>\n",
              "    .dataframe tbody tr th:only-of-type {\n",
              "        vertical-align: middle;\n",
              "    }\n",
              "\n",
              "    .dataframe tbody tr th {\n",
              "        vertical-align: top;\n",
              "    }\n",
              "\n",
              "    .dataframe thead th {\n",
              "        text-align: right;\n",
              "    }\n",
              "</style>\n",
              "<table border=\"1\" class=\"dataframe\">\n",
              "  <thead>\n",
              "    <tr style=\"text-align: right;\">\n",
              "      <th></th>\n",
              "      <th>title</th>\n",
              "      <th>catagory</th>\n",
              "      <th>tags</th>\n",
              "      <th>name</th>\n",
              "      <th>likes</th>\n",
              "      <th>content</th>\n",
              "      <th>date</th>\n",
              "    </tr>\n",
              "  </thead>\n",
              "  <tbody>\n",
              "    <tr>\n",
              "      <th>0</th>\n",
              "      <td>About the Social Clubs category</td>\n",
              "      <td>Social Clubs</td>\n",
              "      <td>Social Clubs</td>\n",
              "      <td>Stemwinder_GaryType 2</td>\n",
              "      <td></td>\n",
              "      <td>Social Clubs are places for people with simila...</td>\n",
              "      <td>Jul '18</td>\n",
              "    </tr>\n",
              "    <tr>\n",
              "      <th>1</th>\n",
              "      <td>Latest Movie You’ve Seen?</td>\n",
              "      <td>Social Clubs</td>\n",
              "      <td>Social Clubs</td>\n",
              "      <td>Carly2</td>\n",
              "      <td></td>\n",
              "      <td>Hi Everyone,\\nWhat is the latest movie that yo...</td>\n",
              "      <td>Mar '19</td>\n",
              "    </tr>\n",
              "    <tr>\n",
              "      <th>2</th>\n",
              "      <td>Latest Movie You’ve Seen?</td>\n",
              "      <td>Social Clubs</td>\n",
              "      <td>Social Clubs</td>\n",
              "      <td>Rphil2Type 1 or LADA</td>\n",
              "      <td></td>\n",
              "      <td>My wife and I see about one movie a week.  Las...</td>\n",
              "      <td>Mar '19</td>\n",
              "    </tr>\n",
              "    <tr>\n",
              "      <th>3</th>\n",
              "      <td>Latest Movie You’ve Seen?</td>\n",
              "      <td>Social Clubs</td>\n",
              "      <td>Social Clubs</td>\n",
              "      <td>Carly2</td>\n",
              "      <td></td>\n",
              "      <td>Thanks for your suggestions Rphil2.\\nI managed...</td>\n",
              "      <td>Apr '19</td>\n",
              "    </tr>\n",
              "    <tr>\n",
              "      <th>4</th>\n",
              "      <td>Latest Movie You’ve Seen?</td>\n",
              "      <td>Social Clubs</td>\n",
              "      <td>Social Clubs</td>\n",
              "      <td>Rphil2Type 1 or LADA</td>\n",
              "      <td></td>\n",
              "      <td>If you add \"A Star is born\"I predict you will ...</td>\n",
              "      <td>Apr '19</td>\n",
              "    </tr>\n",
              "    <tr>\n",
              "      <th>...</th>\n",
              "      <td>...</td>\n",
              "      <td>...</td>\n",
              "      <td>...</td>\n",
              "      <td>...</td>\n",
              "      <td>...</td>\n",
              "      <td>...</td>\n",
              "      <td>...</td>\n",
              "    </tr>\n",
              "    <tr>\n",
              "      <th>5000</th>\n",
              "      <td>Covid-19 News for Health</td>\n",
              "      <td>COVID-19</td>\n",
              "      <td>COVID-19</td>\n",
              "      <td>The_Senator_From_Glu</td>\n",
              "      <td></td>\n",
              "      <td>When the lockdown occurred, buses went from, o...</td>\n",
              "      <td>May '20</td>\n",
              "    </tr>\n",
              "    <tr>\n",
              "      <th>5001</th>\n",
              "      <td>Covid-19 News for Health</td>\n",
              "      <td>COVID-19</td>\n",
              "      <td>COVID-19</td>\n",
              "      <td>CJ114</td>\n",
              "      <td></td>\n",
              "      <td>\\n\\n\\n The_Senator_From_Glu:\\n\\nAlso, I expect...</td>\n",
              "      <td>May '20</td>\n",
              "    </tr>\n",
              "    <tr>\n",
              "      <th>5002</th>\n",
              "      <td>COVID-19: Straight Answers from Top Epidemiolo...</td>\n",
              "      <td>COVID-19</td>\n",
              "      <td>COVID-19</td>\n",
              "      <td>Jim_in_CalgaryType 1 or LADA</td>\n",
              "      <td>6</td>\n",
              "      <td>from interview conducted on May 29, 2020. Publ...</td>\n",
              "      <td>Jun '20</td>\n",
              "    </tr>\n",
              "    <tr>\n",
              "      <th>5003</th>\n",
              "      <td>COVID-19: Straight Answers from Top Epidemiolo...</td>\n",
              "      <td>COVID-19</td>\n",
              "      <td>COVID-19</td>\n",
              "      <td>katers87</td>\n",
              "      <td>1</td>\n",
              "      <td>Yes, I’m glad you posted this. I’m eating up a...</td>\n",
              "      <td>Jun '20</td>\n",
              "    </tr>\n",
              "    <tr>\n",
              "      <th>5004</th>\n",
              "      <td>COVID-19: Straight Answers from Top Epidemiolo...</td>\n",
              "      <td>COVID-19</td>\n",
              "      <td>COVID-19</td>\n",
              "      <td>meeeType 1 or LADA</td>\n",
              "      <td></td>\n",
              "      <td>We should have completely locked down with onl...</td>\n",
              "      <td>Jun '20</td>\n",
              "    </tr>\n",
              "  </tbody>\n",
              "</table>\n",
              "<p>5005 rows × 7 columns</p>\n",
              "</div>"
            ],
            "text/plain": [
              "                                                  title  ...     date\n",
              "0                       About the Social Clubs category  ...  Jul '18\n",
              "1                             Latest Movie You’ve Seen?  ...  Mar '19\n",
              "2                             Latest Movie You’ve Seen?  ...  Mar '19\n",
              "3                             Latest Movie You’ve Seen?  ...  Apr '19\n",
              "4                             Latest Movie You’ve Seen?  ...  Apr '19\n",
              "...                                                 ...  ...      ...\n",
              "5000                           Covid-19 News for Health  ...  May '20\n",
              "5001                           Covid-19 News for Health  ...  May '20\n",
              "5002  COVID-19: Straight Answers from Top Epidemiolo...  ...  Jun '20\n",
              "5003  COVID-19: Straight Answers from Top Epidemiolo...  ...  Jun '20\n",
              "5004  COVID-19: Straight Answers from Top Epidemiolo...  ...  Jun '20\n",
              "\n",
              "[5005 rows x 7 columns]"
            ]
          },
          "metadata": {
            "tags": []
          },
          "execution_count": 257
        }
      ]
    },
    {
      "cell_type": "code",
      "metadata": {
        "colab": {
          "base_uri": "https://localhost:8080/"
        },
        "id": "0gT8R8CafbEt",
        "outputId": "95feff06-bac4-4c16-a377-929789298c46"
      },
      "source": [
        "df_nodup['catagory'].value_counts(dropna=True, sort=True)"
      ],
      "execution_count": null,
      "outputs": [
        {
          "output_type": "execute_result",
          "data": {
            "text/plain": [
              "Healthy Living                                 602\n",
              "Mental and Emotional Wellness                  435\n",
              "Diabetes Complications and other Conditions    375\n",
              "Food                                           353\n",
              "Community                                      347\n",
              "Type 1 and LADA                                346\n",
              "Diabetes Advocacy                              344\n",
              "COVID-19                                       339\n",
              "Diabetes Technology                            336\n",
              "Type 2                                         329\n",
              "Welcome                                        329\n",
              "Treatment                                      318\n",
              "TuDiabetes Website                             244\n",
              "Diabetes and Pregnancy                         244\n",
              "Social Clubs                                    64\n",
              "Name: catagory, dtype: int64"
            ]
          },
          "metadata": {
            "tags": []
          },
          "execution_count": 260
        }
      ]
    },
    {
      "cell_type": "code",
      "metadata": {
        "colab": {
          "base_uri": "https://localhost:8080/"
        },
        "id": "48WR1-20fgRJ",
        "outputId": "b12de02f-0670-4a4a-eaec-ea9962dab100"
      },
      "source": [
        "cd /gdrive/MyDrive/Stemaway/Module2_notebook/results"
      ],
      "execution_count": null,
      "outputs": [
        {
          "output_type": "stream",
          "text": [
            "/gdrive/MyDrive/Stemaway/Module2_notebook/results\n"
          ],
          "name": "stdout"
        }
      ]
    },
    {
      "cell_type": "code",
      "metadata": {
        "id": "KKZuIFE2fa6a"
      },
      "source": [
        "df_nodup.to_csv('MyDF_final.csv')"
      ],
      "execution_count": null,
      "outputs": []
    },
    {
      "cell_type": "markdown",
      "metadata": {
        "id": "hDbJD5n_bd-X"
      },
      "source": [
        ""
      ]
    }
  ]
}